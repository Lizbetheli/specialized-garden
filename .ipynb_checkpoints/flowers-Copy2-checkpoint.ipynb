{
 "cells": [
  {
   "cell_type": "code",
   "execution_count": 18,
   "metadata": {},
   "outputs": [],
   "source": [
    "# Dependencies\n",
    "from bs4 import BeautifulSoup\n",
    "from splinter import Browser\n",
    "import pandas as pd"
   ]
  },
  {
   "cell_type": "code",
   "execution_count": 19,
   "metadata": {},
   "outputs": [],
   "source": [
    "executable_path = {'executable_path': 'chromedriver.exe'}\n",
    "browser = Browser('chrome', **executable_path, headless=False)\n"
   ]
  },
  {
   "cell_type": "code",
   "execution_count": 20,
   "metadata": {},
   "outputs": [],
   "source": [
    "url = 'https://www.proflowers.com/blog/types-of-flowers'\n",
    "browser.visit(url)"
   ]
  },
  {
   "cell_type": "code",
   "execution_count": 67,
   "metadata": {},
   "outputs": [
    {
     "data": {
      "text/plain": [
       "[]"
      ]
     },
     "execution_count": 67,
     "metadata": {},
     "output_type": "execute_result"
    }
   ],
   "source": [
    "html = browser.html\n",
    "soup = BeautifulSoup(html, 'html.parser')\n",
    "flower_list=[]\n",
    "\n",
    "for soup in flower_list:\n",
    "    pic_flower=soup.find('img', class_='img-circle aligncenter lazyloaded')\n",
    "    name_flower=soup.find('div', class_='col-sm-2').text\n",
    "    flower_details=soup.find('div', class_='row flower_details').text\n",
    "    print(name_flower)\n",
    "    print(pic_flower)\n",
    "    print(flower_details)\n",
    "    print('------')\n",
    "flower_list"
   ]
  },
  {
   "cell_type": "code",
   "execution_count": 62,
   "metadata": {},
   "outputs": [
    {
     "name": "stdout",
     "output_type": "stream",
     "text": [
      "[{'names': <div class=\"col-sm-2\">\n",
      "<img class=\"img-circle aligncenter lazyloaded\" data-src=\"https://www.proflowers.com/blog/wp-content/plugins/pf-flowertypes/image/winter-aconite-720790.jpg\" src=\"https://www.proflowers.com/blog/wp-content/plugins/pf-flowertypes/image/winter-aconite-720790.jpg\"/><noscript><img class=\"img-circle aligncenter\" src=\"https://www.proflowers.com/blog/wp-content/plugins/pf-flowertypes/image/winter-aconite-720790.jpg\"/></noscript>\n",
      "<h3 class=\"flower_name\">Aconite</h3>\n",
      "</div>, 'images': <img class=\"img-circle aligncenter lazyloaded\" data-src=\"https://www.proflowers.com/blog/wp-content/plugins/pf-flowertypes/image/winter-aconite-720790.jpg\" src=\"https://www.proflowers.com/blog/wp-content/plugins/pf-flowertypes/image/winter-aconite-720790.jpg\"/>, 'descriptions': <div class=\"row flower_details\">\n",
      "<div class=\"col-lg-2 col-sm-4\">\n",
      "<p class=\"details_title\">Sun Needs</p>\n",
      "<p class=\"details_info\">Partial Shade</p>\n",
      "</div>\n",
      "<div class=\"col-lg-2 col-sm-4\">\n",
      "<p class=\"details_title\">Soil Needs</p>\n",
      "<p class=\"details_info\">Well-drained</p>\n",
      "</div>\n",
      "<div class=\"col-lg-2 col-sm-4\">\n",
      "<p class=\"details_title\">Zones</p>\n",
      "<p class=\"details_info\">4 - 9</p>\n",
      "</div>\n",
      "<div class=\"col-lg-2 col-sm-4\">\n",
      "<p class=\"details_title\">Height</p>\n",
      "<p class=\"details_info\">0.25 - 0.5 feet</p>\n",
      "</div>\n",
      "<div class=\"col-lg-2 col-sm-4\">\n",
      "<p class=\"details_title\">Blooms in</p>\n",
      "<p class=\"details_info\">Early Spring</p>\n",
      "</div>\n",
      "<div class=\"col-lg-2 col-sm-4\">\n",
      "<p class=\"details_title\">Features</p>\n",
      "<p class=\"details_info\">Deer resistant</p>\n",
      "</div>\n",
      "</div>}]\n"
     ]
    }
   ],
   "source": [
    "flower_list = soup.find_all('div', class_=\"entry-content col-md-offset-1 col-md-10 col-lg-offset-2 col-lg-8\")\n",
    "flowers_info=[] \n",
    "\n",
    "\n",
    "for x in flower_list:\n",
    "    names= x.find('div', class_='col-sm-2')\n",
    "    images=x.find('img', class_='img-circle aligncenter lazyloaded')\n",
    "    descriptions=x.find('div', class_='row flower_details')\n",
    "flowers_info.append({\"names\":names, \"images\": images, \"descriptions\": descriptions})\n",
    "print(flowers_info)"
   ]
  },
  {
   "cell_type": "code",
   "execution_count": 36,
   "metadata": {},
   "outputs": [],
   "source": [
    "def scrape_news():\n",
    "    browser = home()\n",
    "\n",
    "    url = 'https://www.proflowers.com/blog/types-of-flowers'\n",
    "    browser.visit(url)\n",
    "    html = browser.html\n",
    "    soup = BeautifulSoup(html, 'html.parser')\n",
    "        \n",
    "    try:  \n",
    "        name_flower=soup.find_all('div', class_='col-sm-2')\n",
    "        pic_flower=soup.find_all('img', class_='img-circle aligncenter lazyloaded')\n",
    "        flower_details=soup.find_all('div', class_='row flower_details')\n",
    "\n",
    "    except AttributeError:\n",
    "        return None, None\n",
    "    \n",
    "    browser.quit()\n",
    "    \n",
    "    return name_flower, flower_details, pic_flower"
   ]
  },
  {
   "cell_type": "code",
   "execution_count": null,
   "metadata": {},
   "outputs": [],
   "source": []
  },
  {
   "cell_type": "code",
   "execution_count": 15,
   "metadata": {},
   "outputs": [],
   "source": [
    "html = browser.html\n",
    "soup = BeautifulSoup(html, 'html.parser')\n",
    "results = soup.find_all('div', class_=\"entry-content col-md-offset-1 col-md-10 col-lg-offset-2 col-lg-8\")\n",
    "flowers= []\n",
    "\n",
    "# Loop through returned results\n",
    "for result in results:\n",
    "    try:\n",
    "        name_flower=soup.find_all('div', class_='col-sm-2')\n",
    "        pic_flower=soup.find_all('img', class_='img-circle aligncenter lazyloaded')\n",
    "        flower_details=soup.find_all('div', class_='row flower_details')\n",
    "\n",
    "        if (pic_flower and name_flower and flower_details):\n",
    "            print('-------------')\n",
    "            print(pic_flower)\n",
    "            print(name_flower)\n",
    "            print(flower_details)\n",
    "    except AttributeError as e:\n",
    "        print(e)"
   ]
  },
  {
   "cell_type": "code",
   "execution_count": null,
   "metadata": {},
   "outputs": [],
   "source": []
  },
  {
   "cell_type": "code",
   "execution_count": null,
   "metadata": {},
   "outputs": [],
   "source": [
    "def init_browser():\n",
    "    # @NOTE: Replace the path with your actual path to the chromedriver\n",
    "    executable_path = {\"executable_path\": \"/usr/local/bin/chromedriver\"}\n",
    "    return Browser(\"chrome\", **executable_path, headless=False)"
   ]
  },
  {
   "cell_type": "code",
   "execution_count": null,
   "metadata": {},
   "outputs": [],
   "source": [
    "# url = 'https://www.proflowers.com/blog/types-of-flowers'\n",
    "# browser.visit(url)\n",
    "\n",
    "\n",
    "def scrape():\n",
    "    browser = init_browser()\n",
    "    flower = {}\n",
    "\n",
    "    url = \"https://www.proflowers.com/blog/types-of-flowers\"\n",
    "    browser.visit(url)\n",
    "\n",
    "    html = browser.html\n",
    "    soup = BeautifulSoup(html, \"html.parser\")\n",
    "\n",
    "    flower['pic']=soup.find('img', class_='img-circle aligncenter lazyloaded')\n",
    "    flower['name']=soup.find('div', class_='col-sm-2').text\n",
    "    flower['details']=soup.find('div', class_='row flower_details').text\n",
    "    return flower"
   ]
  },
  {
   "cell_type": "code",
   "execution_count": null,
   "metadata": {},
   "outputs": [],
   "source": []
  },
  {
   "cell_type": "code",
   "execution_count": null,
   "metadata": {},
   "outputs": [],
   "source": [
    "html = browser.html\n",
    "soup = BeautifulSoup(html, 'html.parser')\n",
    "\n",
    "def scrape():\n",
    "    browser = init_browser()\n",
    "    flower = {}\n",
    "\n",
    "flower['pic']=soup.find('img', class_='img-circle aligncenter lazyloaded')\n",
    "flower['name']=soup.find('div', class_='col-sm-2').text\n",
    "flower['details']=soup.find('div', class_='row flower_details').text\n",
    "return flower"
   ]
  },
  {
   "cell_type": "code",
   "execution_count": null,
   "metadata": {},
   "outputs": [],
   "source": [
    "results = soup.find_all('div', class_=\"entry-content col-md-offset-1 col-md-10 col-lg-offset-2 col-lg-8\")\n",
    "results"
   ]
  },
  {
   "cell_type": "code",
   "execution_count": null,
   "metadata": {},
   "outputs": [],
   "source": []
  },
  {
   "cell_type": "code",
   "execution_count": 65,
   "metadata": {},
   "outputs": [],
   "source": [
    "results = soup.find_all('div', class_=\"entry-content col-md-offset-1 col-md-10 col-lg-offset-2 col-lg-8\")\n",
    "\n",
    "# Loop through returned results\n",
    "for result in results:\n",
    "    # Error handling\n",
    "    try:\n",
    "        flower_details = result.find('div', class_='row flower_details').text\n",
    "        name_flower = result.find('div', class_='col-sm-2').text\n",
    "        pic_flower = result.a['href']\n",
    "\n",
    "        if (pic_flower and name_flower and flower_details):\n",
    "            print('-------------')\n",
    "            print(pic_flower)\n",
    "            print(name_flower)\n",
    "            print(flower_details)\n",
    "    except AttributeError as e:\n",
    "        print(e)"
   ]
  },
  {
   "cell_type": "code",
   "execution_count": null,
   "metadata": {},
   "outputs": [],
   "source": []
  }
 ],
 "metadata": {
  "kernelspec": {
   "display_name": "Python 3",
   "language": "python",
   "name": "python3"
  },
  "language_info": {
   "codemirror_mode": {
    "name": "ipython",
    "version": 3
   },
   "file_extension": ".py",
   "mimetype": "text/x-python",
   "name": "python",
   "nbconvert_exporter": "python",
   "pygments_lexer": "ipython3",
   "version": "3.7.6"
  }
 },
 "nbformat": 4,
 "nbformat_minor": 4
}
