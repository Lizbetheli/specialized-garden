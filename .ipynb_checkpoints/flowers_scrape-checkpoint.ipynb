{
 "cells": [
  {
   "cell_type": "code",
   "execution_count": 1,
   "metadata": {},
   "outputs": [],
   "source": [
    "# Dependencies\n",
    "from bs4 import BeautifulSoup\n",
    "from splinter import Browser\n",
    "import pandas as pd"
   ]
  },
  {
   "cell_type": "code",
   "execution_count": 2,
   "metadata": {},
   "outputs": [],
   "source": [
    "executable_path = {'executable_path': 'chromedriver.exe'}\n",
    "browser = Browser('chrome', **executable_path, headless=False)"
   ]
  },
  {
   "cell_type": "code",
   "execution_count": 5,
   "metadata": {},
   "outputs": [],
   "source": [
    "url = 'https://www.proflowers.com/blog/types-of-flowers'\n",
    "browser.visit(url)\n",
    "html = browser.html\n",
    "soup = BeautifulSoup(html, 'html.parser')"
   ]
  },
  {
   "cell_type": "code",
   "execution_count": 68,
   "metadata": {},
   "outputs": [
    {
     "name": "stdout",
     "output_type": "stream",
     "text": [
      "None\n",
      "\n",
      "\n",
      "Aconite\n",
      "\n",
      "\n",
      "\n",
      "Sun Needs\n",
      "Partial Shade\n",
      "\n",
      "\n",
      "Soil Needs\n",
      "Well-drained\n",
      "\n",
      "\n",
      "Zones\n",
      "4 - 9\n",
      "\n",
      "\n",
      "Height\n",
      "0.25 - 0.5 feet\n",
      "\n",
      "\n",
      "Blooms in\n",
      "Early Spring\n",
      "\n",
      "\n",
      "Features\n",
      "Deer resistant\n",
      "\n",
      "\n",
      "------\n"
     ]
    }
   ],
   "source": [
    "pic_flower=soup.find('img', class_='data-src')\n",
    "name_flower=soup.find('div', class_='col-sm-2').text\n",
    "flower_details=soup.find('div', class_='row flower_details').text\n",
    "\n",
    "print(pic_flower)\n",
    "print(name_flower)\n",
    "print(flower_details)\n",
    "print('------')"
   ]
  },
  {
   "cell_type": "code",
   "execution_count": 69,
   "metadata": {},
   "outputs": [],
   "source": [
    "results = soup.find_all('div', class_=\"entry-content col-md-offset-1 col-md-10 col-lg-offset-2 col-lg-8\")\n",
    "# results = soup.find_all('figure', class_=\"row flower\")"
   ]
  },
  {
   "cell_type": "code",
   "execution_count": 70,
   "metadata": {},
   "outputs": [
    {
     "name": "stdout",
     "output_type": "stream",
     "text": [
      "-------------\n",
      "https://www.proflowers.com/blog/wp-content/plugins/pf-flowertypes/image/winter-aconite-720790.jpg\n",
      "\n",
      "\n",
      "Aconite\n",
      "\n",
      "\n",
      "\n",
      "Sun Needs\n",
      "Partial Shade\n",
      "\n",
      "\n",
      "Soil Needs\n",
      "Well-drained\n",
      "\n",
      "\n",
      "Zones\n",
      "4 - 9\n",
      "\n",
      "\n",
      "Height\n",
      "0.25 - 0.5 feet\n",
      "\n",
      "\n",
      "Blooms in\n",
      "Early Spring\n",
      "\n",
      "\n",
      "Features\n",
      "Deer resistant\n",
      "\n",
      "\n"
     ]
    }
   ],
   "source": [
    "flowers= []\n",
    "# Loop through returned results\n",
    "for flowers in results:\n",
    "    # Error handling\n",
    "    try:\n",
    "        flower_details = result.find('div', class_='row flower_details').text\n",
    "        name_flower = result.find('div', class_='col-sm-2').text\n",
    "        pic_flower = result.img['data-src']\n",
    "\n",
    "        if (pic_flower and name_flower and flower_details):\n",
    "            print('-------------')\n",
    "            print(pic_flower)\n",
    "            print(name_flower)\n",
    "            print(flower_details)\n",
    "    except AttributeError as e:\n",
    "        print(e)\n"
   ]
  },
  {
   "cell_type": "code",
   "execution_count": 71,
   "metadata": {},
   "outputs": [
    {
     "name": "stdout",
     "output_type": "stream",
     "text": [
      "18\n"
     ]
    }
   ],
   "source": [
    "print(len(flowers))"
   ]
  },
  {
   "cell_type": "code",
   "execution_count": null,
   "metadata": {},
   "outputs": [],
   "source": []
  },
  {
   "cell_type": "code",
   "execution_count": 8,
   "metadata": {},
   "outputs": [
    {
     "data": {
      "text/plain": [
       "[]"
      ]
     },
     "execution_count": 8,
     "metadata": {},
     "output_type": "execute_result"
    }
   ],
   "source": [
    "flower_list=[]\n",
    "\n",
    "for soup in flower_list:\n",
    "    pic_flower=soup.find('img', class_='img-circle aligncenter lazyloaded')\n",
    "    name_flower=soup.find('div', class_='col-sm-2').text\n",
    "    flower_details=soup.find('div', class_='row flower_details').text\n",
    "    print(name_flower)\n",
    "    print(pic_flower)\n",
    "    print(flower_details)\n",
    "    print('------')\n",
    "flower_list"
   ]
  },
  {
   "cell_type": "code",
   "execution_count": null,
   "metadata": {},
   "outputs": [],
   "source": []
  },
  {
   "cell_type": "code",
   "execution_count": 11,
   "metadata": {},
   "outputs": [],
   "source": [
    "html = browser.html\n",
    "soup = BeautifulSoup(html, 'html.parser')\n",
    "results = soup.find_all('div', class_=\"entry-content col-md-offset-1 col-md-10 col-lg-offset-2 col-lg-8\")\n",
    "flowers= []\n",
    "\n",
    "# Loop through returned results\n",
    "for result in results:\n",
    "    try:\n",
    "        name_flower=soup.find_all('div', class_='col-sm-2')\n",
    "        pic_flower=soup.find_all('img', class_='img-circle aligncenter lazyloaded')\n",
    "        flower_details=soup.find_all('div', class_='row flower_details')\n",
    "\n",
    "        if (pic_flower and name_flower and flower_details):\n",
    "            print('-------------')\n",
    "            print(pic_flower)\n",
    "            print(name_flower)\n",
    "            print(flower_details)\n",
    "    except AttributeError as e:\n",
    "        print(e)"
   ]
  },
  {
   "cell_type": "code",
   "execution_count": null,
   "metadata": {},
   "outputs": [],
   "source": []
  },
  {
   "cell_type": "code",
   "execution_count": null,
   "metadata": {},
   "outputs": [],
   "source": []
  },
  {
   "cell_type": "code",
   "execution_count": null,
   "metadata": {},
   "outputs": [],
   "source": []
  }
 ],
 "metadata": {
  "kernelspec": {
   "display_name": "Python 3",
   "language": "python",
   "name": "python3"
  },
  "language_info": {
   "codemirror_mode": {
    "name": "ipython",
    "version": 3
   },
   "file_extension": ".py",
   "mimetype": "text/x-python",
   "name": "python",
   "nbconvert_exporter": "python",
   "pygments_lexer": "ipython3",
   "version": "3.7.6"
  }
 },
 "nbformat": 4,
 "nbformat_minor": 4
}
