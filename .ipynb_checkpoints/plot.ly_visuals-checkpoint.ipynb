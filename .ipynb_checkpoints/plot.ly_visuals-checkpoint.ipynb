{
 "cells": [
  {
   "cell_type": "code",
   "execution_count": 1,
   "metadata": {},
   "outputs": [],
   "source": [
    "import numpy as np \n",
    "import pandas as pd\n",
    "import plotly.express as px"
   ]
  },
  {
   "cell_type": "code",
   "execution_count": 6,
   "metadata": {},
   "outputs": [
    {
     "data": {
      "text/html": [
       "<div>\n",
       "<style scoped>\n",
       "    .dataframe tbody tr th:only-of-type {\n",
       "        vertical-align: middle;\n",
       "    }\n",
       "\n",
       "    .dataframe tbody tr th {\n",
       "        vertical-align: top;\n",
       "    }\n",
       "\n",
       "    .dataframe thead th {\n",
       "        text-align: right;\n",
       "    }\n",
       "</style>\n",
       "<table border=\"1\" class=\"dataframe\">\n",
       "  <thead>\n",
       "    <tr style=\"text-align: right;\">\n",
       "      <th></th>\n",
       "      <th>Unnamed: 0</th>\n",
       "      <th>Plant Name</th>\n",
       "      <th>Season</th>\n",
       "      <th>Plant Type</th>\n",
       "      <th>State</th>\n",
       "      <th>Picture Link</th>\n",
       "      <th>Blooms</th>\n",
       "      <th>Zones</th>\n",
       "      <th>Sun Needs</th>\n",
       "      <th>Soil Needs</th>\n",
       "      <th>...</th>\n",
       "      <th>Wyoming</th>\n",
       "      <th>NewHampshire</th>\n",
       "      <th>NewJersey</th>\n",
       "      <th>NewMexico</th>\n",
       "      <th>NewYork</th>\n",
       "      <th>NorthCarolina</th>\n",
       "      <th>NorthDakota</th>\n",
       "      <th>RhodeIsland</th>\n",
       "      <th>SouthCarolina</th>\n",
       "      <th>WestVirginia</th>\n",
       "    </tr>\n",
       "  </thead>\n",
       "  <tbody>\n",
       "    <tr>\n",
       "      <th>0</th>\n",
       "      <td>0</td>\n",
       "      <td>Aconite</td>\n",
       "      <td>Spring</td>\n",
       "      <td>Flower</td>\n",
       "      <td>NaN</td>\n",
       "      <td>https://www.proflowers.com/blog/wp-content/plu...</td>\n",
       "      <td>Early Spring</td>\n",
       "      <td>4 --9</td>\n",
       "      <td>Partial Shade</td>\n",
       "      <td>Well-drained</td>\n",
       "      <td>...</td>\n",
       "      <td>1</td>\n",
       "      <td>1.0</td>\n",
       "      <td>1.0</td>\n",
       "      <td>1.0</td>\n",
       "      <td>1.0</td>\n",
       "      <td>1.0</td>\n",
       "      <td>1.0</td>\n",
       "      <td>1.0</td>\n",
       "      <td>1.0</td>\n",
       "      <td>1.0</td>\n",
       "    </tr>\n",
       "    <tr>\n",
       "      <th>1</th>\n",
       "      <td>1</td>\n",
       "      <td>Ageratum</td>\n",
       "      <td>Summer</td>\n",
       "      <td>Flower</td>\n",
       "      <td>NaN</td>\n",
       "      <td>https://www.proflowers.com/blog/wp-content/plu...</td>\n",
       "      <td>Mid Summer</td>\n",
       "      <td>5 --9</td>\n",
       "      <td>Full Sun / Partial Shade</td>\n",
       "      <td>Well-drained</td>\n",
       "      <td>...</td>\n",
       "      <td>1</td>\n",
       "      <td>1.0</td>\n",
       "      <td>1.0</td>\n",
       "      <td>1.0</td>\n",
       "      <td>1.0</td>\n",
       "      <td>1.0</td>\n",
       "      <td>1.0</td>\n",
       "      <td>1.0</td>\n",
       "      <td>1.0</td>\n",
       "      <td>1.0</td>\n",
       "    </tr>\n",
       "    <tr>\n",
       "      <th>2</th>\n",
       "      <td>2</td>\n",
       "      <td>Allium</td>\n",
       "      <td>Spring</td>\n",
       "      <td>Flower</td>\n",
       "      <td>NaN</td>\n",
       "      <td>https://www.proflowers.com/blog/wp-content/plu...</td>\n",
       "      <td>Late Spring</td>\n",
       "      <td>3 --10</td>\n",
       "      <td>Full Sun</td>\n",
       "      <td>Well-drained</td>\n",
       "      <td>...</td>\n",
       "      <td>1</td>\n",
       "      <td>1.0</td>\n",
       "      <td>1.0</td>\n",
       "      <td>1.0</td>\n",
       "      <td>1.0</td>\n",
       "      <td>1.0</td>\n",
       "      <td>1.0</td>\n",
       "      <td>1.0</td>\n",
       "      <td>1.0</td>\n",
       "      <td>1.0</td>\n",
       "    </tr>\n",
       "    <tr>\n",
       "      <th>3</th>\n",
       "      <td>3</td>\n",
       "      <td>Anemone</td>\n",
       "      <td>Spring</td>\n",
       "      <td>Flower</td>\n",
       "      <td>NaN</td>\n",
       "      <td>https://www.proflowers.com/blog/wp-content/plu...</td>\n",
       "      <td>Mid Spring</td>\n",
       "      <td>3 --9</td>\n",
       "      <td>Full Sun / Partial Shade</td>\n",
       "      <td>Well-drained, High fertility</td>\n",
       "      <td>...</td>\n",
       "      <td>1</td>\n",
       "      <td>1.0</td>\n",
       "      <td>1.0</td>\n",
       "      <td>1.0</td>\n",
       "      <td>1.0</td>\n",
       "      <td>1.0</td>\n",
       "      <td>1.0</td>\n",
       "      <td>1.0</td>\n",
       "      <td>1.0</td>\n",
       "      <td>1.0</td>\n",
       "    </tr>\n",
       "    <tr>\n",
       "      <th>4</th>\n",
       "      <td>4</td>\n",
       "      <td>Angelica</td>\n",
       "      <td>Summer</td>\n",
       "      <td>Flower</td>\n",
       "      <td>NaN</td>\n",
       "      <td>https://www.proflowers.com/blog/wp-content/plu...</td>\n",
       "      <td>Entire Summer</td>\n",
       "      <td>4 --9</td>\n",
       "      <td>Partial Shade / Full Shade</td>\n",
       "      <td>Well-drained, High fertility</td>\n",
       "      <td>...</td>\n",
       "      <td>1</td>\n",
       "      <td>1.0</td>\n",
       "      <td>1.0</td>\n",
       "      <td>1.0</td>\n",
       "      <td>1.0</td>\n",
       "      <td>1.0</td>\n",
       "      <td>1.0</td>\n",
       "      <td>1.0</td>\n",
       "      <td>1.0</td>\n",
       "      <td>1.0</td>\n",
       "    </tr>\n",
       "    <tr>\n",
       "      <th>...</th>\n",
       "      <td>...</td>\n",
       "      <td>...</td>\n",
       "      <td>...</td>\n",
       "      <td>...</td>\n",
       "      <td>...</td>\n",
       "      <td>...</td>\n",
       "      <td>...</td>\n",
       "      <td>...</td>\n",
       "      <td>...</td>\n",
       "      <td>...</td>\n",
       "      <td>...</td>\n",
       "      <td>...</td>\n",
       "      <td>...</td>\n",
       "      <td>...</td>\n",
       "      <td>...</td>\n",
       "      <td>...</td>\n",
       "      <td>...</td>\n",
       "      <td>...</td>\n",
       "      <td>...</td>\n",
       "      <td>...</td>\n",
       "      <td>...</td>\n",
       "    </tr>\n",
       "    <tr>\n",
       "      <th>249</th>\n",
       "      <td>246</td>\n",
       "      <td>Sugar beet</td>\n",
       "      <td>Spring</td>\n",
       "      <td>Fruit</td>\n",
       "      <td>Colorado</td>\n",
       "      <td>https://i.insider.com/5c5c6828eb3ce84096503a93</td>\n",
       "      <td>NaN</td>\n",
       "      <td>NaN</td>\n",
       "      <td>NaN</td>\n",
       "      <td>NaN</td>\n",
       "      <td>...</td>\n",
       "      <td>0</td>\n",
       "      <td>NaN</td>\n",
       "      <td>NaN</td>\n",
       "      <td>NaN</td>\n",
       "      <td>NaN</td>\n",
       "      <td>NaN</td>\n",
       "      <td>NaN</td>\n",
       "      <td>NaN</td>\n",
       "      <td>NaN</td>\n",
       "      <td>NaN</td>\n",
       "    </tr>\n",
       "    <tr>\n",
       "      <th>250</th>\n",
       "      <td>247</td>\n",
       "      <td>Corn</td>\n",
       "      <td>Spring</td>\n",
       "      <td>Fruit</td>\n",
       "      <td>Kentucky</td>\n",
       "      <td>https://i.insider.com/5c5c9092eb3ce8076751f705</td>\n",
       "      <td>NaN</td>\n",
       "      <td>NaN</td>\n",
       "      <td>NaN</td>\n",
       "      <td>NaN</td>\n",
       "      <td>...</td>\n",
       "      <td>0</td>\n",
       "      <td>NaN</td>\n",
       "      <td>NaN</td>\n",
       "      <td>NaN</td>\n",
       "      <td>NaN</td>\n",
       "      <td>NaN</td>\n",
       "      <td>NaN</td>\n",
       "      <td>NaN</td>\n",
       "      <td>NaN</td>\n",
       "      <td>NaN</td>\n",
       "    </tr>\n",
       "    <tr>\n",
       "      <th>251</th>\n",
       "      <td>248</td>\n",
       "      <td>Spinach</td>\n",
       "      <td>Spring</td>\n",
       "      <td>Fruit</td>\n",
       "      <td>Maryland</td>\n",
       "      <td>https://i.insider.com/5acbc606facba849008b45c0</td>\n",
       "      <td>NaN</td>\n",
       "      <td>NaN</td>\n",
       "      <td>NaN</td>\n",
       "      <td>NaN</td>\n",
       "      <td>...</td>\n",
       "      <td>0</td>\n",
       "      <td>NaN</td>\n",
       "      <td>NaN</td>\n",
       "      <td>NaN</td>\n",
       "      <td>NaN</td>\n",
       "      <td>NaN</td>\n",
       "      <td>NaN</td>\n",
       "      <td>NaN</td>\n",
       "      <td>NaN</td>\n",
       "      <td>NaN</td>\n",
       "    </tr>\n",
       "    <tr>\n",
       "      <th>252</th>\n",
       "      <td>249</td>\n",
       "      <td>Tomatoes</td>\n",
       "      <td>Spring</td>\n",
       "      <td>Vegetable</td>\n",
       "      <td>Tennessee</td>\n",
       "      <td>https://i.insider.com/5c5cac7aeb3ce80ecc0fe9d7</td>\n",
       "      <td>NaN</td>\n",
       "      <td>NaN</td>\n",
       "      <td>NaN</td>\n",
       "      <td>NaN</td>\n",
       "      <td>...</td>\n",
       "      <td>0</td>\n",
       "      <td>NaN</td>\n",
       "      <td>NaN</td>\n",
       "      <td>NaN</td>\n",
       "      <td>NaN</td>\n",
       "      <td>NaN</td>\n",
       "      <td>NaN</td>\n",
       "      <td>NaN</td>\n",
       "      <td>NaN</td>\n",
       "      <td>NaN</td>\n",
       "    </tr>\n",
       "    <tr>\n",
       "      <th>253</th>\n",
       "      <td>250</td>\n",
       "      <td>Corn</td>\n",
       "      <td>Fall</td>\n",
       "      <td>Vegetable</td>\n",
       "      <td>Wyoming</td>\n",
       "      <td>https://i.insider.com/5ace3cedfacba81f008b462a</td>\n",
       "      <td>NaN</td>\n",
       "      <td>NaN</td>\n",
       "      <td>NaN</td>\n",
       "      <td>NaN</td>\n",
       "      <td>...</td>\n",
       "      <td>1</td>\n",
       "      <td>NaN</td>\n",
       "      <td>NaN</td>\n",
       "      <td>NaN</td>\n",
       "      <td>NaN</td>\n",
       "      <td>NaN</td>\n",
       "      <td>NaN</td>\n",
       "      <td>NaN</td>\n",
       "      <td>NaN</td>\n",
       "      <td>NaN</td>\n",
       "    </tr>\n",
       "  </tbody>\n",
       "</table>\n",
       "<p>254 rows × 70 columns</p>\n",
       "</div>"
      ],
      "text/plain": [
       "     Unnamed: 0   Plant Name  Season Plant Type      State  \\\n",
       "0             0      Aconite  Spring     Flower        NaN   \n",
       "1             1     Ageratum  Summer     Flower        NaN   \n",
       "2             2       Allium  Spring     Flower        NaN   \n",
       "3             3      Anemone  Spring     Flower        NaN   \n",
       "4             4     Angelica  Summer     Flower        NaN   \n",
       "..          ...          ...     ...        ...        ...   \n",
       "249         246   Sugar beet  Spring      Fruit   Colorado   \n",
       "250         247         Corn  Spring      Fruit   Kentucky   \n",
       "251         248      Spinach  Spring      Fruit   Maryland   \n",
       "252         249     Tomatoes  Spring  Vegetable  Tennessee   \n",
       "253         250         Corn    Fall  Vegetable    Wyoming   \n",
       "\n",
       "                                          Picture Link         Blooms   Zones  \\\n",
       "0    https://www.proflowers.com/blog/wp-content/plu...   Early Spring   4 --9   \n",
       "1    https://www.proflowers.com/blog/wp-content/plu...     Mid Summer   5 --9   \n",
       "2    https://www.proflowers.com/blog/wp-content/plu...   Late Spring   3 --10   \n",
       "3    https://www.proflowers.com/blog/wp-content/plu...    Mid Spring    3 --9   \n",
       "4    https://www.proflowers.com/blog/wp-content/plu...  Entire Summer   4 --9   \n",
       "..                                                 ...            ...     ...   \n",
       "249     https://i.insider.com/5c5c6828eb3ce84096503a93            NaN     NaN   \n",
       "250     https://i.insider.com/5c5c9092eb3ce8076751f705            NaN     NaN   \n",
       "251     https://i.insider.com/5acbc606facba849008b45c0            NaN     NaN   \n",
       "252     https://i.insider.com/5c5cac7aeb3ce80ecc0fe9d7            NaN     NaN   \n",
       "253     https://i.insider.com/5ace3cedfacba81f008b462a            NaN     NaN   \n",
       "\n",
       "                      Sun Needs                    Soil Needs  ... Wyoming  \\\n",
       "0                 Partial Shade                  Well-drained  ...       1   \n",
       "1      Full Sun / Partial Shade                  Well-drained  ...       1   \n",
       "2                      Full Sun                  Well-drained  ...       1   \n",
       "3      Full Sun / Partial Shade  Well-drained, High fertility  ...       1   \n",
       "4    Partial Shade / Full Shade  Well-drained, High fertility  ...       1   \n",
       "..                          ...                           ...  ...     ...   \n",
       "249                         NaN                           NaN  ...       0   \n",
       "250                         NaN                           NaN  ...       0   \n",
       "251                         NaN                           NaN  ...       0   \n",
       "252                         NaN                           NaN  ...       0   \n",
       "253                         NaN                           NaN  ...       1   \n",
       "\n",
       "     NewHampshire  NewJersey  NewMexico  NewYork  NorthCarolina  NorthDakota  \\\n",
       "0             1.0        1.0        1.0      1.0            1.0          1.0   \n",
       "1             1.0        1.0        1.0      1.0            1.0          1.0   \n",
       "2             1.0        1.0        1.0      1.0            1.0          1.0   \n",
       "3             1.0        1.0        1.0      1.0            1.0          1.0   \n",
       "4             1.0        1.0        1.0      1.0            1.0          1.0   \n",
       "..            ...        ...        ...      ...            ...          ...   \n",
       "249           NaN        NaN        NaN      NaN            NaN          NaN   \n",
       "250           NaN        NaN        NaN      NaN            NaN          NaN   \n",
       "251           NaN        NaN        NaN      NaN            NaN          NaN   \n",
       "252           NaN        NaN        NaN      NaN            NaN          NaN   \n",
       "253           NaN        NaN        NaN      NaN            NaN          NaN   \n",
       "\n",
       "     RhodeIsland  SouthCarolina  WestVirginia  \n",
       "0            1.0            1.0           1.0  \n",
       "1            1.0            1.0           1.0  \n",
       "2            1.0            1.0           1.0  \n",
       "3            1.0            1.0           1.0  \n",
       "4            1.0            1.0           1.0  \n",
       "..           ...            ...           ...  \n",
       "249          NaN            NaN           NaN  \n",
       "250          NaN            NaN           NaN  \n",
       "251          NaN            NaN           NaN  \n",
       "252          NaN            NaN           NaN  \n",
       "253          NaN            NaN           NaN  \n",
       "\n",
       "[254 rows x 70 columns]"
      ]
     },
     "execution_count": 6,
     "metadata": {},
     "output_type": "execute_result"
    }
   ],
   "source": [
    "# File to Load, read, store\n",
    "data_to_load = \"Resources/machine_learning.csv\"\n",
    "data = pd.read_csv(data_to_load)\n",
    "data"
   ]
  },
  {
   "cell_type": "code",
   "execution_count": 8,
   "metadata": {},
   "outputs": [
    {
     "data": {
      "application/vnd.plotly.v1+json": {
       "config": {
        "plotlyServerURL": "https://plot.ly"
       },
       "data": [
        {
         "alignmentgroup": "True",
         "hovertemplate": "Plant Type=%{x}<br>Season=%{y}<extra></extra>",
         "legendgroup": "",
         "marker": {
          "color": "#636efa"
         },
         "name": "",
         "offsetgroup": "",
         "orientation": "v",
         "showlegend": false,
         "textposition": "auto",
         "type": "bar",
         "x": [
          "Flower",
          "Flower",
          "Flower",
          "Flower",
          "Flower",
          "Flower",
          "Flower",
          "Flower",
          "Flower",
          "Flower",
          "Flower",
          "Flower",
          "Flower",
          "Flower",
          "Flower",
          "Flower",
          "Flower",
          "Flower",
          "Flower",
          "Flower",
          "Flower",
          "Flower",
          "Flower",
          "Flower",
          "Flower",
          "Flower",
          "Flower",
          "Flower",
          "Flower",
          "Flower",
          "Flower",
          "Flower",
          "Flower",
          "Flower",
          "Flower",
          "Flower",
          "Flower",
          "Flower",
          "Flower",
          "Flower",
          "Flower",
          "Flower",
          "Flower",
          "Flower",
          "Flower",
          "Flower",
          "Flower",
          "Flower",
          "Flower",
          "Flower",
          "Flower",
          "Flower",
          "Flower",
          "Flower",
          "Flower",
          "Flower",
          "Flower",
          "Flower",
          "Flower",
          "Flower",
          "Flower",
          "Flower",
          "Flower",
          "Flower",
          "Flower",
          "Flower",
          "Flower",
          "Flower",
          "Flower",
          "Flower",
          "Flower",
          "Flower",
          "Flower",
          "Flower",
          "Flower",
          "Flower",
          "Flower",
          "Flower",
          "Flower",
          "Flower",
          "Flower",
          "Flower",
          "Flower",
          "Flower",
          "Flower",
          "Flower",
          "Flower",
          "Flower",
          "Flower",
          "Flower",
          "Flower",
          "Flower",
          "Flower",
          "Flower",
          "Flower",
          "Flower",
          "Flower",
          "Flower",
          "Flower",
          "Flower",
          "Flower",
          "Flower",
          "Flower",
          "Flower",
          "Flower",
          "Flower",
          "Flower",
          "Flower",
          "Flower",
          "Flower",
          "Flower",
          "Flower",
          "Flower",
          "Flower",
          "Flower",
          "Flower",
          "Flower",
          "Flower",
          "Flower",
          "Flower",
          "Flower",
          "Flower",
          "Flower",
          "Flower",
          "Flower",
          "Flower",
          "Flower",
          "Flower",
          "Flower",
          "Flower",
          "Flower",
          "Flower",
          "Flower",
          "Flower",
          "Flower",
          "Flower",
          "Flower",
          "Flower",
          "Flower",
          "Flower",
          "Flower",
          "Flower",
          "Flower",
          "Flower",
          "Flower",
          "Flower",
          "Flower",
          "Flower",
          "Flower",
          "Flower",
          "Flower",
          "Animal Feed",
          "Flower",
          "Flower",
          "Fruit",
          "Fruit",
          "Fruit",
          "Fruit",
          "Fruit",
          "Fruit",
          "Fruit",
          "Other",
          "Vegetable",
          "Vegetable",
          "Vegetable",
          "Vegetable",
          "Vegetable",
          "Vegetable",
          "Vegetable",
          "Vegetable",
          "Fruit",
          "Fruit",
          "Grain/Nut",
          "Grain/Nut",
          "Fruit",
          "Fruit",
          "Grain/Nut",
          "Grain/Nut",
          "Fruit",
          "Fruit",
          "Other",
          "Fruit",
          "Fruit",
          "Fruit",
          "Fruit",
          "Grain/Nut",
          "Fruit",
          "Fruit",
          "Fruit",
          "Fruit",
          "Grain/Nut",
          "Flower",
          "Fruit",
          "Fruit",
          "Fruit",
          "Fruit",
          "Grain/Nut",
          "Grain/Nut",
          "Vegetable",
          "Vegetable",
          "Vegetable",
          "Animal Feed",
          "Vegetable",
          "Fruit",
          "Other",
          "Vegetable",
          "Vegetable",
          "Grain",
          "Fruit",
          "Vegetable",
          "Fruit",
          "Fruit",
          "Fruit",
          "Fruit",
          "Vegetable",
          "Vegetable",
          "Fruit",
          "Fruit",
          "Vegetable",
          "Grain",
          "Fruit",
          "Vegetable",
          "Vegetable",
          "Vegetable",
          "Fruit",
          "Fruit",
          "Fruit",
          "Grain",
          "Other",
          "Vegetable",
          "Fruit",
          "Grain",
          "Fruit",
          "Fruit",
          "Fruit",
          "Vegetable",
          "Vegetable",
          "Vegetable",
          "Fruit",
          "Fruit",
          "Fruit",
          "Fruit",
          "Vegetable",
          "Fruit",
          "Fruit",
          "Fruit",
          "Grain",
          "Fruit",
          "Other",
          "Fruit",
          "Fruit",
          "Fruit",
          "Vegetable",
          "Vegetable"
         ],
         "xaxis": "x",
         "y": [
          "Spring",
          "Summer",
          "Spring",
          "Spring",
          "Summer",
          "Summer",
          "Summer",
          "Spring",
          "Spring",
          "Spring",
          "Spring",
          "Summer",
          "Summer",
          "Spring",
          "Spring",
          "Summer",
          "Spring",
          "Summer",
          "Spring",
          "Summer",
          "Spring",
          "Spring",
          "Summer",
          "Summer",
          "Spring",
          "Summer",
          "Spring",
          "Summer",
          "Spring",
          "Spring",
          "Summer",
          "Spring",
          "Summer",
          "Spring",
          "Summer",
          "Summer",
          "Summer",
          "Spring",
          "Summer",
          "Spring",
          "Summer",
          "Summer",
          "Spring",
          "Spring",
          "Summer",
          "Summer",
          "Summer",
          "Summer",
          "Spring",
          "Spring",
          "Spring",
          "Spring",
          "Spring",
          "Summer",
          "Summer",
          "Spring",
          "Summer",
          "Summer",
          "Summer",
          "Spring",
          "Spring",
          "Spring",
          "Spring",
          "Summer",
          "Spring",
          "Spring",
          "Summer",
          "Spring",
          "Summer",
          "Summer",
          "Summer",
          "Spring",
          "Summer",
          "Spring",
          "Summer",
          "Summer",
          "Summer",
          "Summer",
          "Spring",
          "Summer",
          "Summer",
          "Summer",
          "Summer",
          "Summer",
          "Spring",
          "Spring",
          "Spring",
          "Summer",
          "Summer",
          "Summer",
          "Summer",
          "Summer",
          "Summer",
          "Spring",
          "Summer",
          "Summer",
          "Spring",
          "Summer",
          "Summer",
          "Spring",
          "Summer",
          "Summer",
          "Summer",
          "Summer",
          "Summer",
          "Spring",
          "Summer",
          "Spring",
          "Summer",
          "Summer",
          "Spring",
          "Summer",
          "Summer",
          "Summer",
          "Spring",
          "Spring",
          "Summer",
          "Spring",
          "Spring",
          "Summer",
          "Summer",
          "Summer",
          "Summer",
          "Spring",
          "Spring",
          "Spring",
          "Summer",
          "Spring",
          "Summer",
          "Spring",
          "Spring",
          "Spring",
          "Summer",
          "Summer",
          "Spring",
          "Spring",
          "Summer",
          "Summer",
          "Summer",
          "Summer",
          "Spring",
          "Spring",
          "Summer",
          "Spring",
          "Spring",
          "Summer",
          "Spring",
          "Summer",
          "Spring",
          "Summer",
          "Summer",
          "Fall",
          "Fall",
          "Fall",
          "Fall",
          "Fall",
          "Fall",
          "Fall",
          "Fall",
          "Fall",
          "Fall",
          "Fall",
          "Fall",
          "Fall",
          "Fall",
          "Fall",
          "Fall",
          "Fall",
          "Fall",
          "Fall",
          "Fall",
          "Fall",
          "Fall",
          "Fall",
          "Fall",
          "Winter",
          "Winter",
          "Winter",
          "Winter",
          "Spring",
          "Spring",
          "Spring",
          "Spring",
          "Spring",
          "Spring",
          "Spring",
          "Summer",
          "Summer",
          "Summer",
          "Summer",
          "Summer",
          "Summer",
          "Summer",
          "Summer",
          "Summer",
          "Summer",
          "Summer",
          "Summer",
          "Summer",
          "Summer",
          "Summer",
          "Summer",
          "Summer",
          "Winter",
          "Spring",
          "Summer",
          "Spring",
          "Fall",
          "Summer",
          "Spring",
          "Fall",
          "Spring",
          "Winter",
          "Summer",
          "Fall",
          "Fall",
          "Fall",
          "Spring",
          "Spring",
          "Fall",
          "Spring",
          "Fall",
          "Spring",
          "Summer",
          "Fall",
          "Summer",
          "Spring",
          "Spring",
          "Spring",
          "Spring",
          "Spring",
          "Spring",
          "Fall",
          "Spring",
          "Winter",
          "Spring",
          "Spring",
          "Spring",
          "Summer",
          "Spring",
          "Fall",
          "Summer",
          "Summer",
          "Summer",
          "Spring",
          "Fall",
          "Spring",
          "Spring",
          "Fall",
          "Spring",
          "Spring",
          "Spring",
          "Spring",
          "Fall"
         ],
         "yaxis": "y"
        }
       ],
       "layout": {
        "barmode": "relative",
        "legend": {
         "tracegroupgap": 0
        },
        "template": {
         "data": {
          "bar": [
           {
            "error_x": {
             "color": "#2a3f5f"
            },
            "error_y": {
             "color": "#2a3f5f"
            },
            "marker": {
             "line": {
              "color": "#E5ECF6",
              "width": 0.5
             }
            },
            "type": "bar"
           }
          ],
          "barpolar": [
           {
            "marker": {
             "line": {
              "color": "#E5ECF6",
              "width": 0.5
             }
            },
            "type": "barpolar"
           }
          ],
          "carpet": [
           {
            "aaxis": {
             "endlinecolor": "#2a3f5f",
             "gridcolor": "white",
             "linecolor": "white",
             "minorgridcolor": "white",
             "startlinecolor": "#2a3f5f"
            },
            "baxis": {
             "endlinecolor": "#2a3f5f",
             "gridcolor": "white",
             "linecolor": "white",
             "minorgridcolor": "white",
             "startlinecolor": "#2a3f5f"
            },
            "type": "carpet"
           }
          ],
          "choropleth": [
           {
            "colorbar": {
             "outlinewidth": 0,
             "ticks": ""
            },
            "type": "choropleth"
           }
          ],
          "contour": [
           {
            "colorbar": {
             "outlinewidth": 0,
             "ticks": ""
            },
            "colorscale": [
             [
              0,
              "#0d0887"
             ],
             [
              0.1111111111111111,
              "#46039f"
             ],
             [
              0.2222222222222222,
              "#7201a8"
             ],
             [
              0.3333333333333333,
              "#9c179e"
             ],
             [
              0.4444444444444444,
              "#bd3786"
             ],
             [
              0.5555555555555556,
              "#d8576b"
             ],
             [
              0.6666666666666666,
              "#ed7953"
             ],
             [
              0.7777777777777778,
              "#fb9f3a"
             ],
             [
              0.8888888888888888,
              "#fdca26"
             ],
             [
              1,
              "#f0f921"
             ]
            ],
            "type": "contour"
           }
          ],
          "contourcarpet": [
           {
            "colorbar": {
             "outlinewidth": 0,
             "ticks": ""
            },
            "type": "contourcarpet"
           }
          ],
          "heatmap": [
           {
            "colorbar": {
             "outlinewidth": 0,
             "ticks": ""
            },
            "colorscale": [
             [
              0,
              "#0d0887"
             ],
             [
              0.1111111111111111,
              "#46039f"
             ],
             [
              0.2222222222222222,
              "#7201a8"
             ],
             [
              0.3333333333333333,
              "#9c179e"
             ],
             [
              0.4444444444444444,
              "#bd3786"
             ],
             [
              0.5555555555555556,
              "#d8576b"
             ],
             [
              0.6666666666666666,
              "#ed7953"
             ],
             [
              0.7777777777777778,
              "#fb9f3a"
             ],
             [
              0.8888888888888888,
              "#fdca26"
             ],
             [
              1,
              "#f0f921"
             ]
            ],
            "type": "heatmap"
           }
          ],
          "heatmapgl": [
           {
            "colorbar": {
             "outlinewidth": 0,
             "ticks": ""
            },
            "colorscale": [
             [
              0,
              "#0d0887"
             ],
             [
              0.1111111111111111,
              "#46039f"
             ],
             [
              0.2222222222222222,
              "#7201a8"
             ],
             [
              0.3333333333333333,
              "#9c179e"
             ],
             [
              0.4444444444444444,
              "#bd3786"
             ],
             [
              0.5555555555555556,
              "#d8576b"
             ],
             [
              0.6666666666666666,
              "#ed7953"
             ],
             [
              0.7777777777777778,
              "#fb9f3a"
             ],
             [
              0.8888888888888888,
              "#fdca26"
             ],
             [
              1,
              "#f0f921"
             ]
            ],
            "type": "heatmapgl"
           }
          ],
          "histogram": [
           {
            "marker": {
             "colorbar": {
              "outlinewidth": 0,
              "ticks": ""
             }
            },
            "type": "histogram"
           }
          ],
          "histogram2d": [
           {
            "colorbar": {
             "outlinewidth": 0,
             "ticks": ""
            },
            "colorscale": [
             [
              0,
              "#0d0887"
             ],
             [
              0.1111111111111111,
              "#46039f"
             ],
             [
              0.2222222222222222,
              "#7201a8"
             ],
             [
              0.3333333333333333,
              "#9c179e"
             ],
             [
              0.4444444444444444,
              "#bd3786"
             ],
             [
              0.5555555555555556,
              "#d8576b"
             ],
             [
              0.6666666666666666,
              "#ed7953"
             ],
             [
              0.7777777777777778,
              "#fb9f3a"
             ],
             [
              0.8888888888888888,
              "#fdca26"
             ],
             [
              1,
              "#f0f921"
             ]
            ],
            "type": "histogram2d"
           }
          ],
          "histogram2dcontour": [
           {
            "colorbar": {
             "outlinewidth": 0,
             "ticks": ""
            },
            "colorscale": [
             [
              0,
              "#0d0887"
             ],
             [
              0.1111111111111111,
              "#46039f"
             ],
             [
              0.2222222222222222,
              "#7201a8"
             ],
             [
              0.3333333333333333,
              "#9c179e"
             ],
             [
              0.4444444444444444,
              "#bd3786"
             ],
             [
              0.5555555555555556,
              "#d8576b"
             ],
             [
              0.6666666666666666,
              "#ed7953"
             ],
             [
              0.7777777777777778,
              "#fb9f3a"
             ],
             [
              0.8888888888888888,
              "#fdca26"
             ],
             [
              1,
              "#f0f921"
             ]
            ],
            "type": "histogram2dcontour"
           }
          ],
          "mesh3d": [
           {
            "colorbar": {
             "outlinewidth": 0,
             "ticks": ""
            },
            "type": "mesh3d"
           }
          ],
          "parcoords": [
           {
            "line": {
             "colorbar": {
              "outlinewidth": 0,
              "ticks": ""
             }
            },
            "type": "parcoords"
           }
          ],
          "pie": [
           {
            "automargin": true,
            "type": "pie"
           }
          ],
          "scatter": [
           {
            "marker": {
             "colorbar": {
              "outlinewidth": 0,
              "ticks": ""
             }
            },
            "type": "scatter"
           }
          ],
          "scatter3d": [
           {
            "line": {
             "colorbar": {
              "outlinewidth": 0,
              "ticks": ""
             }
            },
            "marker": {
             "colorbar": {
              "outlinewidth": 0,
              "ticks": ""
             }
            },
            "type": "scatter3d"
           }
          ],
          "scattercarpet": [
           {
            "marker": {
             "colorbar": {
              "outlinewidth": 0,
              "ticks": ""
             }
            },
            "type": "scattercarpet"
           }
          ],
          "scattergeo": [
           {
            "marker": {
             "colorbar": {
              "outlinewidth": 0,
              "ticks": ""
             }
            },
            "type": "scattergeo"
           }
          ],
          "scattergl": [
           {
            "marker": {
             "colorbar": {
              "outlinewidth": 0,
              "ticks": ""
             }
            },
            "type": "scattergl"
           }
          ],
          "scattermapbox": [
           {
            "marker": {
             "colorbar": {
              "outlinewidth": 0,
              "ticks": ""
             }
            },
            "type": "scattermapbox"
           }
          ],
          "scatterpolar": [
           {
            "marker": {
             "colorbar": {
              "outlinewidth": 0,
              "ticks": ""
             }
            },
            "type": "scatterpolar"
           }
          ],
          "scatterpolargl": [
           {
            "marker": {
             "colorbar": {
              "outlinewidth": 0,
              "ticks": ""
             }
            },
            "type": "scatterpolargl"
           }
          ],
          "scatterternary": [
           {
            "marker": {
             "colorbar": {
              "outlinewidth": 0,
              "ticks": ""
             }
            },
            "type": "scatterternary"
           }
          ],
          "surface": [
           {
            "colorbar": {
             "outlinewidth": 0,
             "ticks": ""
            },
            "colorscale": [
             [
              0,
              "#0d0887"
             ],
             [
              0.1111111111111111,
              "#46039f"
             ],
             [
              0.2222222222222222,
              "#7201a8"
             ],
             [
              0.3333333333333333,
              "#9c179e"
             ],
             [
              0.4444444444444444,
              "#bd3786"
             ],
             [
              0.5555555555555556,
              "#d8576b"
             ],
             [
              0.6666666666666666,
              "#ed7953"
             ],
             [
              0.7777777777777778,
              "#fb9f3a"
             ],
             [
              0.8888888888888888,
              "#fdca26"
             ],
             [
              1,
              "#f0f921"
             ]
            ],
            "type": "surface"
           }
          ],
          "table": [
           {
            "cells": {
             "fill": {
              "color": "#EBF0F8"
             },
             "line": {
              "color": "white"
             }
            },
            "header": {
             "fill": {
              "color": "#C8D4E3"
             },
             "line": {
              "color": "white"
             }
            },
            "type": "table"
           }
          ]
         },
         "layout": {
          "annotationdefaults": {
           "arrowcolor": "#2a3f5f",
           "arrowhead": 0,
           "arrowwidth": 1
          },
          "coloraxis": {
           "colorbar": {
            "outlinewidth": 0,
            "ticks": ""
           }
          },
          "colorscale": {
           "diverging": [
            [
             0,
             "#8e0152"
            ],
            [
             0.1,
             "#c51b7d"
            ],
            [
             0.2,
             "#de77ae"
            ],
            [
             0.3,
             "#f1b6da"
            ],
            [
             0.4,
             "#fde0ef"
            ],
            [
             0.5,
             "#f7f7f7"
            ],
            [
             0.6,
             "#e6f5d0"
            ],
            [
             0.7,
             "#b8e186"
            ],
            [
             0.8,
             "#7fbc41"
            ],
            [
             0.9,
             "#4d9221"
            ],
            [
             1,
             "#276419"
            ]
           ],
           "sequential": [
            [
             0,
             "#0d0887"
            ],
            [
             0.1111111111111111,
             "#46039f"
            ],
            [
             0.2222222222222222,
             "#7201a8"
            ],
            [
             0.3333333333333333,
             "#9c179e"
            ],
            [
             0.4444444444444444,
             "#bd3786"
            ],
            [
             0.5555555555555556,
             "#d8576b"
            ],
            [
             0.6666666666666666,
             "#ed7953"
            ],
            [
             0.7777777777777778,
             "#fb9f3a"
            ],
            [
             0.8888888888888888,
             "#fdca26"
            ],
            [
             1,
             "#f0f921"
            ]
           ],
           "sequentialminus": [
            [
             0,
             "#0d0887"
            ],
            [
             0.1111111111111111,
             "#46039f"
            ],
            [
             0.2222222222222222,
             "#7201a8"
            ],
            [
             0.3333333333333333,
             "#9c179e"
            ],
            [
             0.4444444444444444,
             "#bd3786"
            ],
            [
             0.5555555555555556,
             "#d8576b"
            ],
            [
             0.6666666666666666,
             "#ed7953"
            ],
            [
             0.7777777777777778,
             "#fb9f3a"
            ],
            [
             0.8888888888888888,
             "#fdca26"
            ],
            [
             1,
             "#f0f921"
            ]
           ]
          },
          "colorway": [
           "#636efa",
           "#EF553B",
           "#00cc96",
           "#ab63fa",
           "#FFA15A",
           "#19d3f3",
           "#FF6692",
           "#B6E880",
           "#FF97FF",
           "#FECB52"
          ],
          "font": {
           "color": "#2a3f5f"
          },
          "geo": {
           "bgcolor": "white",
           "lakecolor": "white",
           "landcolor": "#E5ECF6",
           "showlakes": true,
           "showland": true,
           "subunitcolor": "white"
          },
          "hoverlabel": {
           "align": "left"
          },
          "hovermode": "closest",
          "mapbox": {
           "style": "light"
          },
          "paper_bgcolor": "white",
          "plot_bgcolor": "#E5ECF6",
          "polar": {
           "angularaxis": {
            "gridcolor": "white",
            "linecolor": "white",
            "ticks": ""
           },
           "bgcolor": "#E5ECF6",
           "radialaxis": {
            "gridcolor": "white",
            "linecolor": "white",
            "ticks": ""
           }
          },
          "scene": {
           "xaxis": {
            "backgroundcolor": "#E5ECF6",
            "gridcolor": "white",
            "gridwidth": 2,
            "linecolor": "white",
            "showbackground": true,
            "ticks": "",
            "zerolinecolor": "white"
           },
           "yaxis": {
            "backgroundcolor": "#E5ECF6",
            "gridcolor": "white",
            "gridwidth": 2,
            "linecolor": "white",
            "showbackground": true,
            "ticks": "",
            "zerolinecolor": "white"
           },
           "zaxis": {
            "backgroundcolor": "#E5ECF6",
            "gridcolor": "white",
            "gridwidth": 2,
            "linecolor": "white",
            "showbackground": true,
            "ticks": "",
            "zerolinecolor": "white"
           }
          },
          "shapedefaults": {
           "line": {
            "color": "#2a3f5f"
           }
          },
          "ternary": {
           "aaxis": {
            "gridcolor": "white",
            "linecolor": "white",
            "ticks": ""
           },
           "baxis": {
            "gridcolor": "white",
            "linecolor": "white",
            "ticks": ""
           },
           "bgcolor": "#E5ECF6",
           "caxis": {
            "gridcolor": "white",
            "linecolor": "white",
            "ticks": ""
           }
          },
          "title": {
           "x": 0.05
          },
          "xaxis": {
           "automargin": true,
           "gridcolor": "white",
           "linecolor": "white",
           "ticks": "",
           "title": {
            "standoff": 15
           },
           "zerolinecolor": "white",
           "zerolinewidth": 2
          },
          "yaxis": {
           "automargin": true,
           "gridcolor": "white",
           "linecolor": "white",
           "ticks": "",
           "title": {
            "standoff": 15
           },
           "zerolinecolor": "white",
           "zerolinewidth": 2
          }
         }
        },
        "title": {
         "text": "Plant Type vs Season"
        },
        "xaxis": {
         "anchor": "y",
         "domain": [
          0,
          1
         ],
         "title": {
          "text": "Plant Type"
         }
        },
        "yaxis": {
         "anchor": "x",
         "domain": [
          0,
          1
         ],
         "title": {
          "text": "Season"
         }
        }
       }
      },
      "text/html": [
       "<div>                            <div id=\"856664c5-3f96-4c5f-9231-7f8fdb717086\" class=\"plotly-graph-div\" style=\"height:525px; width:100%;\"></div>            <script type=\"text/javascript\">                require([\"plotly\"], function(Plotly) {                    window.PLOTLYENV=window.PLOTLYENV || {};                                    if (document.getElementById(\"856664c5-3f96-4c5f-9231-7f8fdb717086\")) {                    Plotly.newPlot(                        \"856664c5-3f96-4c5f-9231-7f8fdb717086\",                        [{\"alignmentgroup\": \"True\", \"hovertemplate\": \"Plant Type=%{x}<br>Season=%{y}<extra></extra>\", \"legendgroup\": \"\", \"marker\": {\"color\": \"#636efa\"}, \"name\": \"\", \"offsetgroup\": \"\", \"orientation\": \"v\", \"showlegend\": false, \"textposition\": \"auto\", \"type\": \"bar\", \"x\": [\"Flower\", \"Flower\", \"Flower\", \"Flower\", \"Flower\", \"Flower\", \"Flower\", \"Flower\", \"Flower\", \"Flower\", \"Flower\", \"Flower\", \"Flower\", \"Flower\", \"Flower\", \"Flower\", \"Flower\", \"Flower\", \"Flower\", \"Flower\", \"Flower\", \"Flower\", \"Flower\", \"Flower\", \"Flower\", \"Flower\", \"Flower\", \"Flower\", \"Flower\", \"Flower\", \"Flower\", \"Flower\", \"Flower\", \"Flower\", \"Flower\", \"Flower\", \"Flower\", \"Flower\", \"Flower\", \"Flower\", \"Flower\", \"Flower\", \"Flower\", \"Flower\", \"Flower\", \"Flower\", \"Flower\", \"Flower\", \"Flower\", \"Flower\", \"Flower\", \"Flower\", \"Flower\", \"Flower\", \"Flower\", \"Flower\", \"Flower\", \"Flower\", \"Flower\", \"Flower\", \"Flower\", \"Flower\", \"Flower\", \"Flower\", \"Flower\", \"Flower\", \"Flower\", \"Flower\", \"Flower\", \"Flower\", \"Flower\", \"Flower\", \"Flower\", \"Flower\", \"Flower\", \"Flower\", \"Flower\", \"Flower\", \"Flower\", \"Flower\", \"Flower\", \"Flower\", \"Flower\", \"Flower\", \"Flower\", \"Flower\", \"Flower\", \"Flower\", \"Flower\", \"Flower\", \"Flower\", \"Flower\", \"Flower\", \"Flower\", \"Flower\", \"Flower\", \"Flower\", \"Flower\", \"Flower\", \"Flower\", \"Flower\", \"Flower\", \"Flower\", \"Flower\", \"Flower\", \"Flower\", \"Flower\", \"Flower\", \"Flower\", \"Flower\", \"Flower\", \"Flower\", \"Flower\", \"Flower\", \"Flower\", \"Flower\", \"Flower\", \"Flower\", \"Flower\", \"Flower\", \"Flower\", \"Flower\", \"Flower\", \"Flower\", \"Flower\", \"Flower\", \"Flower\", \"Flower\", \"Flower\", \"Flower\", \"Flower\", \"Flower\", \"Flower\", \"Flower\", \"Flower\", \"Flower\", \"Flower\", \"Flower\", \"Flower\", \"Flower\", \"Flower\", \"Flower\", \"Flower\", \"Flower\", \"Flower\", \"Flower\", \"Flower\", \"Flower\", \"Flower\", \"Flower\", \"Flower\", \"Animal Feed\", \"Flower\", \"Flower\", \"Fruit\", \"Fruit\", \"Fruit\", \"Fruit\", \"Fruit\", \"Fruit\", \"Fruit\", \"Other\", \"Vegetable\", \"Vegetable\", \"Vegetable\", \"Vegetable\", \"Vegetable\", \"Vegetable\", \"Vegetable\", \"Vegetable\", \"Fruit\", \"Fruit\", \"Grain/Nut\", \"Grain/Nut\", \"Fruit\", \"Fruit\", \"Grain/Nut\", \"Grain/Nut\", \"Fruit\", \"Fruit\", \"Other\", \"Fruit\", \"Fruit\", \"Fruit\", \"Fruit\", \"Grain/Nut\", \"Fruit\", \"Fruit\", \"Fruit\", \"Fruit\", \"Grain/Nut\", \"Flower\", \"Fruit\", \"Fruit\", \"Fruit\", \"Fruit\", \"Grain/Nut\", \"Grain/Nut\", \"Vegetable\", \"Vegetable\", \"Vegetable\", \"Animal Feed\", \"Vegetable\", \"Fruit\", \"Other\", \"Vegetable\", \"Vegetable\", \"Grain\", \"Fruit\", \"Vegetable\", \"Fruit\", \"Fruit\", \"Fruit\", \"Fruit\", \"Vegetable\", \"Vegetable\", \"Fruit\", \"Fruit\", \"Vegetable\", \"Grain\", \"Fruit\", \"Vegetable\", \"Vegetable\", \"Vegetable\", \"Fruit\", \"Fruit\", \"Fruit\", \"Grain\", \"Other\", \"Vegetable\", \"Fruit\", \"Grain\", \"Fruit\", \"Fruit\", \"Fruit\", \"Vegetable\", \"Vegetable\", \"Vegetable\", \"Fruit\", \"Fruit\", \"Fruit\", \"Fruit\", \"Vegetable\", \"Fruit\", \"Fruit\", \"Fruit\", \"Grain\", \"Fruit\", \"Other\", \"Fruit\", \"Fruit\", \"Fruit\", \"Vegetable\", \"Vegetable\"], \"xaxis\": \"x\", \"y\": [\"Spring\", \"Summer\", \"Spring\", \"Spring\", \"Summer\", \"Summer\", \"Summer\", \"Spring\", \"Spring\", \"Spring\", \"Spring\", \"Summer\", \"Summer\", \"Spring\", \"Spring\", \"Summer\", \"Spring\", \"Summer\", \"Spring\", \"Summer\", \"Spring\", \"Spring\", \"Summer\", \"Summer\", \"Spring\", \"Summer\", \"Spring\", \"Summer\", \"Spring\", \"Spring\", \"Summer\", \"Spring\", \"Summer\", \"Spring\", \"Summer\", \"Summer\", \"Summer\", \"Spring\", \"Summer\", \"Spring\", \"Summer\", \"Summer\", \"Spring\", \"Spring\", \"Summer\", \"Summer\", \"Summer\", \"Summer\", \"Spring\", \"Spring\", \"Spring\", \"Spring\", \"Spring\", \"Summer\", \"Summer\", \"Spring\", \"Summer\", \"Summer\", \"Summer\", \"Spring\", \"Spring\", \"Spring\", \"Spring\", \"Summer\", \"Spring\", \"Spring\", \"Summer\", \"Spring\", \"Summer\", \"Summer\", \"Summer\", \"Spring\", \"Summer\", \"Spring\", \"Summer\", \"Summer\", \"Summer\", \"Summer\", \"Spring\", \"Summer\", \"Summer\", \"Summer\", \"Summer\", \"Summer\", \"Spring\", \"Spring\", \"Spring\", \"Summer\", \"Summer\", \"Summer\", \"Summer\", \"Summer\", \"Summer\", \"Spring\", \"Summer\", \"Summer\", \"Spring\", \"Summer\", \"Summer\", \"Spring\", \"Summer\", \"Summer\", \"Summer\", \"Summer\", \"Summer\", \"Spring\", \"Summer\", \"Spring\", \"Summer\", \"Summer\", \"Spring\", \"Summer\", \"Summer\", \"Summer\", \"Spring\", \"Spring\", \"Summer\", \"Spring\", \"Spring\", \"Summer\", \"Summer\", \"Summer\", \"Summer\", \"Spring\", \"Spring\", \"Spring\", \"Summer\", \"Spring\", \"Summer\", \"Spring\", \"Spring\", \"Spring\", \"Summer\", \"Summer\", \"Spring\", \"Spring\", \"Summer\", \"Summer\", \"Summer\", \"Summer\", \"Spring\", \"Spring\", \"Summer\", \"Spring\", \"Spring\", \"Summer\", \"Spring\", \"Summer\", \"Spring\", \"Summer\", \"Summer\", \"Fall\", \"Fall\", \"Fall\", \"Fall\", \"Fall\", \"Fall\", \"Fall\", \"Fall\", \"Fall\", \"Fall\", \"Fall\", \"Fall\", \"Fall\", \"Fall\", \"Fall\", \"Fall\", \"Fall\", \"Fall\", \"Fall\", \"Fall\", \"Fall\", \"Fall\", \"Fall\", \"Fall\", \"Winter\", \"Winter\", \"Winter\", \"Winter\", \"Spring\", \"Spring\", \"Spring\", \"Spring\", \"Spring\", \"Spring\", \"Spring\", \"Summer\", \"Summer\", \"Summer\", \"Summer\", \"Summer\", \"Summer\", \"Summer\", \"Summer\", \"Summer\", \"Summer\", \"Summer\", \"Summer\", \"Summer\", \"Summer\", \"Summer\", \"Summer\", \"Summer\", \"Winter\", \"Spring\", \"Summer\", \"Spring\", \"Fall\", \"Summer\", \"Spring\", \"Fall\", \"Spring\", \"Winter\", \"Summer\", \"Fall\", \"Fall\", \"Fall\", \"Spring\", \"Spring\", \"Fall\", \"Spring\", \"Fall\", \"Spring\", \"Summer\", \"Fall\", \"Summer\", \"Spring\", \"Spring\", \"Spring\", \"Spring\", \"Spring\", \"Spring\", \"Fall\", \"Spring\", \"Winter\", \"Spring\", \"Spring\", \"Spring\", \"Summer\", \"Spring\", \"Fall\", \"Summer\", \"Summer\", \"Summer\", \"Spring\", \"Fall\", \"Spring\", \"Spring\", \"Fall\", \"Spring\", \"Spring\", \"Spring\", \"Spring\", \"Fall\"], \"yaxis\": \"y\"}],                        {\"barmode\": \"relative\", \"legend\": {\"tracegroupgap\": 0}, \"template\": {\"data\": {\"bar\": [{\"error_x\": {\"color\": \"#2a3f5f\"}, \"error_y\": {\"color\": \"#2a3f5f\"}, \"marker\": {\"line\": {\"color\": \"#E5ECF6\", \"width\": 0.5}}, \"type\": \"bar\"}], \"barpolar\": [{\"marker\": {\"line\": {\"color\": \"#E5ECF6\", \"width\": 0.5}}, \"type\": \"barpolar\"}], \"carpet\": [{\"aaxis\": {\"endlinecolor\": \"#2a3f5f\", \"gridcolor\": \"white\", \"linecolor\": \"white\", \"minorgridcolor\": \"white\", \"startlinecolor\": \"#2a3f5f\"}, \"baxis\": {\"endlinecolor\": \"#2a3f5f\", \"gridcolor\": \"white\", \"linecolor\": \"white\", \"minorgridcolor\": \"white\", \"startlinecolor\": \"#2a3f5f\"}, \"type\": \"carpet\"}], \"choropleth\": [{\"colorbar\": {\"outlinewidth\": 0, \"ticks\": \"\"}, \"type\": \"choropleth\"}], \"contour\": [{\"colorbar\": {\"outlinewidth\": 0, \"ticks\": \"\"}, \"colorscale\": [[0.0, \"#0d0887\"], [0.1111111111111111, \"#46039f\"], [0.2222222222222222, \"#7201a8\"], [0.3333333333333333, \"#9c179e\"], [0.4444444444444444, \"#bd3786\"], [0.5555555555555556, \"#d8576b\"], [0.6666666666666666, \"#ed7953\"], [0.7777777777777778, \"#fb9f3a\"], [0.8888888888888888, \"#fdca26\"], [1.0, \"#f0f921\"]], \"type\": \"contour\"}], \"contourcarpet\": [{\"colorbar\": {\"outlinewidth\": 0, \"ticks\": \"\"}, \"type\": \"contourcarpet\"}], \"heatmap\": [{\"colorbar\": {\"outlinewidth\": 0, \"ticks\": \"\"}, \"colorscale\": [[0.0, \"#0d0887\"], [0.1111111111111111, \"#46039f\"], [0.2222222222222222, \"#7201a8\"], [0.3333333333333333, \"#9c179e\"], [0.4444444444444444, \"#bd3786\"], [0.5555555555555556, \"#d8576b\"], [0.6666666666666666, \"#ed7953\"], [0.7777777777777778, \"#fb9f3a\"], [0.8888888888888888, \"#fdca26\"], [1.0, \"#f0f921\"]], \"type\": \"heatmap\"}], \"heatmapgl\": [{\"colorbar\": {\"outlinewidth\": 0, \"ticks\": \"\"}, \"colorscale\": [[0.0, \"#0d0887\"], [0.1111111111111111, \"#46039f\"], [0.2222222222222222, \"#7201a8\"], [0.3333333333333333, \"#9c179e\"], [0.4444444444444444, \"#bd3786\"], [0.5555555555555556, \"#d8576b\"], [0.6666666666666666, \"#ed7953\"], [0.7777777777777778, \"#fb9f3a\"], [0.8888888888888888, \"#fdca26\"], [1.0, \"#f0f921\"]], \"type\": \"heatmapgl\"}], \"histogram\": [{\"marker\": {\"colorbar\": {\"outlinewidth\": 0, \"ticks\": \"\"}}, \"type\": \"histogram\"}], \"histogram2d\": [{\"colorbar\": {\"outlinewidth\": 0, \"ticks\": \"\"}, \"colorscale\": [[0.0, \"#0d0887\"], [0.1111111111111111, \"#46039f\"], [0.2222222222222222, \"#7201a8\"], [0.3333333333333333, \"#9c179e\"], [0.4444444444444444, \"#bd3786\"], [0.5555555555555556, \"#d8576b\"], [0.6666666666666666, \"#ed7953\"], [0.7777777777777778, \"#fb9f3a\"], [0.8888888888888888, \"#fdca26\"], [1.0, \"#f0f921\"]], \"type\": \"histogram2d\"}], \"histogram2dcontour\": [{\"colorbar\": {\"outlinewidth\": 0, \"ticks\": \"\"}, \"colorscale\": [[0.0, \"#0d0887\"], [0.1111111111111111, \"#46039f\"], [0.2222222222222222, \"#7201a8\"], [0.3333333333333333, \"#9c179e\"], [0.4444444444444444, \"#bd3786\"], [0.5555555555555556, \"#d8576b\"], [0.6666666666666666, \"#ed7953\"], [0.7777777777777778, \"#fb9f3a\"], [0.8888888888888888, \"#fdca26\"], [1.0, \"#f0f921\"]], \"type\": \"histogram2dcontour\"}], \"mesh3d\": [{\"colorbar\": {\"outlinewidth\": 0, \"ticks\": \"\"}, \"type\": \"mesh3d\"}], \"parcoords\": [{\"line\": {\"colorbar\": {\"outlinewidth\": 0, \"ticks\": \"\"}}, \"type\": \"parcoords\"}], \"pie\": [{\"automargin\": true, \"type\": \"pie\"}], \"scatter\": [{\"marker\": {\"colorbar\": {\"outlinewidth\": 0, \"ticks\": \"\"}}, \"type\": \"scatter\"}], \"scatter3d\": [{\"line\": {\"colorbar\": {\"outlinewidth\": 0, \"ticks\": \"\"}}, \"marker\": {\"colorbar\": {\"outlinewidth\": 0, \"ticks\": \"\"}}, \"type\": \"scatter3d\"}], \"scattercarpet\": [{\"marker\": {\"colorbar\": {\"outlinewidth\": 0, \"ticks\": \"\"}}, \"type\": \"scattercarpet\"}], \"scattergeo\": [{\"marker\": {\"colorbar\": {\"outlinewidth\": 0, \"ticks\": \"\"}}, \"type\": \"scattergeo\"}], \"scattergl\": [{\"marker\": {\"colorbar\": {\"outlinewidth\": 0, \"ticks\": \"\"}}, \"type\": \"scattergl\"}], \"scattermapbox\": [{\"marker\": {\"colorbar\": {\"outlinewidth\": 0, \"ticks\": \"\"}}, \"type\": \"scattermapbox\"}], \"scatterpolar\": [{\"marker\": {\"colorbar\": {\"outlinewidth\": 0, \"ticks\": \"\"}}, \"type\": \"scatterpolar\"}], \"scatterpolargl\": [{\"marker\": {\"colorbar\": {\"outlinewidth\": 0, \"ticks\": \"\"}}, \"type\": \"scatterpolargl\"}], \"scatterternary\": [{\"marker\": {\"colorbar\": {\"outlinewidth\": 0, \"ticks\": \"\"}}, \"type\": \"scatterternary\"}], \"surface\": [{\"colorbar\": {\"outlinewidth\": 0, \"ticks\": \"\"}, \"colorscale\": [[0.0, \"#0d0887\"], [0.1111111111111111, \"#46039f\"], [0.2222222222222222, \"#7201a8\"], [0.3333333333333333, \"#9c179e\"], [0.4444444444444444, \"#bd3786\"], [0.5555555555555556, \"#d8576b\"], [0.6666666666666666, \"#ed7953\"], [0.7777777777777778, \"#fb9f3a\"], [0.8888888888888888, \"#fdca26\"], [1.0, \"#f0f921\"]], \"type\": \"surface\"}], \"table\": [{\"cells\": {\"fill\": {\"color\": \"#EBF0F8\"}, \"line\": {\"color\": \"white\"}}, \"header\": {\"fill\": {\"color\": \"#C8D4E3\"}, \"line\": {\"color\": \"white\"}}, \"type\": \"table\"}]}, \"layout\": {\"annotationdefaults\": {\"arrowcolor\": \"#2a3f5f\", \"arrowhead\": 0, \"arrowwidth\": 1}, \"coloraxis\": {\"colorbar\": {\"outlinewidth\": 0, \"ticks\": \"\"}}, \"colorscale\": {\"diverging\": [[0, \"#8e0152\"], [0.1, \"#c51b7d\"], [0.2, \"#de77ae\"], [0.3, \"#f1b6da\"], [0.4, \"#fde0ef\"], [0.5, \"#f7f7f7\"], [0.6, \"#e6f5d0\"], [0.7, \"#b8e186\"], [0.8, \"#7fbc41\"], [0.9, \"#4d9221\"], [1, \"#276419\"]], \"sequential\": [[0.0, \"#0d0887\"], [0.1111111111111111, \"#46039f\"], [0.2222222222222222, \"#7201a8\"], [0.3333333333333333, \"#9c179e\"], [0.4444444444444444, \"#bd3786\"], [0.5555555555555556, \"#d8576b\"], [0.6666666666666666, \"#ed7953\"], [0.7777777777777778, \"#fb9f3a\"], [0.8888888888888888, \"#fdca26\"], [1.0, \"#f0f921\"]], \"sequentialminus\": [[0.0, \"#0d0887\"], [0.1111111111111111, \"#46039f\"], [0.2222222222222222, \"#7201a8\"], [0.3333333333333333, \"#9c179e\"], [0.4444444444444444, \"#bd3786\"], [0.5555555555555556, \"#d8576b\"], [0.6666666666666666, \"#ed7953\"], [0.7777777777777778, \"#fb9f3a\"], [0.8888888888888888, \"#fdca26\"], [1.0, \"#f0f921\"]]}, \"colorway\": [\"#636efa\", \"#EF553B\", \"#00cc96\", \"#ab63fa\", \"#FFA15A\", \"#19d3f3\", \"#FF6692\", \"#B6E880\", \"#FF97FF\", \"#FECB52\"], \"font\": {\"color\": \"#2a3f5f\"}, \"geo\": {\"bgcolor\": \"white\", \"lakecolor\": \"white\", \"landcolor\": \"#E5ECF6\", \"showlakes\": true, \"showland\": true, \"subunitcolor\": \"white\"}, \"hoverlabel\": {\"align\": \"left\"}, \"hovermode\": \"closest\", \"mapbox\": {\"style\": \"light\"}, \"paper_bgcolor\": \"white\", \"plot_bgcolor\": \"#E5ECF6\", \"polar\": {\"angularaxis\": {\"gridcolor\": \"white\", \"linecolor\": \"white\", \"ticks\": \"\"}, \"bgcolor\": \"#E5ECF6\", \"radialaxis\": {\"gridcolor\": \"white\", \"linecolor\": \"white\", \"ticks\": \"\"}}, \"scene\": {\"xaxis\": {\"backgroundcolor\": \"#E5ECF6\", \"gridcolor\": \"white\", \"gridwidth\": 2, \"linecolor\": \"white\", \"showbackground\": true, \"ticks\": \"\", \"zerolinecolor\": \"white\"}, \"yaxis\": {\"backgroundcolor\": \"#E5ECF6\", \"gridcolor\": \"white\", \"gridwidth\": 2, \"linecolor\": \"white\", \"showbackground\": true, \"ticks\": \"\", \"zerolinecolor\": \"white\"}, \"zaxis\": {\"backgroundcolor\": \"#E5ECF6\", \"gridcolor\": \"white\", \"gridwidth\": 2, \"linecolor\": \"white\", \"showbackground\": true, \"ticks\": \"\", \"zerolinecolor\": \"white\"}}, \"shapedefaults\": {\"line\": {\"color\": \"#2a3f5f\"}}, \"ternary\": {\"aaxis\": {\"gridcolor\": \"white\", \"linecolor\": \"white\", \"ticks\": \"\"}, \"baxis\": {\"gridcolor\": \"white\", \"linecolor\": \"white\", \"ticks\": \"\"}, \"bgcolor\": \"#E5ECF6\", \"caxis\": {\"gridcolor\": \"white\", \"linecolor\": \"white\", \"ticks\": \"\"}}, \"title\": {\"x\": 0.05}, \"xaxis\": {\"automargin\": true, \"gridcolor\": \"white\", \"linecolor\": \"white\", \"ticks\": \"\", \"title\": {\"standoff\": 15}, \"zerolinecolor\": \"white\", \"zerolinewidth\": 2}, \"yaxis\": {\"automargin\": true, \"gridcolor\": \"white\", \"linecolor\": \"white\", \"ticks\": \"\", \"title\": {\"standoff\": 15}, \"zerolinecolor\": \"white\", \"zerolinewidth\": 2}}}, \"title\": {\"text\": \"Plant Type vs Season\"}, \"xaxis\": {\"anchor\": \"y\", \"domain\": [0.0, 1.0], \"title\": {\"text\": \"Plant Type\"}}, \"yaxis\": {\"anchor\": \"x\", \"domain\": [0.0, 1.0], \"title\": {\"text\": \"Season\"}}},                        {\"responsive\": true}                    ).then(function(){\n",
       "                            \n",
       "var gd = document.getElementById('856664c5-3f96-4c5f-9231-7f8fdb717086');\n",
       "var x = new MutationObserver(function (mutations, observer) {{\n",
       "        var display = window.getComputedStyle(gd).display;\n",
       "        if (!display || display === 'none') {{\n",
       "            console.log([gd, 'removed!']);\n",
       "            Plotly.purge(gd);\n",
       "            observer.disconnect();\n",
       "        }}\n",
       "}});\n",
       "\n",
       "// Listen for the removal of the full notebook cells\n",
       "var notebookContainer = gd.closest('#notebook-container');\n",
       "if (notebookContainer) {{\n",
       "    x.observe(notebookContainer, {childList: true});\n",
       "}}\n",
       "\n",
       "// Listen for the clearing of the current output cell\n",
       "var outputEl = gd.closest('.output');\n",
       "if (outputEl) {{\n",
       "    x.observe(outputEl, {childList: true});\n",
       "}}\n",
       "\n",
       "                        })                };                });            </script>        </div>"
      ]
     },
     "metadata": {},
     "output_type": "display_data"
    }
   ],
   "source": [
    "fig = px.bar(data, x = 'Plant Type', y = 'Season', title='Plant Type vs Season')\n",
    "fig.show()"
   ]
  },
  {
   "cell_type": "code",
   "execution_count": 12,
   "metadata": {},
   "outputs": [
    {
     "data": {
      "application/vnd.plotly.v1+json": {
       "config": {
        "plotlyServerURL": "https://plot.ly"
       },
       "data": [
        {
         "alignmentgroup": "True",
         "hovertemplate": "Plant Type=%{y}<br>Season=%{x}<extra></extra>",
         "legendgroup": "Flower",
         "marker": {
          "color": "#636efa"
         },
         "name": "Flower",
         "offsetgroup": "Flower",
         "orientation": "v",
         "showlegend": true,
         "textposition": "auto",
         "type": "bar",
         "x": [
          "Spring",
          "Summer",
          "Spring",
          "Spring",
          "Summer",
          "Summer",
          "Summer",
          "Spring",
          "Spring",
          "Spring",
          "Spring",
          "Summer",
          "Summer",
          "Spring",
          "Spring",
          "Summer",
          "Spring",
          "Summer",
          "Spring",
          "Summer",
          "Spring",
          "Spring",
          "Summer",
          "Summer",
          "Spring",
          "Summer",
          "Spring",
          "Summer",
          "Spring",
          "Spring",
          "Summer",
          "Spring",
          "Summer",
          "Spring",
          "Summer",
          "Summer",
          "Summer",
          "Spring",
          "Summer",
          "Spring",
          "Summer",
          "Summer",
          "Spring",
          "Spring",
          "Summer",
          "Summer",
          "Summer",
          "Summer",
          "Spring",
          "Spring",
          "Spring",
          "Spring",
          "Spring",
          "Summer",
          "Summer",
          "Spring",
          "Summer",
          "Summer",
          "Summer",
          "Spring",
          "Spring",
          "Spring",
          "Spring",
          "Summer",
          "Spring",
          "Spring",
          "Summer",
          "Spring",
          "Summer",
          "Summer",
          "Summer",
          "Spring",
          "Summer",
          "Spring",
          "Summer",
          "Summer",
          "Summer",
          "Summer",
          "Spring",
          "Summer",
          "Summer",
          "Summer",
          "Summer",
          "Summer",
          "Spring",
          "Spring",
          "Spring",
          "Summer",
          "Summer",
          "Summer",
          "Summer",
          "Summer",
          "Summer",
          "Spring",
          "Summer",
          "Summer",
          "Spring",
          "Summer",
          "Summer",
          "Spring",
          "Summer",
          "Summer",
          "Summer",
          "Summer",
          "Summer",
          "Spring",
          "Summer",
          "Spring",
          "Summer",
          "Summer",
          "Spring",
          "Summer",
          "Summer",
          "Summer",
          "Spring",
          "Spring",
          "Summer",
          "Spring",
          "Spring",
          "Summer",
          "Summer",
          "Summer",
          "Summer",
          "Spring",
          "Spring",
          "Spring",
          "Summer",
          "Spring",
          "Summer",
          "Spring",
          "Spring",
          "Spring",
          "Summer",
          "Summer",
          "Spring",
          "Spring",
          "Summer",
          "Summer",
          "Summer",
          "Summer",
          "Spring",
          "Spring",
          "Summer",
          "Spring",
          "Spring",
          "Summer",
          "Spring",
          "Summer",
          "Spring",
          "Summer",
          "Summer",
          "Fall",
          "Fall",
          "Summer"
         ],
         "xaxis": "x",
         "y": [
          "Flower",
          "Flower",
          "Flower",
          "Flower",
          "Flower",
          "Flower",
          "Flower",
          "Flower",
          "Flower",
          "Flower",
          "Flower",
          "Flower",
          "Flower",
          "Flower",
          "Flower",
          "Flower",
          "Flower",
          "Flower",
          "Flower",
          "Flower",
          "Flower",
          "Flower",
          "Flower",
          "Flower",
          "Flower",
          "Flower",
          "Flower",
          "Flower",
          "Flower",
          "Flower",
          "Flower",
          "Flower",
          "Flower",
          "Flower",
          "Flower",
          "Flower",
          "Flower",
          "Flower",
          "Flower",
          "Flower",
          "Flower",
          "Flower",
          "Flower",
          "Flower",
          "Flower",
          "Flower",
          "Flower",
          "Flower",
          "Flower",
          "Flower",
          "Flower",
          "Flower",
          "Flower",
          "Flower",
          "Flower",
          "Flower",
          "Flower",
          "Flower",
          "Flower",
          "Flower",
          "Flower",
          "Flower",
          "Flower",
          "Flower",
          "Flower",
          "Flower",
          "Flower",
          "Flower",
          "Flower",
          "Flower",
          "Flower",
          "Flower",
          "Flower",
          "Flower",
          "Flower",
          "Flower",
          "Flower",
          "Flower",
          "Flower",
          "Flower",
          "Flower",
          "Flower",
          "Flower",
          "Flower",
          "Flower",
          "Flower",
          "Flower",
          "Flower",
          "Flower",
          "Flower",
          "Flower",
          "Flower",
          "Flower",
          "Flower",
          "Flower",
          "Flower",
          "Flower",
          "Flower",
          "Flower",
          "Flower",
          "Flower",
          "Flower",
          "Flower",
          "Flower",
          "Flower",
          "Flower",
          "Flower",
          "Flower",
          "Flower",
          "Flower",
          "Flower",
          "Flower",
          "Flower",
          "Flower",
          "Flower",
          "Flower",
          "Flower",
          "Flower",
          "Flower",
          "Flower",
          "Flower",
          "Flower",
          "Flower",
          "Flower",
          "Flower",
          "Flower",
          "Flower",
          "Flower",
          "Flower",
          "Flower",
          "Flower",
          "Flower",
          "Flower",
          "Flower",
          "Flower",
          "Flower",
          "Flower",
          "Flower",
          "Flower",
          "Flower",
          "Flower",
          "Flower",
          "Flower",
          "Flower",
          "Flower",
          "Flower",
          "Flower",
          "Flower",
          "Flower",
          "Flower",
          "Flower",
          "Flower",
          "Flower",
          "Flower"
         ],
         "yaxis": "y"
        },
        {
         "alignmentgroup": "True",
         "hovertemplate": "Plant Type=%{y}<br>Season=%{x}<extra></extra>",
         "legendgroup": "Animal Feed",
         "marker": {
          "color": "#EF553B"
         },
         "name": "Animal Feed",
         "offsetgroup": "Animal Feed",
         "orientation": "v",
         "showlegend": true,
         "textposition": "auto",
         "type": "bar",
         "x": [
          "Fall",
          "Summer"
         ],
         "xaxis": "x",
         "y": [
          "Animal Feed",
          "Animal Feed"
         ],
         "yaxis": "y"
        },
        {
         "alignmentgroup": "True",
         "hovertemplate": "Plant Type=%{y}<br>Season=%{x}<extra></extra>",
         "legendgroup": "Fruit",
         "marker": {
          "color": "#00cc96"
         },
         "name": "Fruit",
         "offsetgroup": "Fruit",
         "orientation": "v",
         "showlegend": true,
         "textposition": "auto",
         "type": "bar",
         "x": [
          "Fall",
          "Fall",
          "Fall",
          "Fall",
          "Fall",
          "Fall",
          "Fall",
          "Fall",
          "Fall",
          "Fall",
          "Winter",
          "Winter",
          "Spring",
          "Spring",
          "Spring",
          "Spring",
          "Spring",
          "Summer",
          "Summer",
          "Summer",
          "Summer",
          "Summer",
          "Summer",
          "Summer",
          "Summer",
          "Winter",
          "Summer",
          "Fall",
          "Spring",
          "Winter",
          "Summer",
          "Fall",
          "Spring",
          "Spring",
          "Fall",
          "Summer",
          "Spring",
          "Spring",
          "Fall",
          "Spring",
          "Winter",
          "Summer",
          "Spring",
          "Fall",
          "Summer",
          "Summer",
          "Spring",
          "Fall",
          "Spring",
          "Spring",
          "Spring",
          "Spring"
         ],
         "xaxis": "x",
         "y": [
          "Fruit",
          "Fruit",
          "Fruit",
          "Fruit",
          "Fruit",
          "Fruit",
          "Fruit",
          "Fruit",
          "Fruit",
          "Fruit",
          "Fruit",
          "Fruit",
          "Fruit",
          "Fruit",
          "Fruit",
          "Fruit",
          "Fruit",
          "Fruit",
          "Fruit",
          "Fruit",
          "Fruit",
          "Fruit",
          "Fruit",
          "Fruit",
          "Fruit",
          "Fruit",
          "Fruit",
          "Fruit",
          "Fruit",
          "Fruit",
          "Fruit",
          "Fruit",
          "Fruit",
          "Fruit",
          "Fruit",
          "Fruit",
          "Fruit",
          "Fruit",
          "Fruit",
          "Fruit",
          "Fruit",
          "Fruit",
          "Fruit",
          "Fruit",
          "Fruit",
          "Fruit",
          "Fruit",
          "Fruit",
          "Fruit",
          "Fruit",
          "Fruit",
          "Fruit"
         ],
         "yaxis": "y"
        },
        {
         "alignmentgroup": "True",
         "hovertemplate": "Plant Type=%{y}<br>Season=%{x}<extra></extra>",
         "legendgroup": "Other",
         "marker": {
          "color": "#ab63fa"
         },
         "name": "Other",
         "offsetgroup": "Other",
         "orientation": "v",
         "showlegend": true,
         "textposition": "auto",
         "type": "bar",
         "x": [
          "Fall",
          "Spring",
          "Spring",
          "Spring",
          "Fall"
         ],
         "xaxis": "x",
         "y": [
          "Other",
          "Other",
          "Other",
          "Other",
          "Other"
         ],
         "yaxis": "y"
        },
        {
         "alignmentgroup": "True",
         "hovertemplate": "Plant Type=%{y}<br>Season=%{x}<extra></extra>",
         "legendgroup": "Vegetable",
         "marker": {
          "color": "#FFA15A"
         },
         "name": "Vegetable",
         "offsetgroup": "Vegetable",
         "orientation": "v",
         "showlegend": true,
         "textposition": "auto",
         "type": "bar",
         "x": [
          "Fall",
          "Fall",
          "Fall",
          "Fall",
          "Fall",
          "Fall",
          "Fall",
          "Fall",
          "Summer",
          "Summer",
          "Summer",
          "Summer",
          "Summer",
          "Spring",
          "Spring",
          "Fall",
          "Fall",
          "Spring",
          "Fall",
          "Spring",
          "Summer",
          "Spring",
          "Spring",
          "Spring",
          "Spring",
          "Summer",
          "Spring",
          "Fall"
         ],
         "xaxis": "x",
         "y": [
          "Vegetable",
          "Vegetable",
          "Vegetable",
          "Vegetable",
          "Vegetable",
          "Vegetable",
          "Vegetable",
          "Vegetable",
          "Vegetable",
          "Vegetable",
          "Vegetable",
          "Vegetable",
          "Vegetable",
          "Vegetable",
          "Vegetable",
          "Vegetable",
          "Vegetable",
          "Vegetable",
          "Vegetable",
          "Vegetable",
          "Vegetable",
          "Vegetable",
          "Vegetable",
          "Vegetable",
          "Vegetable",
          "Vegetable",
          "Vegetable",
          "Vegetable"
         ],
         "yaxis": "y"
        },
        {
         "alignmentgroup": "True",
         "hovertemplate": "Plant Type=%{y}<br>Season=%{x}<extra></extra>",
         "legendgroup": "Grain/Nut",
         "marker": {
          "color": "#19d3f3"
         },
         "name": "Grain/Nut",
         "offsetgroup": "Grain/Nut",
         "orientation": "v",
         "showlegend": true,
         "textposition": "auto",
         "type": "bar",
         "x": [
          "Fall",
          "Fall",
          "Winter",
          "Winter",
          "Spring",
          "Summer",
          "Summer",
          "Summer"
         ],
         "xaxis": "x",
         "y": [
          "Grain/Nut",
          "Grain/Nut",
          "Grain/Nut",
          "Grain/Nut",
          "Grain/Nut",
          "Grain/Nut",
          "Grain/Nut",
          "Grain/Nut"
         ],
         "yaxis": "y"
        },
        {
         "alignmentgroup": "True",
         "hovertemplate": "Plant Type=%{y}<br>Season=%{x}<extra></extra>",
         "legendgroup": "Grain",
         "marker": {
          "color": "#FF6692"
         },
         "name": "Grain",
         "offsetgroup": "Grain",
         "orientation": "v",
         "showlegend": true,
         "textposition": "auto",
         "type": "bar",
         "x": [
          "Fall",
          "Fall",
          "Spring",
          "Spring",
          "Spring"
         ],
         "xaxis": "x",
         "y": [
          "Grain",
          "Grain",
          "Grain",
          "Grain",
          "Grain"
         ],
         "yaxis": "y"
        }
       ],
       "layout": {
        "barmode": "relative",
        "legend": {
         "title": {
          "text": "Plant Type"
         },
         "tracegroupgap": 0
        },
        "template": {
         "data": {
          "bar": [
           {
            "error_x": {
             "color": "#2a3f5f"
            },
            "error_y": {
             "color": "#2a3f5f"
            },
            "marker": {
             "line": {
              "color": "#E5ECF6",
              "width": 0.5
             }
            },
            "type": "bar"
           }
          ],
          "barpolar": [
           {
            "marker": {
             "line": {
              "color": "#E5ECF6",
              "width": 0.5
             }
            },
            "type": "barpolar"
           }
          ],
          "carpet": [
           {
            "aaxis": {
             "endlinecolor": "#2a3f5f",
             "gridcolor": "white",
             "linecolor": "white",
             "minorgridcolor": "white",
             "startlinecolor": "#2a3f5f"
            },
            "baxis": {
             "endlinecolor": "#2a3f5f",
             "gridcolor": "white",
             "linecolor": "white",
             "minorgridcolor": "white",
             "startlinecolor": "#2a3f5f"
            },
            "type": "carpet"
           }
          ],
          "choropleth": [
           {
            "colorbar": {
             "outlinewidth": 0,
             "ticks": ""
            },
            "type": "choropleth"
           }
          ],
          "contour": [
           {
            "colorbar": {
             "outlinewidth": 0,
             "ticks": ""
            },
            "colorscale": [
             [
              0,
              "#0d0887"
             ],
             [
              0.1111111111111111,
              "#46039f"
             ],
             [
              0.2222222222222222,
              "#7201a8"
             ],
             [
              0.3333333333333333,
              "#9c179e"
             ],
             [
              0.4444444444444444,
              "#bd3786"
             ],
             [
              0.5555555555555556,
              "#d8576b"
             ],
             [
              0.6666666666666666,
              "#ed7953"
             ],
             [
              0.7777777777777778,
              "#fb9f3a"
             ],
             [
              0.8888888888888888,
              "#fdca26"
             ],
             [
              1,
              "#f0f921"
             ]
            ],
            "type": "contour"
           }
          ],
          "contourcarpet": [
           {
            "colorbar": {
             "outlinewidth": 0,
             "ticks": ""
            },
            "type": "contourcarpet"
           }
          ],
          "heatmap": [
           {
            "colorbar": {
             "outlinewidth": 0,
             "ticks": ""
            },
            "colorscale": [
             [
              0,
              "#0d0887"
             ],
             [
              0.1111111111111111,
              "#46039f"
             ],
             [
              0.2222222222222222,
              "#7201a8"
             ],
             [
              0.3333333333333333,
              "#9c179e"
             ],
             [
              0.4444444444444444,
              "#bd3786"
             ],
             [
              0.5555555555555556,
              "#d8576b"
             ],
             [
              0.6666666666666666,
              "#ed7953"
             ],
             [
              0.7777777777777778,
              "#fb9f3a"
             ],
             [
              0.8888888888888888,
              "#fdca26"
             ],
             [
              1,
              "#f0f921"
             ]
            ],
            "type": "heatmap"
           }
          ],
          "heatmapgl": [
           {
            "colorbar": {
             "outlinewidth": 0,
             "ticks": ""
            },
            "colorscale": [
             [
              0,
              "#0d0887"
             ],
             [
              0.1111111111111111,
              "#46039f"
             ],
             [
              0.2222222222222222,
              "#7201a8"
             ],
             [
              0.3333333333333333,
              "#9c179e"
             ],
             [
              0.4444444444444444,
              "#bd3786"
             ],
             [
              0.5555555555555556,
              "#d8576b"
             ],
             [
              0.6666666666666666,
              "#ed7953"
             ],
             [
              0.7777777777777778,
              "#fb9f3a"
             ],
             [
              0.8888888888888888,
              "#fdca26"
             ],
             [
              1,
              "#f0f921"
             ]
            ],
            "type": "heatmapgl"
           }
          ],
          "histogram": [
           {
            "marker": {
             "colorbar": {
              "outlinewidth": 0,
              "ticks": ""
             }
            },
            "type": "histogram"
           }
          ],
          "histogram2d": [
           {
            "colorbar": {
             "outlinewidth": 0,
             "ticks": ""
            },
            "colorscale": [
             [
              0,
              "#0d0887"
             ],
             [
              0.1111111111111111,
              "#46039f"
             ],
             [
              0.2222222222222222,
              "#7201a8"
             ],
             [
              0.3333333333333333,
              "#9c179e"
             ],
             [
              0.4444444444444444,
              "#bd3786"
             ],
             [
              0.5555555555555556,
              "#d8576b"
             ],
             [
              0.6666666666666666,
              "#ed7953"
             ],
             [
              0.7777777777777778,
              "#fb9f3a"
             ],
             [
              0.8888888888888888,
              "#fdca26"
             ],
             [
              1,
              "#f0f921"
             ]
            ],
            "type": "histogram2d"
           }
          ],
          "histogram2dcontour": [
           {
            "colorbar": {
             "outlinewidth": 0,
             "ticks": ""
            },
            "colorscale": [
             [
              0,
              "#0d0887"
             ],
             [
              0.1111111111111111,
              "#46039f"
             ],
             [
              0.2222222222222222,
              "#7201a8"
             ],
             [
              0.3333333333333333,
              "#9c179e"
             ],
             [
              0.4444444444444444,
              "#bd3786"
             ],
             [
              0.5555555555555556,
              "#d8576b"
             ],
             [
              0.6666666666666666,
              "#ed7953"
             ],
             [
              0.7777777777777778,
              "#fb9f3a"
             ],
             [
              0.8888888888888888,
              "#fdca26"
             ],
             [
              1,
              "#f0f921"
             ]
            ],
            "type": "histogram2dcontour"
           }
          ],
          "mesh3d": [
           {
            "colorbar": {
             "outlinewidth": 0,
             "ticks": ""
            },
            "type": "mesh3d"
           }
          ],
          "parcoords": [
           {
            "line": {
             "colorbar": {
              "outlinewidth": 0,
              "ticks": ""
             }
            },
            "type": "parcoords"
           }
          ],
          "pie": [
           {
            "automargin": true,
            "type": "pie"
           }
          ],
          "scatter": [
           {
            "marker": {
             "colorbar": {
              "outlinewidth": 0,
              "ticks": ""
             }
            },
            "type": "scatter"
           }
          ],
          "scatter3d": [
           {
            "line": {
             "colorbar": {
              "outlinewidth": 0,
              "ticks": ""
             }
            },
            "marker": {
             "colorbar": {
              "outlinewidth": 0,
              "ticks": ""
             }
            },
            "type": "scatter3d"
           }
          ],
          "scattercarpet": [
           {
            "marker": {
             "colorbar": {
              "outlinewidth": 0,
              "ticks": ""
             }
            },
            "type": "scattercarpet"
           }
          ],
          "scattergeo": [
           {
            "marker": {
             "colorbar": {
              "outlinewidth": 0,
              "ticks": ""
             }
            },
            "type": "scattergeo"
           }
          ],
          "scattergl": [
           {
            "marker": {
             "colorbar": {
              "outlinewidth": 0,
              "ticks": ""
             }
            },
            "type": "scattergl"
           }
          ],
          "scattermapbox": [
           {
            "marker": {
             "colorbar": {
              "outlinewidth": 0,
              "ticks": ""
             }
            },
            "type": "scattermapbox"
           }
          ],
          "scatterpolar": [
           {
            "marker": {
             "colorbar": {
              "outlinewidth": 0,
              "ticks": ""
             }
            },
            "type": "scatterpolar"
           }
          ],
          "scatterpolargl": [
           {
            "marker": {
             "colorbar": {
              "outlinewidth": 0,
              "ticks": ""
             }
            },
            "type": "scatterpolargl"
           }
          ],
          "scatterternary": [
           {
            "marker": {
             "colorbar": {
              "outlinewidth": 0,
              "ticks": ""
             }
            },
            "type": "scatterternary"
           }
          ],
          "surface": [
           {
            "colorbar": {
             "outlinewidth": 0,
             "ticks": ""
            },
            "colorscale": [
             [
              0,
              "#0d0887"
             ],
             [
              0.1111111111111111,
              "#46039f"
             ],
             [
              0.2222222222222222,
              "#7201a8"
             ],
             [
              0.3333333333333333,
              "#9c179e"
             ],
             [
              0.4444444444444444,
              "#bd3786"
             ],
             [
              0.5555555555555556,
              "#d8576b"
             ],
             [
              0.6666666666666666,
              "#ed7953"
             ],
             [
              0.7777777777777778,
              "#fb9f3a"
             ],
             [
              0.8888888888888888,
              "#fdca26"
             ],
             [
              1,
              "#f0f921"
             ]
            ],
            "type": "surface"
           }
          ],
          "table": [
           {
            "cells": {
             "fill": {
              "color": "#EBF0F8"
             },
             "line": {
              "color": "white"
             }
            },
            "header": {
             "fill": {
              "color": "#C8D4E3"
             },
             "line": {
              "color": "white"
             }
            },
            "type": "table"
           }
          ]
         },
         "layout": {
          "annotationdefaults": {
           "arrowcolor": "#2a3f5f",
           "arrowhead": 0,
           "arrowwidth": 1
          },
          "coloraxis": {
           "colorbar": {
            "outlinewidth": 0,
            "ticks": ""
           }
          },
          "colorscale": {
           "diverging": [
            [
             0,
             "#8e0152"
            ],
            [
             0.1,
             "#c51b7d"
            ],
            [
             0.2,
             "#de77ae"
            ],
            [
             0.3,
             "#f1b6da"
            ],
            [
             0.4,
             "#fde0ef"
            ],
            [
             0.5,
             "#f7f7f7"
            ],
            [
             0.6,
             "#e6f5d0"
            ],
            [
             0.7,
             "#b8e186"
            ],
            [
             0.8,
             "#7fbc41"
            ],
            [
             0.9,
             "#4d9221"
            ],
            [
             1,
             "#276419"
            ]
           ],
           "sequential": [
            [
             0,
             "#0d0887"
            ],
            [
             0.1111111111111111,
             "#46039f"
            ],
            [
             0.2222222222222222,
             "#7201a8"
            ],
            [
             0.3333333333333333,
             "#9c179e"
            ],
            [
             0.4444444444444444,
             "#bd3786"
            ],
            [
             0.5555555555555556,
             "#d8576b"
            ],
            [
             0.6666666666666666,
             "#ed7953"
            ],
            [
             0.7777777777777778,
             "#fb9f3a"
            ],
            [
             0.8888888888888888,
             "#fdca26"
            ],
            [
             1,
             "#f0f921"
            ]
           ],
           "sequentialminus": [
            [
             0,
             "#0d0887"
            ],
            [
             0.1111111111111111,
             "#46039f"
            ],
            [
             0.2222222222222222,
             "#7201a8"
            ],
            [
             0.3333333333333333,
             "#9c179e"
            ],
            [
             0.4444444444444444,
             "#bd3786"
            ],
            [
             0.5555555555555556,
             "#d8576b"
            ],
            [
             0.6666666666666666,
             "#ed7953"
            ],
            [
             0.7777777777777778,
             "#fb9f3a"
            ],
            [
             0.8888888888888888,
             "#fdca26"
            ],
            [
             1,
             "#f0f921"
            ]
           ]
          },
          "colorway": [
           "#636efa",
           "#EF553B",
           "#00cc96",
           "#ab63fa",
           "#FFA15A",
           "#19d3f3",
           "#FF6692",
           "#B6E880",
           "#FF97FF",
           "#FECB52"
          ],
          "font": {
           "color": "#2a3f5f"
          },
          "geo": {
           "bgcolor": "white",
           "lakecolor": "white",
           "landcolor": "#E5ECF6",
           "showlakes": true,
           "showland": true,
           "subunitcolor": "white"
          },
          "hoverlabel": {
           "align": "left"
          },
          "hovermode": "closest",
          "mapbox": {
           "style": "light"
          },
          "paper_bgcolor": "white",
          "plot_bgcolor": "#E5ECF6",
          "polar": {
           "angularaxis": {
            "gridcolor": "white",
            "linecolor": "white",
            "ticks": ""
           },
           "bgcolor": "#E5ECF6",
           "radialaxis": {
            "gridcolor": "white",
            "linecolor": "white",
            "ticks": ""
           }
          },
          "scene": {
           "xaxis": {
            "backgroundcolor": "#E5ECF6",
            "gridcolor": "white",
            "gridwidth": 2,
            "linecolor": "white",
            "showbackground": true,
            "ticks": "",
            "zerolinecolor": "white"
           },
           "yaxis": {
            "backgroundcolor": "#E5ECF6",
            "gridcolor": "white",
            "gridwidth": 2,
            "linecolor": "white",
            "showbackground": true,
            "ticks": "",
            "zerolinecolor": "white"
           },
           "zaxis": {
            "backgroundcolor": "#E5ECF6",
            "gridcolor": "white",
            "gridwidth": 2,
            "linecolor": "white",
            "showbackground": true,
            "ticks": "",
            "zerolinecolor": "white"
           }
          },
          "shapedefaults": {
           "line": {
            "color": "#2a3f5f"
           }
          },
          "ternary": {
           "aaxis": {
            "gridcolor": "white",
            "linecolor": "white",
            "ticks": ""
           },
           "baxis": {
            "gridcolor": "white",
            "linecolor": "white",
            "ticks": ""
           },
           "bgcolor": "#E5ECF6",
           "caxis": {
            "gridcolor": "white",
            "linecolor": "white",
            "ticks": ""
           }
          },
          "title": {
           "x": 0.05
          },
          "xaxis": {
           "automargin": true,
           "gridcolor": "white",
           "linecolor": "white",
           "ticks": "",
           "title": {
            "standoff": 15
           },
           "zerolinecolor": "white",
           "zerolinewidth": 2
          },
          "yaxis": {
           "automargin": true,
           "gridcolor": "white",
           "linecolor": "white",
           "ticks": "",
           "title": {
            "standoff": 15
           },
           "zerolinecolor": "white",
           "zerolinewidth": 2
          }
         }
        },
        "title": {
         "text": "Plant Type vs Season"
        },
        "xaxis": {
         "anchor": "y",
         "domain": [
          0,
          1
         ],
         "title": {
          "text": "Season"
         }
        },
        "yaxis": {
         "anchor": "x",
         "categoryarray": [
          "Grain",
          "Grain/Nut",
          "Vegetable",
          "Other",
          "Fruit",
          "Animal Feed",
          "Flower"
         ],
         "categoryorder": "array",
         "domain": [
          0,
          1
         ],
         "title": {
          "text": "Plant Type"
         }
        }
       }
      },
      "text/html": [
       "<div>                            <div id=\"475e154c-8385-44f6-9234-1440e52ba864\" class=\"plotly-graph-div\" style=\"height:525px; width:100%;\"></div>            <script type=\"text/javascript\">                require([\"plotly\"], function(Plotly) {                    window.PLOTLYENV=window.PLOTLYENV || {};                                    if (document.getElementById(\"475e154c-8385-44f6-9234-1440e52ba864\")) {                    Plotly.newPlot(                        \"475e154c-8385-44f6-9234-1440e52ba864\",                        [{\"alignmentgroup\": \"True\", \"hovertemplate\": \"Plant Type=%{y}<br>Season=%{x}<extra></extra>\", \"legendgroup\": \"Flower\", \"marker\": {\"color\": \"#636efa\"}, \"name\": \"Flower\", \"offsetgroup\": \"Flower\", \"orientation\": \"v\", \"showlegend\": true, \"textposition\": \"auto\", \"type\": \"bar\", \"x\": [\"Spring\", \"Summer\", \"Spring\", \"Spring\", \"Summer\", \"Summer\", \"Summer\", \"Spring\", \"Spring\", \"Spring\", \"Spring\", \"Summer\", \"Summer\", \"Spring\", \"Spring\", \"Summer\", \"Spring\", \"Summer\", \"Spring\", \"Summer\", \"Spring\", \"Spring\", \"Summer\", \"Summer\", \"Spring\", \"Summer\", \"Spring\", \"Summer\", \"Spring\", \"Spring\", \"Summer\", \"Spring\", \"Summer\", \"Spring\", \"Summer\", \"Summer\", \"Summer\", \"Spring\", \"Summer\", \"Spring\", \"Summer\", \"Summer\", \"Spring\", \"Spring\", \"Summer\", \"Summer\", \"Summer\", \"Summer\", \"Spring\", \"Spring\", \"Spring\", \"Spring\", \"Spring\", \"Summer\", \"Summer\", \"Spring\", \"Summer\", \"Summer\", \"Summer\", \"Spring\", \"Spring\", \"Spring\", \"Spring\", \"Summer\", \"Spring\", \"Spring\", \"Summer\", \"Spring\", \"Summer\", \"Summer\", \"Summer\", \"Spring\", \"Summer\", \"Spring\", \"Summer\", \"Summer\", \"Summer\", \"Summer\", \"Spring\", \"Summer\", \"Summer\", \"Summer\", \"Summer\", \"Summer\", \"Spring\", \"Spring\", \"Spring\", \"Summer\", \"Summer\", \"Summer\", \"Summer\", \"Summer\", \"Summer\", \"Spring\", \"Summer\", \"Summer\", \"Spring\", \"Summer\", \"Summer\", \"Spring\", \"Summer\", \"Summer\", \"Summer\", \"Summer\", \"Summer\", \"Spring\", \"Summer\", \"Spring\", \"Summer\", \"Summer\", \"Spring\", \"Summer\", \"Summer\", \"Summer\", \"Spring\", \"Spring\", \"Summer\", \"Spring\", \"Spring\", \"Summer\", \"Summer\", \"Summer\", \"Summer\", \"Spring\", \"Spring\", \"Spring\", \"Summer\", \"Spring\", \"Summer\", \"Spring\", \"Spring\", \"Spring\", \"Summer\", \"Summer\", \"Spring\", \"Spring\", \"Summer\", \"Summer\", \"Summer\", \"Summer\", \"Spring\", \"Spring\", \"Summer\", \"Spring\", \"Spring\", \"Summer\", \"Spring\", \"Summer\", \"Spring\", \"Summer\", \"Summer\", \"Fall\", \"Fall\", \"Summer\"], \"xaxis\": \"x\", \"y\": [\"Flower\", \"Flower\", \"Flower\", \"Flower\", \"Flower\", \"Flower\", \"Flower\", \"Flower\", \"Flower\", \"Flower\", \"Flower\", \"Flower\", \"Flower\", \"Flower\", \"Flower\", \"Flower\", \"Flower\", \"Flower\", \"Flower\", \"Flower\", \"Flower\", \"Flower\", \"Flower\", \"Flower\", \"Flower\", \"Flower\", \"Flower\", \"Flower\", \"Flower\", \"Flower\", \"Flower\", \"Flower\", \"Flower\", \"Flower\", \"Flower\", \"Flower\", \"Flower\", \"Flower\", \"Flower\", \"Flower\", \"Flower\", \"Flower\", \"Flower\", \"Flower\", \"Flower\", \"Flower\", \"Flower\", \"Flower\", \"Flower\", \"Flower\", \"Flower\", \"Flower\", \"Flower\", \"Flower\", \"Flower\", \"Flower\", \"Flower\", \"Flower\", \"Flower\", \"Flower\", \"Flower\", \"Flower\", \"Flower\", \"Flower\", \"Flower\", \"Flower\", \"Flower\", \"Flower\", \"Flower\", \"Flower\", \"Flower\", \"Flower\", \"Flower\", \"Flower\", \"Flower\", \"Flower\", \"Flower\", \"Flower\", \"Flower\", \"Flower\", \"Flower\", \"Flower\", \"Flower\", \"Flower\", \"Flower\", \"Flower\", \"Flower\", \"Flower\", \"Flower\", \"Flower\", \"Flower\", \"Flower\", \"Flower\", \"Flower\", \"Flower\", \"Flower\", \"Flower\", \"Flower\", \"Flower\", \"Flower\", \"Flower\", \"Flower\", \"Flower\", \"Flower\", \"Flower\", \"Flower\", \"Flower\", \"Flower\", \"Flower\", \"Flower\", \"Flower\", \"Flower\", \"Flower\", \"Flower\", \"Flower\", \"Flower\", \"Flower\", \"Flower\", \"Flower\", \"Flower\", \"Flower\", \"Flower\", \"Flower\", \"Flower\", \"Flower\", \"Flower\", \"Flower\", \"Flower\", \"Flower\", \"Flower\", \"Flower\", \"Flower\", \"Flower\", \"Flower\", \"Flower\", \"Flower\", \"Flower\", \"Flower\", \"Flower\", \"Flower\", \"Flower\", \"Flower\", \"Flower\", \"Flower\", \"Flower\", \"Flower\", \"Flower\", \"Flower\", \"Flower\", \"Flower\", \"Flower\", \"Flower\", \"Flower\", \"Flower\"], \"yaxis\": \"y\"}, {\"alignmentgroup\": \"True\", \"hovertemplate\": \"Plant Type=%{y}<br>Season=%{x}<extra></extra>\", \"legendgroup\": \"Animal Feed\", \"marker\": {\"color\": \"#EF553B\"}, \"name\": \"Animal Feed\", \"offsetgroup\": \"Animal Feed\", \"orientation\": \"v\", \"showlegend\": true, \"textposition\": \"auto\", \"type\": \"bar\", \"x\": [\"Fall\", \"Summer\"], \"xaxis\": \"x\", \"y\": [\"Animal Feed\", \"Animal Feed\"], \"yaxis\": \"y\"}, {\"alignmentgroup\": \"True\", \"hovertemplate\": \"Plant Type=%{y}<br>Season=%{x}<extra></extra>\", \"legendgroup\": \"Fruit\", \"marker\": {\"color\": \"#00cc96\"}, \"name\": \"Fruit\", \"offsetgroup\": \"Fruit\", \"orientation\": \"v\", \"showlegend\": true, \"textposition\": \"auto\", \"type\": \"bar\", \"x\": [\"Fall\", \"Fall\", \"Fall\", \"Fall\", \"Fall\", \"Fall\", \"Fall\", \"Fall\", \"Fall\", \"Fall\", \"Winter\", \"Winter\", \"Spring\", \"Spring\", \"Spring\", \"Spring\", \"Spring\", \"Summer\", \"Summer\", \"Summer\", \"Summer\", \"Summer\", \"Summer\", \"Summer\", \"Summer\", \"Winter\", \"Summer\", \"Fall\", \"Spring\", \"Winter\", \"Summer\", \"Fall\", \"Spring\", \"Spring\", \"Fall\", \"Summer\", \"Spring\", \"Spring\", \"Fall\", \"Spring\", \"Winter\", \"Summer\", \"Spring\", \"Fall\", \"Summer\", \"Summer\", \"Spring\", \"Fall\", \"Spring\", \"Spring\", \"Spring\", \"Spring\"], \"xaxis\": \"x\", \"y\": [\"Fruit\", \"Fruit\", \"Fruit\", \"Fruit\", \"Fruit\", \"Fruit\", \"Fruit\", \"Fruit\", \"Fruit\", \"Fruit\", \"Fruit\", \"Fruit\", \"Fruit\", \"Fruit\", \"Fruit\", \"Fruit\", \"Fruit\", \"Fruit\", \"Fruit\", \"Fruit\", \"Fruit\", \"Fruit\", \"Fruit\", \"Fruit\", \"Fruit\", \"Fruit\", \"Fruit\", \"Fruit\", \"Fruit\", \"Fruit\", \"Fruit\", \"Fruit\", \"Fruit\", \"Fruit\", \"Fruit\", \"Fruit\", \"Fruit\", \"Fruit\", \"Fruit\", \"Fruit\", \"Fruit\", \"Fruit\", \"Fruit\", \"Fruit\", \"Fruit\", \"Fruit\", \"Fruit\", \"Fruit\", \"Fruit\", \"Fruit\", \"Fruit\", \"Fruit\"], \"yaxis\": \"y\"}, {\"alignmentgroup\": \"True\", \"hovertemplate\": \"Plant Type=%{y}<br>Season=%{x}<extra></extra>\", \"legendgroup\": \"Other\", \"marker\": {\"color\": \"#ab63fa\"}, \"name\": \"Other\", \"offsetgroup\": \"Other\", \"orientation\": \"v\", \"showlegend\": true, \"textposition\": \"auto\", \"type\": \"bar\", \"x\": [\"Fall\", \"Spring\", \"Spring\", \"Spring\", \"Fall\"], \"xaxis\": \"x\", \"y\": [\"Other\", \"Other\", \"Other\", \"Other\", \"Other\"], \"yaxis\": \"y\"}, {\"alignmentgroup\": \"True\", \"hovertemplate\": \"Plant Type=%{y}<br>Season=%{x}<extra></extra>\", \"legendgroup\": \"Vegetable\", \"marker\": {\"color\": \"#FFA15A\"}, \"name\": \"Vegetable\", \"offsetgroup\": \"Vegetable\", \"orientation\": \"v\", \"showlegend\": true, \"textposition\": \"auto\", \"type\": \"bar\", \"x\": [\"Fall\", \"Fall\", \"Fall\", \"Fall\", \"Fall\", \"Fall\", \"Fall\", \"Fall\", \"Summer\", \"Summer\", \"Summer\", \"Summer\", \"Summer\", \"Spring\", \"Spring\", \"Fall\", \"Fall\", \"Spring\", \"Fall\", \"Spring\", \"Summer\", \"Spring\", \"Spring\", \"Spring\", \"Spring\", \"Summer\", \"Spring\", \"Fall\"], \"xaxis\": \"x\", \"y\": [\"Vegetable\", \"Vegetable\", \"Vegetable\", \"Vegetable\", \"Vegetable\", \"Vegetable\", \"Vegetable\", \"Vegetable\", \"Vegetable\", \"Vegetable\", \"Vegetable\", \"Vegetable\", \"Vegetable\", \"Vegetable\", \"Vegetable\", \"Vegetable\", \"Vegetable\", \"Vegetable\", \"Vegetable\", \"Vegetable\", \"Vegetable\", \"Vegetable\", \"Vegetable\", \"Vegetable\", \"Vegetable\", \"Vegetable\", \"Vegetable\", \"Vegetable\"], \"yaxis\": \"y\"}, {\"alignmentgroup\": \"True\", \"hovertemplate\": \"Plant Type=%{y}<br>Season=%{x}<extra></extra>\", \"legendgroup\": \"Grain/Nut\", \"marker\": {\"color\": \"#19d3f3\"}, \"name\": \"Grain/Nut\", \"offsetgroup\": \"Grain/Nut\", \"orientation\": \"v\", \"showlegend\": true, \"textposition\": \"auto\", \"type\": \"bar\", \"x\": [\"Fall\", \"Fall\", \"Winter\", \"Winter\", \"Spring\", \"Summer\", \"Summer\", \"Summer\"], \"xaxis\": \"x\", \"y\": [\"Grain/Nut\", \"Grain/Nut\", \"Grain/Nut\", \"Grain/Nut\", \"Grain/Nut\", \"Grain/Nut\", \"Grain/Nut\", \"Grain/Nut\"], \"yaxis\": \"y\"}, {\"alignmentgroup\": \"True\", \"hovertemplate\": \"Plant Type=%{y}<br>Season=%{x}<extra></extra>\", \"legendgroup\": \"Grain\", \"marker\": {\"color\": \"#FF6692\"}, \"name\": \"Grain\", \"offsetgroup\": \"Grain\", \"orientation\": \"v\", \"showlegend\": true, \"textposition\": \"auto\", \"type\": \"bar\", \"x\": [\"Fall\", \"Fall\", \"Spring\", \"Spring\", \"Spring\"], \"xaxis\": \"x\", \"y\": [\"Grain\", \"Grain\", \"Grain\", \"Grain\", \"Grain\"], \"yaxis\": \"y\"}],                        {\"barmode\": \"relative\", \"legend\": {\"title\": {\"text\": \"Plant Type\"}, \"tracegroupgap\": 0}, \"template\": {\"data\": {\"bar\": [{\"error_x\": {\"color\": \"#2a3f5f\"}, \"error_y\": {\"color\": \"#2a3f5f\"}, \"marker\": {\"line\": {\"color\": \"#E5ECF6\", \"width\": 0.5}}, \"type\": \"bar\"}], \"barpolar\": [{\"marker\": {\"line\": {\"color\": \"#E5ECF6\", \"width\": 0.5}}, \"type\": \"barpolar\"}], \"carpet\": [{\"aaxis\": {\"endlinecolor\": \"#2a3f5f\", \"gridcolor\": \"white\", \"linecolor\": \"white\", \"minorgridcolor\": \"white\", \"startlinecolor\": \"#2a3f5f\"}, \"baxis\": {\"endlinecolor\": \"#2a3f5f\", \"gridcolor\": \"white\", \"linecolor\": \"white\", \"minorgridcolor\": \"white\", \"startlinecolor\": \"#2a3f5f\"}, \"type\": \"carpet\"}], \"choropleth\": [{\"colorbar\": {\"outlinewidth\": 0, \"ticks\": \"\"}, \"type\": \"choropleth\"}], \"contour\": [{\"colorbar\": {\"outlinewidth\": 0, \"ticks\": \"\"}, \"colorscale\": [[0.0, \"#0d0887\"], [0.1111111111111111, \"#46039f\"], [0.2222222222222222, \"#7201a8\"], [0.3333333333333333, \"#9c179e\"], [0.4444444444444444, \"#bd3786\"], [0.5555555555555556, \"#d8576b\"], [0.6666666666666666, \"#ed7953\"], [0.7777777777777778, \"#fb9f3a\"], [0.8888888888888888, \"#fdca26\"], [1.0, \"#f0f921\"]], \"type\": \"contour\"}], \"contourcarpet\": [{\"colorbar\": {\"outlinewidth\": 0, \"ticks\": \"\"}, \"type\": \"contourcarpet\"}], \"heatmap\": [{\"colorbar\": {\"outlinewidth\": 0, \"ticks\": \"\"}, \"colorscale\": [[0.0, \"#0d0887\"], [0.1111111111111111, \"#46039f\"], [0.2222222222222222, \"#7201a8\"], [0.3333333333333333, \"#9c179e\"], [0.4444444444444444, \"#bd3786\"], [0.5555555555555556, \"#d8576b\"], [0.6666666666666666, \"#ed7953\"], [0.7777777777777778, \"#fb9f3a\"], [0.8888888888888888, \"#fdca26\"], [1.0, \"#f0f921\"]], \"type\": \"heatmap\"}], \"heatmapgl\": [{\"colorbar\": {\"outlinewidth\": 0, \"ticks\": \"\"}, \"colorscale\": [[0.0, \"#0d0887\"], [0.1111111111111111, \"#46039f\"], [0.2222222222222222, \"#7201a8\"], [0.3333333333333333, \"#9c179e\"], [0.4444444444444444, \"#bd3786\"], [0.5555555555555556, \"#d8576b\"], [0.6666666666666666, \"#ed7953\"], [0.7777777777777778, \"#fb9f3a\"], [0.8888888888888888, \"#fdca26\"], [1.0, \"#f0f921\"]], \"type\": \"heatmapgl\"}], \"histogram\": [{\"marker\": {\"colorbar\": {\"outlinewidth\": 0, \"ticks\": \"\"}}, \"type\": \"histogram\"}], \"histogram2d\": [{\"colorbar\": {\"outlinewidth\": 0, \"ticks\": \"\"}, \"colorscale\": [[0.0, \"#0d0887\"], [0.1111111111111111, \"#46039f\"], [0.2222222222222222, \"#7201a8\"], [0.3333333333333333, \"#9c179e\"], [0.4444444444444444, \"#bd3786\"], [0.5555555555555556, \"#d8576b\"], [0.6666666666666666, \"#ed7953\"], [0.7777777777777778, \"#fb9f3a\"], [0.8888888888888888, \"#fdca26\"], [1.0, \"#f0f921\"]], \"type\": \"histogram2d\"}], \"histogram2dcontour\": [{\"colorbar\": {\"outlinewidth\": 0, \"ticks\": \"\"}, \"colorscale\": [[0.0, \"#0d0887\"], [0.1111111111111111, \"#46039f\"], [0.2222222222222222, \"#7201a8\"], [0.3333333333333333, \"#9c179e\"], [0.4444444444444444, \"#bd3786\"], [0.5555555555555556, \"#d8576b\"], [0.6666666666666666, \"#ed7953\"], [0.7777777777777778, \"#fb9f3a\"], [0.8888888888888888, \"#fdca26\"], [1.0, \"#f0f921\"]], \"type\": \"histogram2dcontour\"}], \"mesh3d\": [{\"colorbar\": {\"outlinewidth\": 0, \"ticks\": \"\"}, \"type\": \"mesh3d\"}], \"parcoords\": [{\"line\": {\"colorbar\": {\"outlinewidth\": 0, \"ticks\": \"\"}}, \"type\": \"parcoords\"}], \"pie\": [{\"automargin\": true, \"type\": \"pie\"}], \"scatter\": [{\"marker\": {\"colorbar\": {\"outlinewidth\": 0, \"ticks\": \"\"}}, \"type\": \"scatter\"}], \"scatter3d\": [{\"line\": {\"colorbar\": {\"outlinewidth\": 0, \"ticks\": \"\"}}, \"marker\": {\"colorbar\": {\"outlinewidth\": 0, \"ticks\": \"\"}}, \"type\": \"scatter3d\"}], \"scattercarpet\": [{\"marker\": {\"colorbar\": {\"outlinewidth\": 0, \"ticks\": \"\"}}, \"type\": \"scattercarpet\"}], \"scattergeo\": [{\"marker\": {\"colorbar\": {\"outlinewidth\": 0, \"ticks\": \"\"}}, \"type\": \"scattergeo\"}], \"scattergl\": [{\"marker\": {\"colorbar\": {\"outlinewidth\": 0, \"ticks\": \"\"}}, \"type\": \"scattergl\"}], \"scattermapbox\": [{\"marker\": {\"colorbar\": {\"outlinewidth\": 0, \"ticks\": \"\"}}, \"type\": \"scattermapbox\"}], \"scatterpolar\": [{\"marker\": {\"colorbar\": {\"outlinewidth\": 0, \"ticks\": \"\"}}, \"type\": \"scatterpolar\"}], \"scatterpolargl\": [{\"marker\": {\"colorbar\": {\"outlinewidth\": 0, \"ticks\": \"\"}}, \"type\": \"scatterpolargl\"}], \"scatterternary\": [{\"marker\": {\"colorbar\": {\"outlinewidth\": 0, \"ticks\": \"\"}}, \"type\": \"scatterternary\"}], \"surface\": [{\"colorbar\": {\"outlinewidth\": 0, \"ticks\": \"\"}, \"colorscale\": [[0.0, \"#0d0887\"], [0.1111111111111111, \"#46039f\"], [0.2222222222222222, \"#7201a8\"], [0.3333333333333333, \"#9c179e\"], [0.4444444444444444, \"#bd3786\"], [0.5555555555555556, \"#d8576b\"], [0.6666666666666666, \"#ed7953\"], [0.7777777777777778, \"#fb9f3a\"], [0.8888888888888888, \"#fdca26\"], [1.0, \"#f0f921\"]], \"type\": \"surface\"}], \"table\": [{\"cells\": {\"fill\": {\"color\": \"#EBF0F8\"}, \"line\": {\"color\": \"white\"}}, \"header\": {\"fill\": {\"color\": \"#C8D4E3\"}, \"line\": {\"color\": \"white\"}}, \"type\": \"table\"}]}, \"layout\": {\"annotationdefaults\": {\"arrowcolor\": \"#2a3f5f\", \"arrowhead\": 0, \"arrowwidth\": 1}, \"coloraxis\": {\"colorbar\": {\"outlinewidth\": 0, \"ticks\": \"\"}}, \"colorscale\": {\"diverging\": [[0, \"#8e0152\"], [0.1, \"#c51b7d\"], [0.2, \"#de77ae\"], [0.3, \"#f1b6da\"], [0.4, \"#fde0ef\"], [0.5, \"#f7f7f7\"], [0.6, \"#e6f5d0\"], [0.7, \"#b8e186\"], [0.8, \"#7fbc41\"], [0.9, \"#4d9221\"], [1, \"#276419\"]], \"sequential\": [[0.0, \"#0d0887\"], [0.1111111111111111, \"#46039f\"], [0.2222222222222222, \"#7201a8\"], [0.3333333333333333, \"#9c179e\"], [0.4444444444444444, \"#bd3786\"], [0.5555555555555556, \"#d8576b\"], [0.6666666666666666, \"#ed7953\"], [0.7777777777777778, \"#fb9f3a\"], [0.8888888888888888, \"#fdca26\"], [1.0, \"#f0f921\"]], \"sequentialminus\": [[0.0, \"#0d0887\"], [0.1111111111111111, \"#46039f\"], [0.2222222222222222, \"#7201a8\"], [0.3333333333333333, \"#9c179e\"], [0.4444444444444444, \"#bd3786\"], [0.5555555555555556, \"#d8576b\"], [0.6666666666666666, \"#ed7953\"], [0.7777777777777778, \"#fb9f3a\"], [0.8888888888888888, \"#fdca26\"], [1.0, \"#f0f921\"]]}, \"colorway\": [\"#636efa\", \"#EF553B\", \"#00cc96\", \"#ab63fa\", \"#FFA15A\", \"#19d3f3\", \"#FF6692\", \"#B6E880\", \"#FF97FF\", \"#FECB52\"], \"font\": {\"color\": \"#2a3f5f\"}, \"geo\": {\"bgcolor\": \"white\", \"lakecolor\": \"white\", \"landcolor\": \"#E5ECF6\", \"showlakes\": true, \"showland\": true, \"subunitcolor\": \"white\"}, \"hoverlabel\": {\"align\": \"left\"}, \"hovermode\": \"closest\", \"mapbox\": {\"style\": \"light\"}, \"paper_bgcolor\": \"white\", \"plot_bgcolor\": \"#E5ECF6\", \"polar\": {\"angularaxis\": {\"gridcolor\": \"white\", \"linecolor\": \"white\", \"ticks\": \"\"}, \"bgcolor\": \"#E5ECF6\", \"radialaxis\": {\"gridcolor\": \"white\", \"linecolor\": \"white\", \"ticks\": \"\"}}, \"scene\": {\"xaxis\": {\"backgroundcolor\": \"#E5ECF6\", \"gridcolor\": \"white\", \"gridwidth\": 2, \"linecolor\": \"white\", \"showbackground\": true, \"ticks\": \"\", \"zerolinecolor\": \"white\"}, \"yaxis\": {\"backgroundcolor\": \"#E5ECF6\", \"gridcolor\": \"white\", \"gridwidth\": 2, \"linecolor\": \"white\", \"showbackground\": true, \"ticks\": \"\", \"zerolinecolor\": \"white\"}, \"zaxis\": {\"backgroundcolor\": \"#E5ECF6\", \"gridcolor\": \"white\", \"gridwidth\": 2, \"linecolor\": \"white\", \"showbackground\": true, \"ticks\": \"\", \"zerolinecolor\": \"white\"}}, \"shapedefaults\": {\"line\": {\"color\": \"#2a3f5f\"}}, \"ternary\": {\"aaxis\": {\"gridcolor\": \"white\", \"linecolor\": \"white\", \"ticks\": \"\"}, \"baxis\": {\"gridcolor\": \"white\", \"linecolor\": \"white\", \"ticks\": \"\"}, \"bgcolor\": \"#E5ECF6\", \"caxis\": {\"gridcolor\": \"white\", \"linecolor\": \"white\", \"ticks\": \"\"}}, \"title\": {\"x\": 0.05}, \"xaxis\": {\"automargin\": true, \"gridcolor\": \"white\", \"linecolor\": \"white\", \"ticks\": \"\", \"title\": {\"standoff\": 15}, \"zerolinecolor\": \"white\", \"zerolinewidth\": 2}, \"yaxis\": {\"automargin\": true, \"gridcolor\": \"white\", \"linecolor\": \"white\", \"ticks\": \"\", \"title\": {\"standoff\": 15}, \"zerolinecolor\": \"white\", \"zerolinewidth\": 2}}}, \"title\": {\"text\": \"Plant Type vs Season\"}, \"xaxis\": {\"anchor\": \"y\", \"domain\": [0.0, 1.0], \"title\": {\"text\": \"Season\"}}, \"yaxis\": {\"anchor\": \"x\", \"categoryarray\": [\"Grain\", \"Grain/Nut\", \"Vegetable\", \"Other\", \"Fruit\", \"Animal Feed\", \"Flower\"], \"categoryorder\": \"array\", \"domain\": [0.0, 1.0], \"title\": {\"text\": \"Plant Type\"}}},                        {\"responsive\": true}                    ).then(function(){\n",
       "                            \n",
       "var gd = document.getElementById('475e154c-8385-44f6-9234-1440e52ba864');\n",
       "var x = new MutationObserver(function (mutations, observer) {{\n",
       "        var display = window.getComputedStyle(gd).display;\n",
       "        if (!display || display === 'none') {{\n",
       "            console.log([gd, 'removed!']);\n",
       "            Plotly.purge(gd);\n",
       "            observer.disconnect();\n",
       "        }}\n",
       "}});\n",
       "\n",
       "// Listen for the removal of the full notebook cells\n",
       "var notebookContainer = gd.closest('#notebook-container');\n",
       "if (notebookContainer) {{\n",
       "    x.observe(notebookContainer, {childList: true});\n",
       "}}\n",
       "\n",
       "// Listen for the clearing of the current output cell\n",
       "var outputEl = gd.closest('.output');\n",
       "if (outputEl) {{\n",
       "    x.observe(outputEl, {childList: true});\n",
       "}}\n",
       "\n",
       "                        })                };                });            </script>        </div>"
      ]
     },
     "metadata": {},
     "output_type": "display_data"
    }
   ],
   "source": [
    "fig = px.bar(data, x = 'Season', y = 'Plant Type', color= 'Plant Type', title='Plant Type vs Season')\n",
    "fig.show()"
   ]
  },
  {
   "cell_type": "code",
   "execution_count": 15,
   "metadata": {},
   "outputs": [
    {
     "data": {
      "application/vnd.plotly.v1+json": {
       "config": {
        "plotlyServerURL": "https://plot.ly"
       },
       "data": [
        {
         "alignmentgroup": "True",
         "hovertemplate": "Plant Type=%{x}<br>Season=%{y}<extra></extra>",
         "legendgroup": "Flower",
         "marker": {
          "color": "#636efa"
         },
         "name": "Flower",
         "offsetgroup": "Flower",
         "orientation": "v",
         "showlegend": true,
         "textposition": "auto",
         "type": "bar",
         "x": [
          "Flower",
          "Flower",
          "Flower",
          "Flower",
          "Flower",
          "Flower",
          "Flower",
          "Flower",
          "Flower",
          "Flower",
          "Flower",
          "Flower",
          "Flower",
          "Flower",
          "Flower",
          "Flower",
          "Flower",
          "Flower",
          "Flower",
          "Flower",
          "Flower",
          "Flower",
          "Flower",
          "Flower",
          "Flower",
          "Flower",
          "Flower",
          "Flower",
          "Flower",
          "Flower",
          "Flower",
          "Flower",
          "Flower",
          "Flower",
          "Flower",
          "Flower",
          "Flower",
          "Flower",
          "Flower",
          "Flower",
          "Flower",
          "Flower",
          "Flower",
          "Flower",
          "Flower",
          "Flower",
          "Flower",
          "Flower",
          "Flower",
          "Flower",
          "Flower",
          "Flower",
          "Flower",
          "Flower",
          "Flower",
          "Flower",
          "Flower",
          "Flower",
          "Flower",
          "Flower",
          "Flower",
          "Flower",
          "Flower",
          "Flower",
          "Flower",
          "Flower",
          "Flower",
          "Flower",
          "Flower",
          "Flower",
          "Flower",
          "Flower",
          "Flower",
          "Flower",
          "Flower",
          "Flower",
          "Flower",
          "Flower",
          "Flower",
          "Flower",
          "Flower",
          "Flower",
          "Flower",
          "Flower",
          "Flower",
          "Flower",
          "Flower",
          "Flower",
          "Flower",
          "Flower",
          "Flower",
          "Flower",
          "Flower",
          "Flower",
          "Flower",
          "Flower",
          "Flower",
          "Flower",
          "Flower",
          "Flower",
          "Flower",
          "Flower",
          "Flower",
          "Flower",
          "Flower",
          "Flower",
          "Flower",
          "Flower",
          "Flower",
          "Flower",
          "Flower",
          "Flower",
          "Flower",
          "Flower",
          "Flower",
          "Flower",
          "Flower",
          "Flower",
          "Flower",
          "Flower",
          "Flower",
          "Flower",
          "Flower",
          "Flower",
          "Flower",
          "Flower",
          "Flower",
          "Flower",
          "Flower",
          "Flower",
          "Flower",
          "Flower",
          "Flower",
          "Flower",
          "Flower",
          "Flower",
          "Flower",
          "Flower",
          "Flower",
          "Flower",
          "Flower",
          "Flower",
          "Flower",
          "Flower",
          "Flower",
          "Flower",
          "Flower",
          "Flower",
          "Flower",
          "Flower",
          "Flower",
          "Flower",
          "Flower",
          "Flower"
         ],
         "xaxis": "x",
         "y": [
          "Spring",
          "Summer",
          "Spring",
          "Spring",
          "Summer",
          "Summer",
          "Summer",
          "Spring",
          "Spring",
          "Spring",
          "Spring",
          "Summer",
          "Summer",
          "Spring",
          "Spring",
          "Summer",
          "Spring",
          "Summer",
          "Spring",
          "Summer",
          "Spring",
          "Spring",
          "Summer",
          "Summer",
          "Spring",
          "Summer",
          "Spring",
          "Summer",
          "Spring",
          "Spring",
          "Summer",
          "Spring",
          "Summer",
          "Spring",
          "Summer",
          "Summer",
          "Summer",
          "Spring",
          "Summer",
          "Spring",
          "Summer",
          "Summer",
          "Spring",
          "Spring",
          "Summer",
          "Summer",
          "Summer",
          "Summer",
          "Spring",
          "Spring",
          "Spring",
          "Spring",
          "Spring",
          "Summer",
          "Summer",
          "Spring",
          "Summer",
          "Summer",
          "Summer",
          "Spring",
          "Spring",
          "Spring",
          "Spring",
          "Summer",
          "Spring",
          "Spring",
          "Summer",
          "Spring",
          "Summer",
          "Summer",
          "Summer",
          "Spring",
          "Summer",
          "Spring",
          "Summer",
          "Summer",
          "Summer",
          "Summer",
          "Spring",
          "Summer",
          "Summer",
          "Summer",
          "Summer",
          "Summer",
          "Spring",
          "Spring",
          "Spring",
          "Summer",
          "Summer",
          "Summer",
          "Summer",
          "Summer",
          "Summer",
          "Spring",
          "Summer",
          "Summer",
          "Spring",
          "Summer",
          "Summer",
          "Spring",
          "Summer",
          "Summer",
          "Summer",
          "Summer",
          "Summer",
          "Spring",
          "Summer",
          "Spring",
          "Summer",
          "Summer",
          "Spring",
          "Summer",
          "Summer",
          "Summer",
          "Spring",
          "Spring",
          "Summer",
          "Spring",
          "Spring",
          "Summer",
          "Summer",
          "Summer",
          "Summer",
          "Spring",
          "Spring",
          "Spring",
          "Summer",
          "Spring",
          "Summer",
          "Spring",
          "Spring",
          "Spring",
          "Summer",
          "Summer",
          "Spring",
          "Spring",
          "Summer",
          "Summer",
          "Summer",
          "Summer",
          "Spring",
          "Spring",
          "Summer",
          "Spring",
          "Spring",
          "Summer",
          "Spring",
          "Summer",
          "Spring",
          "Summer",
          "Summer",
          "Fall",
          "Fall",
          "Summer"
         ],
         "yaxis": "y"
        },
        {
         "alignmentgroup": "True",
         "hovertemplate": "Plant Type=%{x}<br>Season=%{y}<extra></extra>",
         "legendgroup": "Animal Feed",
         "marker": {
          "color": "#EF553B"
         },
         "name": "Animal Feed",
         "offsetgroup": "Animal Feed",
         "orientation": "v",
         "showlegend": true,
         "textposition": "auto",
         "type": "bar",
         "x": [
          "Animal Feed",
          "Animal Feed"
         ],
         "xaxis": "x",
         "y": [
          "Fall",
          "Summer"
         ],
         "yaxis": "y"
        },
        {
         "alignmentgroup": "True",
         "hovertemplate": "Plant Type=%{x}<br>Season=%{y}<extra></extra>",
         "legendgroup": "Fruit",
         "marker": {
          "color": "#00cc96"
         },
         "name": "Fruit",
         "offsetgroup": "Fruit",
         "orientation": "v",
         "showlegend": true,
         "textposition": "auto",
         "type": "bar",
         "x": [
          "Fruit",
          "Fruit",
          "Fruit",
          "Fruit",
          "Fruit",
          "Fruit",
          "Fruit",
          "Fruit",
          "Fruit",
          "Fruit",
          "Fruit",
          "Fruit",
          "Fruit",
          "Fruit",
          "Fruit",
          "Fruit",
          "Fruit",
          "Fruit",
          "Fruit",
          "Fruit",
          "Fruit",
          "Fruit",
          "Fruit",
          "Fruit",
          "Fruit",
          "Fruit",
          "Fruit",
          "Fruit",
          "Fruit",
          "Fruit",
          "Fruit",
          "Fruit",
          "Fruit",
          "Fruit",
          "Fruit",
          "Fruit",
          "Fruit",
          "Fruit",
          "Fruit",
          "Fruit",
          "Fruit",
          "Fruit",
          "Fruit",
          "Fruit",
          "Fruit",
          "Fruit",
          "Fruit",
          "Fruit",
          "Fruit",
          "Fruit",
          "Fruit",
          "Fruit"
         ],
         "xaxis": "x",
         "y": [
          "Fall",
          "Fall",
          "Fall",
          "Fall",
          "Fall",
          "Fall",
          "Fall",
          "Fall",
          "Fall",
          "Fall",
          "Winter",
          "Winter",
          "Spring",
          "Spring",
          "Spring",
          "Spring",
          "Spring",
          "Summer",
          "Summer",
          "Summer",
          "Summer",
          "Summer",
          "Summer",
          "Summer",
          "Summer",
          "Winter",
          "Summer",
          "Fall",
          "Spring",
          "Winter",
          "Summer",
          "Fall",
          "Spring",
          "Spring",
          "Fall",
          "Summer",
          "Spring",
          "Spring",
          "Fall",
          "Spring",
          "Winter",
          "Summer",
          "Spring",
          "Fall",
          "Summer",
          "Summer",
          "Spring",
          "Fall",
          "Spring",
          "Spring",
          "Spring",
          "Spring"
         ],
         "yaxis": "y"
        },
        {
         "alignmentgroup": "True",
         "hovertemplate": "Plant Type=%{x}<br>Season=%{y}<extra></extra>",
         "legendgroup": "Other",
         "marker": {
          "color": "#ab63fa"
         },
         "name": "Other",
         "offsetgroup": "Other",
         "orientation": "v",
         "showlegend": true,
         "textposition": "auto",
         "type": "bar",
         "x": [
          "Other",
          "Other",
          "Other",
          "Other",
          "Other"
         ],
         "xaxis": "x",
         "y": [
          "Fall",
          "Spring",
          "Spring",
          "Spring",
          "Fall"
         ],
         "yaxis": "y"
        },
        {
         "alignmentgroup": "True",
         "hovertemplate": "Plant Type=%{x}<br>Season=%{y}<extra></extra>",
         "legendgroup": "Vegetable",
         "marker": {
          "color": "#FFA15A"
         },
         "name": "Vegetable",
         "offsetgroup": "Vegetable",
         "orientation": "v",
         "showlegend": true,
         "textposition": "auto",
         "type": "bar",
         "x": [
          "Vegetable",
          "Vegetable",
          "Vegetable",
          "Vegetable",
          "Vegetable",
          "Vegetable",
          "Vegetable",
          "Vegetable",
          "Vegetable",
          "Vegetable",
          "Vegetable",
          "Vegetable",
          "Vegetable",
          "Vegetable",
          "Vegetable",
          "Vegetable",
          "Vegetable",
          "Vegetable",
          "Vegetable",
          "Vegetable",
          "Vegetable",
          "Vegetable",
          "Vegetable",
          "Vegetable",
          "Vegetable",
          "Vegetable",
          "Vegetable",
          "Vegetable"
         ],
         "xaxis": "x",
         "y": [
          "Fall",
          "Fall",
          "Fall",
          "Fall",
          "Fall",
          "Fall",
          "Fall",
          "Fall",
          "Summer",
          "Summer",
          "Summer",
          "Summer",
          "Summer",
          "Spring",
          "Spring",
          "Fall",
          "Fall",
          "Spring",
          "Fall",
          "Spring",
          "Summer",
          "Spring",
          "Spring",
          "Spring",
          "Spring",
          "Summer",
          "Spring",
          "Fall"
         ],
         "yaxis": "y"
        },
        {
         "alignmentgroup": "True",
         "hovertemplate": "Plant Type=%{x}<br>Season=%{y}<extra></extra>",
         "legendgroup": "Grain/Nut",
         "marker": {
          "color": "#19d3f3"
         },
         "name": "Grain/Nut",
         "offsetgroup": "Grain/Nut",
         "orientation": "v",
         "showlegend": true,
         "textposition": "auto",
         "type": "bar",
         "x": [
          "Grain/Nut",
          "Grain/Nut",
          "Grain/Nut",
          "Grain/Nut",
          "Grain/Nut",
          "Grain/Nut",
          "Grain/Nut",
          "Grain/Nut"
         ],
         "xaxis": "x",
         "y": [
          "Fall",
          "Fall",
          "Winter",
          "Winter",
          "Spring",
          "Summer",
          "Summer",
          "Summer"
         ],
         "yaxis": "y"
        },
        {
         "alignmentgroup": "True",
         "hovertemplate": "Plant Type=%{x}<br>Season=%{y}<extra></extra>",
         "legendgroup": "Grain",
         "marker": {
          "color": "#FF6692"
         },
         "name": "Grain",
         "offsetgroup": "Grain",
         "orientation": "v",
         "showlegend": true,
         "textposition": "auto",
         "type": "bar",
         "x": [
          "Grain",
          "Grain",
          "Grain",
          "Grain",
          "Grain"
         ],
         "xaxis": "x",
         "y": [
          "Fall",
          "Fall",
          "Spring",
          "Spring",
          "Spring"
         ],
         "yaxis": "y"
        }
       ],
       "layout": {
        "barmode": "relative",
        "legend": {
         "title": {
          "text": "Plant Type"
         },
         "tracegroupgap": 0
        },
        "template": {
         "data": {
          "bar": [
           {
            "error_x": {
             "color": "#2a3f5f"
            },
            "error_y": {
             "color": "#2a3f5f"
            },
            "marker": {
             "line": {
              "color": "#E5ECF6",
              "width": 0.5
             }
            },
            "type": "bar"
           }
          ],
          "barpolar": [
           {
            "marker": {
             "line": {
              "color": "#E5ECF6",
              "width": 0.5
             }
            },
            "type": "barpolar"
           }
          ],
          "carpet": [
           {
            "aaxis": {
             "endlinecolor": "#2a3f5f",
             "gridcolor": "white",
             "linecolor": "white",
             "minorgridcolor": "white",
             "startlinecolor": "#2a3f5f"
            },
            "baxis": {
             "endlinecolor": "#2a3f5f",
             "gridcolor": "white",
             "linecolor": "white",
             "minorgridcolor": "white",
             "startlinecolor": "#2a3f5f"
            },
            "type": "carpet"
           }
          ],
          "choropleth": [
           {
            "colorbar": {
             "outlinewidth": 0,
             "ticks": ""
            },
            "type": "choropleth"
           }
          ],
          "contour": [
           {
            "colorbar": {
             "outlinewidth": 0,
             "ticks": ""
            },
            "colorscale": [
             [
              0,
              "#0d0887"
             ],
             [
              0.1111111111111111,
              "#46039f"
             ],
             [
              0.2222222222222222,
              "#7201a8"
             ],
             [
              0.3333333333333333,
              "#9c179e"
             ],
             [
              0.4444444444444444,
              "#bd3786"
             ],
             [
              0.5555555555555556,
              "#d8576b"
             ],
             [
              0.6666666666666666,
              "#ed7953"
             ],
             [
              0.7777777777777778,
              "#fb9f3a"
             ],
             [
              0.8888888888888888,
              "#fdca26"
             ],
             [
              1,
              "#f0f921"
             ]
            ],
            "type": "contour"
           }
          ],
          "contourcarpet": [
           {
            "colorbar": {
             "outlinewidth": 0,
             "ticks": ""
            },
            "type": "contourcarpet"
           }
          ],
          "heatmap": [
           {
            "colorbar": {
             "outlinewidth": 0,
             "ticks": ""
            },
            "colorscale": [
             [
              0,
              "#0d0887"
             ],
             [
              0.1111111111111111,
              "#46039f"
             ],
             [
              0.2222222222222222,
              "#7201a8"
             ],
             [
              0.3333333333333333,
              "#9c179e"
             ],
             [
              0.4444444444444444,
              "#bd3786"
             ],
             [
              0.5555555555555556,
              "#d8576b"
             ],
             [
              0.6666666666666666,
              "#ed7953"
             ],
             [
              0.7777777777777778,
              "#fb9f3a"
             ],
             [
              0.8888888888888888,
              "#fdca26"
             ],
             [
              1,
              "#f0f921"
             ]
            ],
            "type": "heatmap"
           }
          ],
          "heatmapgl": [
           {
            "colorbar": {
             "outlinewidth": 0,
             "ticks": ""
            },
            "colorscale": [
             [
              0,
              "#0d0887"
             ],
             [
              0.1111111111111111,
              "#46039f"
             ],
             [
              0.2222222222222222,
              "#7201a8"
             ],
             [
              0.3333333333333333,
              "#9c179e"
             ],
             [
              0.4444444444444444,
              "#bd3786"
             ],
             [
              0.5555555555555556,
              "#d8576b"
             ],
             [
              0.6666666666666666,
              "#ed7953"
             ],
             [
              0.7777777777777778,
              "#fb9f3a"
             ],
             [
              0.8888888888888888,
              "#fdca26"
             ],
             [
              1,
              "#f0f921"
             ]
            ],
            "type": "heatmapgl"
           }
          ],
          "histogram": [
           {
            "marker": {
             "colorbar": {
              "outlinewidth": 0,
              "ticks": ""
             }
            },
            "type": "histogram"
           }
          ],
          "histogram2d": [
           {
            "colorbar": {
             "outlinewidth": 0,
             "ticks": ""
            },
            "colorscale": [
             [
              0,
              "#0d0887"
             ],
             [
              0.1111111111111111,
              "#46039f"
             ],
             [
              0.2222222222222222,
              "#7201a8"
             ],
             [
              0.3333333333333333,
              "#9c179e"
             ],
             [
              0.4444444444444444,
              "#bd3786"
             ],
             [
              0.5555555555555556,
              "#d8576b"
             ],
             [
              0.6666666666666666,
              "#ed7953"
             ],
             [
              0.7777777777777778,
              "#fb9f3a"
             ],
             [
              0.8888888888888888,
              "#fdca26"
             ],
             [
              1,
              "#f0f921"
             ]
            ],
            "type": "histogram2d"
           }
          ],
          "histogram2dcontour": [
           {
            "colorbar": {
             "outlinewidth": 0,
             "ticks": ""
            },
            "colorscale": [
             [
              0,
              "#0d0887"
             ],
             [
              0.1111111111111111,
              "#46039f"
             ],
             [
              0.2222222222222222,
              "#7201a8"
             ],
             [
              0.3333333333333333,
              "#9c179e"
             ],
             [
              0.4444444444444444,
              "#bd3786"
             ],
             [
              0.5555555555555556,
              "#d8576b"
             ],
             [
              0.6666666666666666,
              "#ed7953"
             ],
             [
              0.7777777777777778,
              "#fb9f3a"
             ],
             [
              0.8888888888888888,
              "#fdca26"
             ],
             [
              1,
              "#f0f921"
             ]
            ],
            "type": "histogram2dcontour"
           }
          ],
          "mesh3d": [
           {
            "colorbar": {
             "outlinewidth": 0,
             "ticks": ""
            },
            "type": "mesh3d"
           }
          ],
          "parcoords": [
           {
            "line": {
             "colorbar": {
              "outlinewidth": 0,
              "ticks": ""
             }
            },
            "type": "parcoords"
           }
          ],
          "pie": [
           {
            "automargin": true,
            "type": "pie"
           }
          ],
          "scatter": [
           {
            "marker": {
             "colorbar": {
              "outlinewidth": 0,
              "ticks": ""
             }
            },
            "type": "scatter"
           }
          ],
          "scatter3d": [
           {
            "line": {
             "colorbar": {
              "outlinewidth": 0,
              "ticks": ""
             }
            },
            "marker": {
             "colorbar": {
              "outlinewidth": 0,
              "ticks": ""
             }
            },
            "type": "scatter3d"
           }
          ],
          "scattercarpet": [
           {
            "marker": {
             "colorbar": {
              "outlinewidth": 0,
              "ticks": ""
             }
            },
            "type": "scattercarpet"
           }
          ],
          "scattergeo": [
           {
            "marker": {
             "colorbar": {
              "outlinewidth": 0,
              "ticks": ""
             }
            },
            "type": "scattergeo"
           }
          ],
          "scattergl": [
           {
            "marker": {
             "colorbar": {
              "outlinewidth": 0,
              "ticks": ""
             }
            },
            "type": "scattergl"
           }
          ],
          "scattermapbox": [
           {
            "marker": {
             "colorbar": {
              "outlinewidth": 0,
              "ticks": ""
             }
            },
            "type": "scattermapbox"
           }
          ],
          "scatterpolar": [
           {
            "marker": {
             "colorbar": {
              "outlinewidth": 0,
              "ticks": ""
             }
            },
            "type": "scatterpolar"
           }
          ],
          "scatterpolargl": [
           {
            "marker": {
             "colorbar": {
              "outlinewidth": 0,
              "ticks": ""
             }
            },
            "type": "scatterpolargl"
           }
          ],
          "scatterternary": [
           {
            "marker": {
             "colorbar": {
              "outlinewidth": 0,
              "ticks": ""
             }
            },
            "type": "scatterternary"
           }
          ],
          "surface": [
           {
            "colorbar": {
             "outlinewidth": 0,
             "ticks": ""
            },
            "colorscale": [
             [
              0,
              "#0d0887"
             ],
             [
              0.1111111111111111,
              "#46039f"
             ],
             [
              0.2222222222222222,
              "#7201a8"
             ],
             [
              0.3333333333333333,
              "#9c179e"
             ],
             [
              0.4444444444444444,
              "#bd3786"
             ],
             [
              0.5555555555555556,
              "#d8576b"
             ],
             [
              0.6666666666666666,
              "#ed7953"
             ],
             [
              0.7777777777777778,
              "#fb9f3a"
             ],
             [
              0.8888888888888888,
              "#fdca26"
             ],
             [
              1,
              "#f0f921"
             ]
            ],
            "type": "surface"
           }
          ],
          "table": [
           {
            "cells": {
             "fill": {
              "color": "#EBF0F8"
             },
             "line": {
              "color": "white"
             }
            },
            "header": {
             "fill": {
              "color": "#C8D4E3"
             },
             "line": {
              "color": "white"
             }
            },
            "type": "table"
           }
          ]
         },
         "layout": {
          "annotationdefaults": {
           "arrowcolor": "#2a3f5f",
           "arrowhead": 0,
           "arrowwidth": 1
          },
          "coloraxis": {
           "colorbar": {
            "outlinewidth": 0,
            "ticks": ""
           }
          },
          "colorscale": {
           "diverging": [
            [
             0,
             "#8e0152"
            ],
            [
             0.1,
             "#c51b7d"
            ],
            [
             0.2,
             "#de77ae"
            ],
            [
             0.3,
             "#f1b6da"
            ],
            [
             0.4,
             "#fde0ef"
            ],
            [
             0.5,
             "#f7f7f7"
            ],
            [
             0.6,
             "#e6f5d0"
            ],
            [
             0.7,
             "#b8e186"
            ],
            [
             0.8,
             "#7fbc41"
            ],
            [
             0.9,
             "#4d9221"
            ],
            [
             1,
             "#276419"
            ]
           ],
           "sequential": [
            [
             0,
             "#0d0887"
            ],
            [
             0.1111111111111111,
             "#46039f"
            ],
            [
             0.2222222222222222,
             "#7201a8"
            ],
            [
             0.3333333333333333,
             "#9c179e"
            ],
            [
             0.4444444444444444,
             "#bd3786"
            ],
            [
             0.5555555555555556,
             "#d8576b"
            ],
            [
             0.6666666666666666,
             "#ed7953"
            ],
            [
             0.7777777777777778,
             "#fb9f3a"
            ],
            [
             0.8888888888888888,
             "#fdca26"
            ],
            [
             1,
             "#f0f921"
            ]
           ],
           "sequentialminus": [
            [
             0,
             "#0d0887"
            ],
            [
             0.1111111111111111,
             "#46039f"
            ],
            [
             0.2222222222222222,
             "#7201a8"
            ],
            [
             0.3333333333333333,
             "#9c179e"
            ],
            [
             0.4444444444444444,
             "#bd3786"
            ],
            [
             0.5555555555555556,
             "#d8576b"
            ],
            [
             0.6666666666666666,
             "#ed7953"
            ],
            [
             0.7777777777777778,
             "#fb9f3a"
            ],
            [
             0.8888888888888888,
             "#fdca26"
            ],
            [
             1,
             "#f0f921"
            ]
           ]
          },
          "colorway": [
           "#636efa",
           "#EF553B",
           "#00cc96",
           "#ab63fa",
           "#FFA15A",
           "#19d3f3",
           "#FF6692",
           "#B6E880",
           "#FF97FF",
           "#FECB52"
          ],
          "font": {
           "color": "#2a3f5f"
          },
          "geo": {
           "bgcolor": "white",
           "lakecolor": "white",
           "landcolor": "#E5ECF6",
           "showlakes": true,
           "showland": true,
           "subunitcolor": "white"
          },
          "hoverlabel": {
           "align": "left"
          },
          "hovermode": "closest",
          "mapbox": {
           "style": "light"
          },
          "paper_bgcolor": "white",
          "plot_bgcolor": "#E5ECF6",
          "polar": {
           "angularaxis": {
            "gridcolor": "white",
            "linecolor": "white",
            "ticks": ""
           },
           "bgcolor": "#E5ECF6",
           "radialaxis": {
            "gridcolor": "white",
            "linecolor": "white",
            "ticks": ""
           }
          },
          "scene": {
           "xaxis": {
            "backgroundcolor": "#E5ECF6",
            "gridcolor": "white",
            "gridwidth": 2,
            "linecolor": "white",
            "showbackground": true,
            "ticks": "",
            "zerolinecolor": "white"
           },
           "yaxis": {
            "backgroundcolor": "#E5ECF6",
            "gridcolor": "white",
            "gridwidth": 2,
            "linecolor": "white",
            "showbackground": true,
            "ticks": "",
            "zerolinecolor": "white"
           },
           "zaxis": {
            "backgroundcolor": "#E5ECF6",
            "gridcolor": "white",
            "gridwidth": 2,
            "linecolor": "white",
            "showbackground": true,
            "ticks": "",
            "zerolinecolor": "white"
           }
          },
          "shapedefaults": {
           "line": {
            "color": "#2a3f5f"
           }
          },
          "ternary": {
           "aaxis": {
            "gridcolor": "white",
            "linecolor": "white",
            "ticks": ""
           },
           "baxis": {
            "gridcolor": "white",
            "linecolor": "white",
            "ticks": ""
           },
           "bgcolor": "#E5ECF6",
           "caxis": {
            "gridcolor": "white",
            "linecolor": "white",
            "ticks": ""
           }
          },
          "title": {
           "x": 0.05
          },
          "xaxis": {
           "automargin": true,
           "gridcolor": "white",
           "linecolor": "white",
           "ticks": "",
           "title": {
            "standoff": 15
           },
           "zerolinecolor": "white",
           "zerolinewidth": 2
          },
          "yaxis": {
           "automargin": true,
           "gridcolor": "white",
           "linecolor": "white",
           "ticks": "",
           "title": {
            "standoff": 15
           },
           "zerolinecolor": "white",
           "zerolinewidth": 2
          }
         }
        },
        "title": {
         "text": "Plant Type vs Season"
        },
        "xaxis": {
         "anchor": "y",
         "categoryarray": [
          "Flower",
          "Animal Feed",
          "Fruit",
          "Other",
          "Vegetable",
          "Grain/Nut",
          "Grain"
         ],
         "categoryorder": "array",
         "domain": [
          0,
          1
         ],
         "title": {
          "text": "Plant Type"
         }
        },
        "yaxis": {
         "anchor": "x",
         "domain": [
          0,
          1
         ],
         "title": {
          "text": "Season"
         }
        }
       }
      },
      "text/html": [
       "<div>                            <div id=\"6cb19d19-aec1-40d2-a62e-946b28db7674\" class=\"plotly-graph-div\" style=\"height:525px; width:100%;\"></div>            <script type=\"text/javascript\">                require([\"plotly\"], function(Plotly) {                    window.PLOTLYENV=window.PLOTLYENV || {};                                    if (document.getElementById(\"6cb19d19-aec1-40d2-a62e-946b28db7674\")) {                    Plotly.newPlot(                        \"6cb19d19-aec1-40d2-a62e-946b28db7674\",                        [{\"alignmentgroup\": \"True\", \"hovertemplate\": \"Plant Type=%{x}<br>Season=%{y}<extra></extra>\", \"legendgroup\": \"Flower\", \"marker\": {\"color\": \"#636efa\"}, \"name\": \"Flower\", \"offsetgroup\": \"Flower\", \"orientation\": \"v\", \"showlegend\": true, \"textposition\": \"auto\", \"type\": \"bar\", \"x\": [\"Flower\", \"Flower\", \"Flower\", \"Flower\", \"Flower\", \"Flower\", \"Flower\", \"Flower\", \"Flower\", \"Flower\", \"Flower\", \"Flower\", \"Flower\", \"Flower\", \"Flower\", \"Flower\", \"Flower\", \"Flower\", \"Flower\", \"Flower\", \"Flower\", \"Flower\", \"Flower\", \"Flower\", \"Flower\", \"Flower\", \"Flower\", \"Flower\", \"Flower\", \"Flower\", \"Flower\", \"Flower\", \"Flower\", \"Flower\", \"Flower\", \"Flower\", \"Flower\", \"Flower\", \"Flower\", \"Flower\", \"Flower\", \"Flower\", \"Flower\", \"Flower\", \"Flower\", \"Flower\", \"Flower\", \"Flower\", \"Flower\", \"Flower\", \"Flower\", \"Flower\", \"Flower\", \"Flower\", \"Flower\", \"Flower\", \"Flower\", \"Flower\", \"Flower\", \"Flower\", \"Flower\", \"Flower\", \"Flower\", \"Flower\", \"Flower\", \"Flower\", \"Flower\", \"Flower\", \"Flower\", \"Flower\", \"Flower\", \"Flower\", \"Flower\", \"Flower\", \"Flower\", \"Flower\", \"Flower\", \"Flower\", \"Flower\", \"Flower\", \"Flower\", \"Flower\", \"Flower\", \"Flower\", \"Flower\", \"Flower\", \"Flower\", \"Flower\", \"Flower\", \"Flower\", \"Flower\", \"Flower\", \"Flower\", \"Flower\", \"Flower\", \"Flower\", \"Flower\", \"Flower\", \"Flower\", \"Flower\", \"Flower\", \"Flower\", \"Flower\", \"Flower\", \"Flower\", \"Flower\", \"Flower\", \"Flower\", \"Flower\", \"Flower\", \"Flower\", \"Flower\", \"Flower\", \"Flower\", \"Flower\", \"Flower\", \"Flower\", \"Flower\", \"Flower\", \"Flower\", \"Flower\", \"Flower\", \"Flower\", \"Flower\", \"Flower\", \"Flower\", \"Flower\", \"Flower\", \"Flower\", \"Flower\", \"Flower\", \"Flower\", \"Flower\", \"Flower\", \"Flower\", \"Flower\", \"Flower\", \"Flower\", \"Flower\", \"Flower\", \"Flower\", \"Flower\", \"Flower\", \"Flower\", \"Flower\", \"Flower\", \"Flower\", \"Flower\", \"Flower\", \"Flower\", \"Flower\", \"Flower\", \"Flower\", \"Flower\"], \"xaxis\": \"x\", \"y\": [\"Spring\", \"Summer\", \"Spring\", \"Spring\", \"Summer\", \"Summer\", \"Summer\", \"Spring\", \"Spring\", \"Spring\", \"Spring\", \"Summer\", \"Summer\", \"Spring\", \"Spring\", \"Summer\", \"Spring\", \"Summer\", \"Spring\", \"Summer\", \"Spring\", \"Spring\", \"Summer\", \"Summer\", \"Spring\", \"Summer\", \"Spring\", \"Summer\", \"Spring\", \"Spring\", \"Summer\", \"Spring\", \"Summer\", \"Spring\", \"Summer\", \"Summer\", \"Summer\", \"Spring\", \"Summer\", \"Spring\", \"Summer\", \"Summer\", \"Spring\", \"Spring\", \"Summer\", \"Summer\", \"Summer\", \"Summer\", \"Spring\", \"Spring\", \"Spring\", \"Spring\", \"Spring\", \"Summer\", \"Summer\", \"Spring\", \"Summer\", \"Summer\", \"Summer\", \"Spring\", \"Spring\", \"Spring\", \"Spring\", \"Summer\", \"Spring\", \"Spring\", \"Summer\", \"Spring\", \"Summer\", \"Summer\", \"Summer\", \"Spring\", \"Summer\", \"Spring\", \"Summer\", \"Summer\", \"Summer\", \"Summer\", \"Spring\", \"Summer\", \"Summer\", \"Summer\", \"Summer\", \"Summer\", \"Spring\", \"Spring\", \"Spring\", \"Summer\", \"Summer\", \"Summer\", \"Summer\", \"Summer\", \"Summer\", \"Spring\", \"Summer\", \"Summer\", \"Spring\", \"Summer\", \"Summer\", \"Spring\", \"Summer\", \"Summer\", \"Summer\", \"Summer\", \"Summer\", \"Spring\", \"Summer\", \"Spring\", \"Summer\", \"Summer\", \"Spring\", \"Summer\", \"Summer\", \"Summer\", \"Spring\", \"Spring\", \"Summer\", \"Spring\", \"Spring\", \"Summer\", \"Summer\", \"Summer\", \"Summer\", \"Spring\", \"Spring\", \"Spring\", \"Summer\", \"Spring\", \"Summer\", \"Spring\", \"Spring\", \"Spring\", \"Summer\", \"Summer\", \"Spring\", \"Spring\", \"Summer\", \"Summer\", \"Summer\", \"Summer\", \"Spring\", \"Spring\", \"Summer\", \"Spring\", \"Spring\", \"Summer\", \"Spring\", \"Summer\", \"Spring\", \"Summer\", \"Summer\", \"Fall\", \"Fall\", \"Summer\"], \"yaxis\": \"y\"}, {\"alignmentgroup\": \"True\", \"hovertemplate\": \"Plant Type=%{x}<br>Season=%{y}<extra></extra>\", \"legendgroup\": \"Animal Feed\", \"marker\": {\"color\": \"#EF553B\"}, \"name\": \"Animal Feed\", \"offsetgroup\": \"Animal Feed\", \"orientation\": \"v\", \"showlegend\": true, \"textposition\": \"auto\", \"type\": \"bar\", \"x\": [\"Animal Feed\", \"Animal Feed\"], \"xaxis\": \"x\", \"y\": [\"Fall\", \"Summer\"], \"yaxis\": \"y\"}, {\"alignmentgroup\": \"True\", \"hovertemplate\": \"Plant Type=%{x}<br>Season=%{y}<extra></extra>\", \"legendgroup\": \"Fruit\", \"marker\": {\"color\": \"#00cc96\"}, \"name\": \"Fruit\", \"offsetgroup\": \"Fruit\", \"orientation\": \"v\", \"showlegend\": true, \"textposition\": \"auto\", \"type\": \"bar\", \"x\": [\"Fruit\", \"Fruit\", \"Fruit\", \"Fruit\", \"Fruit\", \"Fruit\", \"Fruit\", \"Fruit\", \"Fruit\", \"Fruit\", \"Fruit\", \"Fruit\", \"Fruit\", \"Fruit\", \"Fruit\", \"Fruit\", \"Fruit\", \"Fruit\", \"Fruit\", \"Fruit\", \"Fruit\", \"Fruit\", \"Fruit\", \"Fruit\", \"Fruit\", \"Fruit\", \"Fruit\", \"Fruit\", \"Fruit\", \"Fruit\", \"Fruit\", \"Fruit\", \"Fruit\", \"Fruit\", \"Fruit\", \"Fruit\", \"Fruit\", \"Fruit\", \"Fruit\", \"Fruit\", \"Fruit\", \"Fruit\", \"Fruit\", \"Fruit\", \"Fruit\", \"Fruit\", \"Fruit\", \"Fruit\", \"Fruit\", \"Fruit\", \"Fruit\", \"Fruit\"], \"xaxis\": \"x\", \"y\": [\"Fall\", \"Fall\", \"Fall\", \"Fall\", \"Fall\", \"Fall\", \"Fall\", \"Fall\", \"Fall\", \"Fall\", \"Winter\", \"Winter\", \"Spring\", \"Spring\", \"Spring\", \"Spring\", \"Spring\", \"Summer\", \"Summer\", \"Summer\", \"Summer\", \"Summer\", \"Summer\", \"Summer\", \"Summer\", \"Winter\", \"Summer\", \"Fall\", \"Spring\", \"Winter\", \"Summer\", \"Fall\", \"Spring\", \"Spring\", \"Fall\", \"Summer\", \"Spring\", \"Spring\", \"Fall\", \"Spring\", \"Winter\", \"Summer\", \"Spring\", \"Fall\", \"Summer\", \"Summer\", \"Spring\", \"Fall\", \"Spring\", \"Spring\", \"Spring\", \"Spring\"], \"yaxis\": \"y\"}, {\"alignmentgroup\": \"True\", \"hovertemplate\": \"Plant Type=%{x}<br>Season=%{y}<extra></extra>\", \"legendgroup\": \"Other\", \"marker\": {\"color\": \"#ab63fa\"}, \"name\": \"Other\", \"offsetgroup\": \"Other\", \"orientation\": \"v\", \"showlegend\": true, \"textposition\": \"auto\", \"type\": \"bar\", \"x\": [\"Other\", \"Other\", \"Other\", \"Other\", \"Other\"], \"xaxis\": \"x\", \"y\": [\"Fall\", \"Spring\", \"Spring\", \"Spring\", \"Fall\"], \"yaxis\": \"y\"}, {\"alignmentgroup\": \"True\", \"hovertemplate\": \"Plant Type=%{x}<br>Season=%{y}<extra></extra>\", \"legendgroup\": \"Vegetable\", \"marker\": {\"color\": \"#FFA15A\"}, \"name\": \"Vegetable\", \"offsetgroup\": \"Vegetable\", \"orientation\": \"v\", \"showlegend\": true, \"textposition\": \"auto\", \"type\": \"bar\", \"x\": [\"Vegetable\", \"Vegetable\", \"Vegetable\", \"Vegetable\", \"Vegetable\", \"Vegetable\", \"Vegetable\", \"Vegetable\", \"Vegetable\", \"Vegetable\", \"Vegetable\", \"Vegetable\", \"Vegetable\", \"Vegetable\", \"Vegetable\", \"Vegetable\", \"Vegetable\", \"Vegetable\", \"Vegetable\", \"Vegetable\", \"Vegetable\", \"Vegetable\", \"Vegetable\", \"Vegetable\", \"Vegetable\", \"Vegetable\", \"Vegetable\", \"Vegetable\"], \"xaxis\": \"x\", \"y\": [\"Fall\", \"Fall\", \"Fall\", \"Fall\", \"Fall\", \"Fall\", \"Fall\", \"Fall\", \"Summer\", \"Summer\", \"Summer\", \"Summer\", \"Summer\", \"Spring\", \"Spring\", \"Fall\", \"Fall\", \"Spring\", \"Fall\", \"Spring\", \"Summer\", \"Spring\", \"Spring\", \"Spring\", \"Spring\", \"Summer\", \"Spring\", \"Fall\"], \"yaxis\": \"y\"}, {\"alignmentgroup\": \"True\", \"hovertemplate\": \"Plant Type=%{x}<br>Season=%{y}<extra></extra>\", \"legendgroup\": \"Grain/Nut\", \"marker\": {\"color\": \"#19d3f3\"}, \"name\": \"Grain/Nut\", \"offsetgroup\": \"Grain/Nut\", \"orientation\": \"v\", \"showlegend\": true, \"textposition\": \"auto\", \"type\": \"bar\", \"x\": [\"Grain/Nut\", \"Grain/Nut\", \"Grain/Nut\", \"Grain/Nut\", \"Grain/Nut\", \"Grain/Nut\", \"Grain/Nut\", \"Grain/Nut\"], \"xaxis\": \"x\", \"y\": [\"Fall\", \"Fall\", \"Winter\", \"Winter\", \"Spring\", \"Summer\", \"Summer\", \"Summer\"], \"yaxis\": \"y\"}, {\"alignmentgroup\": \"True\", \"hovertemplate\": \"Plant Type=%{x}<br>Season=%{y}<extra></extra>\", \"legendgroup\": \"Grain\", \"marker\": {\"color\": \"#FF6692\"}, \"name\": \"Grain\", \"offsetgroup\": \"Grain\", \"orientation\": \"v\", \"showlegend\": true, \"textposition\": \"auto\", \"type\": \"bar\", \"x\": [\"Grain\", \"Grain\", \"Grain\", \"Grain\", \"Grain\"], \"xaxis\": \"x\", \"y\": [\"Fall\", \"Fall\", \"Spring\", \"Spring\", \"Spring\"], \"yaxis\": \"y\"}],                        {\"barmode\": \"relative\", \"legend\": {\"title\": {\"text\": \"Plant Type\"}, \"tracegroupgap\": 0}, \"template\": {\"data\": {\"bar\": [{\"error_x\": {\"color\": \"#2a3f5f\"}, \"error_y\": {\"color\": \"#2a3f5f\"}, \"marker\": {\"line\": {\"color\": \"#E5ECF6\", \"width\": 0.5}}, \"type\": \"bar\"}], \"barpolar\": [{\"marker\": {\"line\": {\"color\": \"#E5ECF6\", \"width\": 0.5}}, \"type\": \"barpolar\"}], \"carpet\": [{\"aaxis\": {\"endlinecolor\": \"#2a3f5f\", \"gridcolor\": \"white\", \"linecolor\": \"white\", \"minorgridcolor\": \"white\", \"startlinecolor\": \"#2a3f5f\"}, \"baxis\": {\"endlinecolor\": \"#2a3f5f\", \"gridcolor\": \"white\", \"linecolor\": \"white\", \"minorgridcolor\": \"white\", \"startlinecolor\": \"#2a3f5f\"}, \"type\": \"carpet\"}], \"choropleth\": [{\"colorbar\": {\"outlinewidth\": 0, \"ticks\": \"\"}, \"type\": \"choropleth\"}], \"contour\": [{\"colorbar\": {\"outlinewidth\": 0, \"ticks\": \"\"}, \"colorscale\": [[0.0, \"#0d0887\"], [0.1111111111111111, \"#46039f\"], [0.2222222222222222, \"#7201a8\"], [0.3333333333333333, \"#9c179e\"], [0.4444444444444444, \"#bd3786\"], [0.5555555555555556, \"#d8576b\"], [0.6666666666666666, \"#ed7953\"], [0.7777777777777778, \"#fb9f3a\"], [0.8888888888888888, \"#fdca26\"], [1.0, \"#f0f921\"]], \"type\": \"contour\"}], \"contourcarpet\": [{\"colorbar\": {\"outlinewidth\": 0, \"ticks\": \"\"}, \"type\": \"contourcarpet\"}], \"heatmap\": [{\"colorbar\": {\"outlinewidth\": 0, \"ticks\": \"\"}, \"colorscale\": [[0.0, \"#0d0887\"], [0.1111111111111111, \"#46039f\"], [0.2222222222222222, \"#7201a8\"], [0.3333333333333333, \"#9c179e\"], [0.4444444444444444, \"#bd3786\"], [0.5555555555555556, \"#d8576b\"], [0.6666666666666666, \"#ed7953\"], [0.7777777777777778, \"#fb9f3a\"], [0.8888888888888888, \"#fdca26\"], [1.0, \"#f0f921\"]], \"type\": \"heatmap\"}], \"heatmapgl\": [{\"colorbar\": {\"outlinewidth\": 0, \"ticks\": \"\"}, \"colorscale\": [[0.0, \"#0d0887\"], [0.1111111111111111, \"#46039f\"], [0.2222222222222222, \"#7201a8\"], [0.3333333333333333, \"#9c179e\"], [0.4444444444444444, \"#bd3786\"], [0.5555555555555556, \"#d8576b\"], [0.6666666666666666, \"#ed7953\"], [0.7777777777777778, \"#fb9f3a\"], [0.8888888888888888, \"#fdca26\"], [1.0, \"#f0f921\"]], \"type\": \"heatmapgl\"}], \"histogram\": [{\"marker\": {\"colorbar\": {\"outlinewidth\": 0, \"ticks\": \"\"}}, \"type\": \"histogram\"}], \"histogram2d\": [{\"colorbar\": {\"outlinewidth\": 0, \"ticks\": \"\"}, \"colorscale\": [[0.0, \"#0d0887\"], [0.1111111111111111, \"#46039f\"], [0.2222222222222222, \"#7201a8\"], [0.3333333333333333, \"#9c179e\"], [0.4444444444444444, \"#bd3786\"], [0.5555555555555556, \"#d8576b\"], [0.6666666666666666, \"#ed7953\"], [0.7777777777777778, \"#fb9f3a\"], [0.8888888888888888, \"#fdca26\"], [1.0, \"#f0f921\"]], \"type\": \"histogram2d\"}], \"histogram2dcontour\": [{\"colorbar\": {\"outlinewidth\": 0, \"ticks\": \"\"}, \"colorscale\": [[0.0, \"#0d0887\"], [0.1111111111111111, \"#46039f\"], [0.2222222222222222, \"#7201a8\"], [0.3333333333333333, \"#9c179e\"], [0.4444444444444444, \"#bd3786\"], [0.5555555555555556, \"#d8576b\"], [0.6666666666666666, \"#ed7953\"], [0.7777777777777778, \"#fb9f3a\"], [0.8888888888888888, \"#fdca26\"], [1.0, \"#f0f921\"]], \"type\": \"histogram2dcontour\"}], \"mesh3d\": [{\"colorbar\": {\"outlinewidth\": 0, \"ticks\": \"\"}, \"type\": \"mesh3d\"}], \"parcoords\": [{\"line\": {\"colorbar\": {\"outlinewidth\": 0, \"ticks\": \"\"}}, \"type\": \"parcoords\"}], \"pie\": [{\"automargin\": true, \"type\": \"pie\"}], \"scatter\": [{\"marker\": {\"colorbar\": {\"outlinewidth\": 0, \"ticks\": \"\"}}, \"type\": \"scatter\"}], \"scatter3d\": [{\"line\": {\"colorbar\": {\"outlinewidth\": 0, \"ticks\": \"\"}}, \"marker\": {\"colorbar\": {\"outlinewidth\": 0, \"ticks\": \"\"}}, \"type\": \"scatter3d\"}], \"scattercarpet\": [{\"marker\": {\"colorbar\": {\"outlinewidth\": 0, \"ticks\": \"\"}}, \"type\": \"scattercarpet\"}], \"scattergeo\": [{\"marker\": {\"colorbar\": {\"outlinewidth\": 0, \"ticks\": \"\"}}, \"type\": \"scattergeo\"}], \"scattergl\": [{\"marker\": {\"colorbar\": {\"outlinewidth\": 0, \"ticks\": \"\"}}, \"type\": \"scattergl\"}], \"scattermapbox\": [{\"marker\": {\"colorbar\": {\"outlinewidth\": 0, \"ticks\": \"\"}}, \"type\": \"scattermapbox\"}], \"scatterpolar\": [{\"marker\": {\"colorbar\": {\"outlinewidth\": 0, \"ticks\": \"\"}}, \"type\": \"scatterpolar\"}], \"scatterpolargl\": [{\"marker\": {\"colorbar\": {\"outlinewidth\": 0, \"ticks\": \"\"}}, \"type\": \"scatterpolargl\"}], \"scatterternary\": [{\"marker\": {\"colorbar\": {\"outlinewidth\": 0, \"ticks\": \"\"}}, \"type\": \"scatterternary\"}], \"surface\": [{\"colorbar\": {\"outlinewidth\": 0, \"ticks\": \"\"}, \"colorscale\": [[0.0, \"#0d0887\"], [0.1111111111111111, \"#46039f\"], [0.2222222222222222, \"#7201a8\"], [0.3333333333333333, \"#9c179e\"], [0.4444444444444444, \"#bd3786\"], [0.5555555555555556, \"#d8576b\"], [0.6666666666666666, \"#ed7953\"], [0.7777777777777778, \"#fb9f3a\"], [0.8888888888888888, \"#fdca26\"], [1.0, \"#f0f921\"]], \"type\": \"surface\"}], \"table\": [{\"cells\": {\"fill\": {\"color\": \"#EBF0F8\"}, \"line\": {\"color\": \"white\"}}, \"header\": {\"fill\": {\"color\": \"#C8D4E3\"}, \"line\": {\"color\": \"white\"}}, \"type\": \"table\"}]}, \"layout\": {\"annotationdefaults\": {\"arrowcolor\": \"#2a3f5f\", \"arrowhead\": 0, \"arrowwidth\": 1}, \"coloraxis\": {\"colorbar\": {\"outlinewidth\": 0, \"ticks\": \"\"}}, \"colorscale\": {\"diverging\": [[0, \"#8e0152\"], [0.1, \"#c51b7d\"], [0.2, \"#de77ae\"], [0.3, \"#f1b6da\"], [0.4, \"#fde0ef\"], [0.5, \"#f7f7f7\"], [0.6, \"#e6f5d0\"], [0.7, \"#b8e186\"], [0.8, \"#7fbc41\"], [0.9, \"#4d9221\"], [1, \"#276419\"]], \"sequential\": [[0.0, \"#0d0887\"], [0.1111111111111111, \"#46039f\"], [0.2222222222222222, \"#7201a8\"], [0.3333333333333333, \"#9c179e\"], [0.4444444444444444, \"#bd3786\"], [0.5555555555555556, \"#d8576b\"], [0.6666666666666666, \"#ed7953\"], [0.7777777777777778, \"#fb9f3a\"], [0.8888888888888888, \"#fdca26\"], [1.0, \"#f0f921\"]], \"sequentialminus\": [[0.0, \"#0d0887\"], [0.1111111111111111, \"#46039f\"], [0.2222222222222222, \"#7201a8\"], [0.3333333333333333, \"#9c179e\"], [0.4444444444444444, \"#bd3786\"], [0.5555555555555556, \"#d8576b\"], [0.6666666666666666, \"#ed7953\"], [0.7777777777777778, \"#fb9f3a\"], [0.8888888888888888, \"#fdca26\"], [1.0, \"#f0f921\"]]}, \"colorway\": [\"#636efa\", \"#EF553B\", \"#00cc96\", \"#ab63fa\", \"#FFA15A\", \"#19d3f3\", \"#FF6692\", \"#B6E880\", \"#FF97FF\", \"#FECB52\"], \"font\": {\"color\": \"#2a3f5f\"}, \"geo\": {\"bgcolor\": \"white\", \"lakecolor\": \"white\", \"landcolor\": \"#E5ECF6\", \"showlakes\": true, \"showland\": true, \"subunitcolor\": \"white\"}, \"hoverlabel\": {\"align\": \"left\"}, \"hovermode\": \"closest\", \"mapbox\": {\"style\": \"light\"}, \"paper_bgcolor\": \"white\", \"plot_bgcolor\": \"#E5ECF6\", \"polar\": {\"angularaxis\": {\"gridcolor\": \"white\", \"linecolor\": \"white\", \"ticks\": \"\"}, \"bgcolor\": \"#E5ECF6\", \"radialaxis\": {\"gridcolor\": \"white\", \"linecolor\": \"white\", \"ticks\": \"\"}}, \"scene\": {\"xaxis\": {\"backgroundcolor\": \"#E5ECF6\", \"gridcolor\": \"white\", \"gridwidth\": 2, \"linecolor\": \"white\", \"showbackground\": true, \"ticks\": \"\", \"zerolinecolor\": \"white\"}, \"yaxis\": {\"backgroundcolor\": \"#E5ECF6\", \"gridcolor\": \"white\", \"gridwidth\": 2, \"linecolor\": \"white\", \"showbackground\": true, \"ticks\": \"\", \"zerolinecolor\": \"white\"}, \"zaxis\": {\"backgroundcolor\": \"#E5ECF6\", \"gridcolor\": \"white\", \"gridwidth\": 2, \"linecolor\": \"white\", \"showbackground\": true, \"ticks\": \"\", \"zerolinecolor\": \"white\"}}, \"shapedefaults\": {\"line\": {\"color\": \"#2a3f5f\"}}, \"ternary\": {\"aaxis\": {\"gridcolor\": \"white\", \"linecolor\": \"white\", \"ticks\": \"\"}, \"baxis\": {\"gridcolor\": \"white\", \"linecolor\": \"white\", \"ticks\": \"\"}, \"bgcolor\": \"#E5ECF6\", \"caxis\": {\"gridcolor\": \"white\", \"linecolor\": \"white\", \"ticks\": \"\"}}, \"title\": {\"x\": 0.05}, \"xaxis\": {\"automargin\": true, \"gridcolor\": \"white\", \"linecolor\": \"white\", \"ticks\": \"\", \"title\": {\"standoff\": 15}, \"zerolinecolor\": \"white\", \"zerolinewidth\": 2}, \"yaxis\": {\"automargin\": true, \"gridcolor\": \"white\", \"linecolor\": \"white\", \"ticks\": \"\", \"title\": {\"standoff\": 15}, \"zerolinecolor\": \"white\", \"zerolinewidth\": 2}}}, \"title\": {\"text\": \"Plant Type vs Season\"}, \"xaxis\": {\"anchor\": \"y\", \"categoryarray\": [\"Flower\", \"Animal Feed\", \"Fruit\", \"Other\", \"Vegetable\", \"Grain/Nut\", \"Grain\"], \"categoryorder\": \"array\", \"domain\": [0.0, 1.0], \"title\": {\"text\": \"Plant Type\"}}, \"yaxis\": {\"anchor\": \"x\", \"domain\": [0.0, 1.0], \"title\": {\"text\": \"Season\"}}},                        {\"responsive\": true}                    ).then(function(){\n",
       "                            \n",
       "var gd = document.getElementById('6cb19d19-aec1-40d2-a62e-946b28db7674');\n",
       "var x = new MutationObserver(function (mutations, observer) {{\n",
       "        var display = window.getComputedStyle(gd).display;\n",
       "        if (!display || display === 'none') {{\n",
       "            console.log([gd, 'removed!']);\n",
       "            Plotly.purge(gd);\n",
       "            observer.disconnect();\n",
       "        }}\n",
       "}});\n",
       "\n",
       "// Listen for the removal of the full notebook cells\n",
       "var notebookContainer = gd.closest('#notebook-container');\n",
       "if (notebookContainer) {{\n",
       "    x.observe(notebookContainer, {childList: true});\n",
       "}}\n",
       "\n",
       "// Listen for the clearing of the current output cell\n",
       "var outputEl = gd.closest('.output');\n",
       "if (outputEl) {{\n",
       "    x.observe(outputEl, {childList: true});\n",
       "}}\n",
       "\n",
       "                        })                };                });            </script>        </div>"
      ]
     },
     "metadata": {},
     "output_type": "display_data"
    }
   ],
   "source": [
    "fig = px.bar(data, x = 'Plant Type', y = 'Season', color= 'Plant Type', title='Plant Type vs Season')\n",
    "fig.update_layout(barmode='stack', xaxis={'categoryorder':'total descending'})\n",
    "fig.show()"
   ]
  },
  {
   "cell_type": "code",
   "execution_count": 18,
   "metadata": {},
   "outputs": [
    {
     "data": {
      "application/vnd.plotly.v1+json": {
       "config": {
        "plotlyServerURL": "https://plot.ly"
       },
       "data": [
        {
         "alignmentgroup": "True",
         "hovertemplate": "Season=%{y}<br>Plant Type=%{x}<extra></extra>",
         "legendgroup": "Spring",
         "marker": {
          "color": "#636efa"
         },
         "name": "Spring",
         "offsetgroup": "Spring",
         "orientation": "v",
         "showlegend": true,
         "textposition": "auto",
         "type": "bar",
         "x": [
          "Flower",
          "Flower",
          "Flower",
          "Flower",
          "Flower",
          "Flower",
          "Flower",
          "Flower",
          "Flower",
          "Flower",
          "Flower",
          "Flower",
          "Flower",
          "Flower",
          "Flower",
          "Flower",
          "Flower",
          "Flower",
          "Flower",
          "Flower",
          "Flower",
          "Flower",
          "Flower",
          "Flower",
          "Flower",
          "Flower",
          "Flower",
          "Flower",
          "Flower",
          "Flower",
          "Flower",
          "Flower",
          "Flower",
          "Flower",
          "Flower",
          "Flower",
          "Flower",
          "Flower",
          "Flower",
          "Flower",
          "Flower",
          "Flower",
          "Flower",
          "Flower",
          "Flower",
          "Flower",
          "Flower",
          "Flower",
          "Flower",
          "Flower",
          "Flower",
          "Flower",
          "Flower",
          "Flower",
          "Flower",
          "Flower",
          "Flower",
          "Flower",
          "Flower",
          "Flower",
          "Flower",
          "Flower",
          "Flower",
          "Flower",
          "Flower",
          "Flower",
          "Flower",
          "Fruit",
          "Other",
          "Fruit",
          "Fruit",
          "Fruit",
          "Fruit",
          "Grain/Nut",
          "Other",
          "Vegetable",
          "Vegetable",
          "Fruit",
          "Fruit",
          "Vegetable",
          "Fruit",
          "Vegetable",
          "Fruit",
          "Grain",
          "Other",
          "Vegetable",
          "Fruit",
          "Grain",
          "Fruit",
          "Vegetable",
          "Vegetable",
          "Vegetable",
          "Fruit",
          "Fruit",
          "Grain",
          "Fruit",
          "Fruit",
          "Fruit",
          "Fruit",
          "Vegetable"
         ],
         "xaxis": "x",
         "y": [
          "Spring",
          "Spring",
          "Spring",
          "Spring",
          "Spring",
          "Spring",
          "Spring",
          "Spring",
          "Spring",
          "Spring",
          "Spring",
          "Spring",
          "Spring",
          "Spring",
          "Spring",
          "Spring",
          "Spring",
          "Spring",
          "Spring",
          "Spring",
          "Spring",
          "Spring",
          "Spring",
          "Spring",
          "Spring",
          "Spring",
          "Spring",
          "Spring",
          "Spring",
          "Spring",
          "Spring",
          "Spring",
          "Spring",
          "Spring",
          "Spring",
          "Spring",
          "Spring",
          "Spring",
          "Spring",
          "Spring",
          "Spring",
          "Spring",
          "Spring",
          "Spring",
          "Spring",
          "Spring",
          "Spring",
          "Spring",
          "Spring",
          "Spring",
          "Spring",
          "Spring",
          "Spring",
          "Spring",
          "Spring",
          "Spring",
          "Spring",
          "Spring",
          "Spring",
          "Spring",
          "Spring",
          "Spring",
          "Spring",
          "Spring",
          "Spring",
          "Spring",
          "Spring",
          "Spring",
          "Spring",
          "Spring",
          "Spring",
          "Spring",
          "Spring",
          "Spring",
          "Spring",
          "Spring",
          "Spring",
          "Spring",
          "Spring",
          "Spring",
          "Spring",
          "Spring",
          "Spring",
          "Spring",
          "Spring",
          "Spring",
          "Spring",
          "Spring",
          "Spring",
          "Spring",
          "Spring",
          "Spring",
          "Spring",
          "Spring",
          "Spring",
          "Spring",
          "Spring",
          "Spring",
          "Spring",
          "Spring"
         ],
         "yaxis": "y"
        },
        {
         "alignmentgroup": "True",
         "hovertemplate": "Season=%{y}<br>Plant Type=%{x}<extra></extra>",
         "legendgroup": "Summer",
         "marker": {
          "color": "#EF553B"
         },
         "name": "Summer",
         "offsetgroup": "Summer",
         "orientation": "v",
         "showlegend": true,
         "textposition": "auto",
         "type": "bar",
         "x": [
          "Flower",
          "Flower",
          "Flower",
          "Flower",
          "Flower",
          "Flower",
          "Flower",
          "Flower",
          "Flower",
          "Flower",
          "Flower",
          "Flower",
          "Flower",
          "Flower",
          "Flower",
          "Flower",
          "Flower",
          "Flower",
          "Flower",
          "Flower",
          "Flower",
          "Flower",
          "Flower",
          "Flower",
          "Flower",
          "Flower",
          "Flower",
          "Flower",
          "Flower",
          "Flower",
          "Flower",
          "Flower",
          "Flower",
          "Flower",
          "Flower",
          "Flower",
          "Flower",
          "Flower",
          "Flower",
          "Flower",
          "Flower",
          "Flower",
          "Flower",
          "Flower",
          "Flower",
          "Flower",
          "Flower",
          "Flower",
          "Flower",
          "Flower",
          "Flower",
          "Flower",
          "Flower",
          "Flower",
          "Flower",
          "Flower",
          "Flower",
          "Flower",
          "Flower",
          "Flower",
          "Flower",
          "Flower",
          "Flower",
          "Flower",
          "Flower",
          "Flower",
          "Flower",
          "Flower",
          "Flower",
          "Flower",
          "Flower",
          "Flower",
          "Flower",
          "Flower",
          "Flower",
          "Flower",
          "Flower",
          "Flower",
          "Flower",
          "Flower",
          "Flower",
          "Flower",
          "Flower",
          "Flower",
          "Fruit",
          "Fruit",
          "Fruit",
          "Fruit",
          "Grain/Nut",
          "Flower",
          "Fruit",
          "Fruit",
          "Fruit",
          "Fruit",
          "Grain/Nut",
          "Grain/Nut",
          "Vegetable",
          "Vegetable",
          "Vegetable",
          "Animal Feed",
          "Vegetable",
          "Vegetable",
          "Fruit",
          "Fruit",
          "Vegetable",
          "Fruit",
          "Fruit",
          "Fruit",
          "Vegetable",
          "Fruit"
         ],
         "xaxis": "x",
         "y": [
          "Summer",
          "Summer",
          "Summer",
          "Summer",
          "Summer",
          "Summer",
          "Summer",
          "Summer",
          "Summer",
          "Summer",
          "Summer",
          "Summer",
          "Summer",
          "Summer",
          "Summer",
          "Summer",
          "Summer",
          "Summer",
          "Summer",
          "Summer",
          "Summer",
          "Summer",
          "Summer",
          "Summer",
          "Summer",
          "Summer",
          "Summer",
          "Summer",
          "Summer",
          "Summer",
          "Summer",
          "Summer",
          "Summer",
          "Summer",
          "Summer",
          "Summer",
          "Summer",
          "Summer",
          "Summer",
          "Summer",
          "Summer",
          "Summer",
          "Summer",
          "Summer",
          "Summer",
          "Summer",
          "Summer",
          "Summer",
          "Summer",
          "Summer",
          "Summer",
          "Summer",
          "Summer",
          "Summer",
          "Summer",
          "Summer",
          "Summer",
          "Summer",
          "Summer",
          "Summer",
          "Summer",
          "Summer",
          "Summer",
          "Summer",
          "Summer",
          "Summer",
          "Summer",
          "Summer",
          "Summer",
          "Summer",
          "Summer",
          "Summer",
          "Summer",
          "Summer",
          "Summer",
          "Summer",
          "Summer",
          "Summer",
          "Summer",
          "Summer",
          "Summer",
          "Summer",
          "Summer",
          "Summer",
          "Summer",
          "Summer",
          "Summer",
          "Summer",
          "Summer",
          "Summer",
          "Summer",
          "Summer",
          "Summer",
          "Summer",
          "Summer",
          "Summer",
          "Summer",
          "Summer",
          "Summer",
          "Summer",
          "Summer",
          "Summer",
          "Summer",
          "Summer",
          "Summer",
          "Summer",
          "Summer",
          "Summer",
          "Summer",
          "Summer"
         ],
         "yaxis": "y"
        },
        {
         "alignmentgroup": "True",
         "hovertemplate": "Season=%{y}<br>Plant Type=%{x}<extra></extra>",
         "legendgroup": "Fall",
         "marker": {
          "color": "#00cc96"
         },
         "name": "Fall",
         "offsetgroup": "Fall",
         "orientation": "v",
         "showlegend": true,
         "textposition": "auto",
         "type": "bar",
         "x": [
          "Animal Feed",
          "Flower",
          "Flower",
          "Fruit",
          "Fruit",
          "Fruit",
          "Fruit",
          "Fruit",
          "Fruit",
          "Fruit",
          "Other",
          "Vegetable",
          "Vegetable",
          "Vegetable",
          "Vegetable",
          "Vegetable",
          "Vegetable",
          "Vegetable",
          "Vegetable",
          "Fruit",
          "Fruit",
          "Grain/Nut",
          "Grain/Nut",
          "Fruit",
          "Grain",
          "Fruit",
          "Vegetable",
          "Vegetable",
          "Fruit",
          "Grain",
          "Vegetable",
          "Fruit",
          "Fruit",
          "Fruit",
          "Fruit",
          "Other",
          "Vegetable"
         ],
         "xaxis": "x",
         "y": [
          "Fall",
          "Fall",
          "Fall",
          "Fall",
          "Fall",
          "Fall",
          "Fall",
          "Fall",
          "Fall",
          "Fall",
          "Fall",
          "Fall",
          "Fall",
          "Fall",
          "Fall",
          "Fall",
          "Fall",
          "Fall",
          "Fall",
          "Fall",
          "Fall",
          "Fall",
          "Fall",
          "Fall",
          "Fall",
          "Fall",
          "Fall",
          "Fall",
          "Fall",
          "Fall",
          "Fall",
          "Fall",
          "Fall",
          "Fall",
          "Fall",
          "Fall",
          "Fall"
         ],
         "yaxis": "y"
        },
        {
         "alignmentgroup": "True",
         "hovertemplate": "Season=%{y}<br>Plant Type=%{x}<extra></extra>",
         "legendgroup": "Winter",
         "marker": {
          "color": "#ab63fa"
         },
         "name": "Winter",
         "offsetgroup": "Winter",
         "orientation": "v",
         "showlegend": true,
         "textposition": "auto",
         "type": "bar",
         "x": [
          "Fruit",
          "Grain/Nut",
          "Grain/Nut",
          "Fruit",
          "Fruit",
          "Fruit",
          "Fruit"
         ],
         "xaxis": "x",
         "y": [
          "Winter",
          "Winter",
          "Winter",
          "Winter",
          "Winter",
          "Winter",
          "Winter"
         ],
         "yaxis": "y"
        }
       ],
       "layout": {
        "barmode": "stack",
        "legend": {
         "title": {
          "text": "Season"
         },
         "tracegroupgap": 0
        },
        "template": {
         "data": {
          "bar": [
           {
            "error_x": {
             "color": "#2a3f5f"
            },
            "error_y": {
             "color": "#2a3f5f"
            },
            "marker": {
             "line": {
              "color": "#E5ECF6",
              "width": 0.5
             }
            },
            "type": "bar"
           }
          ],
          "barpolar": [
           {
            "marker": {
             "line": {
              "color": "#E5ECF6",
              "width": 0.5
             }
            },
            "type": "barpolar"
           }
          ],
          "carpet": [
           {
            "aaxis": {
             "endlinecolor": "#2a3f5f",
             "gridcolor": "white",
             "linecolor": "white",
             "minorgridcolor": "white",
             "startlinecolor": "#2a3f5f"
            },
            "baxis": {
             "endlinecolor": "#2a3f5f",
             "gridcolor": "white",
             "linecolor": "white",
             "minorgridcolor": "white",
             "startlinecolor": "#2a3f5f"
            },
            "type": "carpet"
           }
          ],
          "choropleth": [
           {
            "colorbar": {
             "outlinewidth": 0,
             "ticks": ""
            },
            "type": "choropleth"
           }
          ],
          "contour": [
           {
            "colorbar": {
             "outlinewidth": 0,
             "ticks": ""
            },
            "colorscale": [
             [
              0,
              "#0d0887"
             ],
             [
              0.1111111111111111,
              "#46039f"
             ],
             [
              0.2222222222222222,
              "#7201a8"
             ],
             [
              0.3333333333333333,
              "#9c179e"
             ],
             [
              0.4444444444444444,
              "#bd3786"
             ],
             [
              0.5555555555555556,
              "#d8576b"
             ],
             [
              0.6666666666666666,
              "#ed7953"
             ],
             [
              0.7777777777777778,
              "#fb9f3a"
             ],
             [
              0.8888888888888888,
              "#fdca26"
             ],
             [
              1,
              "#f0f921"
             ]
            ],
            "type": "contour"
           }
          ],
          "contourcarpet": [
           {
            "colorbar": {
             "outlinewidth": 0,
             "ticks": ""
            },
            "type": "contourcarpet"
           }
          ],
          "heatmap": [
           {
            "colorbar": {
             "outlinewidth": 0,
             "ticks": ""
            },
            "colorscale": [
             [
              0,
              "#0d0887"
             ],
             [
              0.1111111111111111,
              "#46039f"
             ],
             [
              0.2222222222222222,
              "#7201a8"
             ],
             [
              0.3333333333333333,
              "#9c179e"
             ],
             [
              0.4444444444444444,
              "#bd3786"
             ],
             [
              0.5555555555555556,
              "#d8576b"
             ],
             [
              0.6666666666666666,
              "#ed7953"
             ],
             [
              0.7777777777777778,
              "#fb9f3a"
             ],
             [
              0.8888888888888888,
              "#fdca26"
             ],
             [
              1,
              "#f0f921"
             ]
            ],
            "type": "heatmap"
           }
          ],
          "heatmapgl": [
           {
            "colorbar": {
             "outlinewidth": 0,
             "ticks": ""
            },
            "colorscale": [
             [
              0,
              "#0d0887"
             ],
             [
              0.1111111111111111,
              "#46039f"
             ],
             [
              0.2222222222222222,
              "#7201a8"
             ],
             [
              0.3333333333333333,
              "#9c179e"
             ],
             [
              0.4444444444444444,
              "#bd3786"
             ],
             [
              0.5555555555555556,
              "#d8576b"
             ],
             [
              0.6666666666666666,
              "#ed7953"
             ],
             [
              0.7777777777777778,
              "#fb9f3a"
             ],
             [
              0.8888888888888888,
              "#fdca26"
             ],
             [
              1,
              "#f0f921"
             ]
            ],
            "type": "heatmapgl"
           }
          ],
          "histogram": [
           {
            "marker": {
             "colorbar": {
              "outlinewidth": 0,
              "ticks": ""
             }
            },
            "type": "histogram"
           }
          ],
          "histogram2d": [
           {
            "colorbar": {
             "outlinewidth": 0,
             "ticks": ""
            },
            "colorscale": [
             [
              0,
              "#0d0887"
             ],
             [
              0.1111111111111111,
              "#46039f"
             ],
             [
              0.2222222222222222,
              "#7201a8"
             ],
             [
              0.3333333333333333,
              "#9c179e"
             ],
             [
              0.4444444444444444,
              "#bd3786"
             ],
             [
              0.5555555555555556,
              "#d8576b"
             ],
             [
              0.6666666666666666,
              "#ed7953"
             ],
             [
              0.7777777777777778,
              "#fb9f3a"
             ],
             [
              0.8888888888888888,
              "#fdca26"
             ],
             [
              1,
              "#f0f921"
             ]
            ],
            "type": "histogram2d"
           }
          ],
          "histogram2dcontour": [
           {
            "colorbar": {
             "outlinewidth": 0,
             "ticks": ""
            },
            "colorscale": [
             [
              0,
              "#0d0887"
             ],
             [
              0.1111111111111111,
              "#46039f"
             ],
             [
              0.2222222222222222,
              "#7201a8"
             ],
             [
              0.3333333333333333,
              "#9c179e"
             ],
             [
              0.4444444444444444,
              "#bd3786"
             ],
             [
              0.5555555555555556,
              "#d8576b"
             ],
             [
              0.6666666666666666,
              "#ed7953"
             ],
             [
              0.7777777777777778,
              "#fb9f3a"
             ],
             [
              0.8888888888888888,
              "#fdca26"
             ],
             [
              1,
              "#f0f921"
             ]
            ],
            "type": "histogram2dcontour"
           }
          ],
          "mesh3d": [
           {
            "colorbar": {
             "outlinewidth": 0,
             "ticks": ""
            },
            "type": "mesh3d"
           }
          ],
          "parcoords": [
           {
            "line": {
             "colorbar": {
              "outlinewidth": 0,
              "ticks": ""
             }
            },
            "type": "parcoords"
           }
          ],
          "pie": [
           {
            "automargin": true,
            "type": "pie"
           }
          ],
          "scatter": [
           {
            "marker": {
             "colorbar": {
              "outlinewidth": 0,
              "ticks": ""
             }
            },
            "type": "scatter"
           }
          ],
          "scatter3d": [
           {
            "line": {
             "colorbar": {
              "outlinewidth": 0,
              "ticks": ""
             }
            },
            "marker": {
             "colorbar": {
              "outlinewidth": 0,
              "ticks": ""
             }
            },
            "type": "scatter3d"
           }
          ],
          "scattercarpet": [
           {
            "marker": {
             "colorbar": {
              "outlinewidth": 0,
              "ticks": ""
             }
            },
            "type": "scattercarpet"
           }
          ],
          "scattergeo": [
           {
            "marker": {
             "colorbar": {
              "outlinewidth": 0,
              "ticks": ""
             }
            },
            "type": "scattergeo"
           }
          ],
          "scattergl": [
           {
            "marker": {
             "colorbar": {
              "outlinewidth": 0,
              "ticks": ""
             }
            },
            "type": "scattergl"
           }
          ],
          "scattermapbox": [
           {
            "marker": {
             "colorbar": {
              "outlinewidth": 0,
              "ticks": ""
             }
            },
            "type": "scattermapbox"
           }
          ],
          "scatterpolar": [
           {
            "marker": {
             "colorbar": {
              "outlinewidth": 0,
              "ticks": ""
             }
            },
            "type": "scatterpolar"
           }
          ],
          "scatterpolargl": [
           {
            "marker": {
             "colorbar": {
              "outlinewidth": 0,
              "ticks": ""
             }
            },
            "type": "scatterpolargl"
           }
          ],
          "scatterternary": [
           {
            "marker": {
             "colorbar": {
              "outlinewidth": 0,
              "ticks": ""
             }
            },
            "type": "scatterternary"
           }
          ],
          "surface": [
           {
            "colorbar": {
             "outlinewidth": 0,
             "ticks": ""
            },
            "colorscale": [
             [
              0,
              "#0d0887"
             ],
             [
              0.1111111111111111,
              "#46039f"
             ],
             [
              0.2222222222222222,
              "#7201a8"
             ],
             [
              0.3333333333333333,
              "#9c179e"
             ],
             [
              0.4444444444444444,
              "#bd3786"
             ],
             [
              0.5555555555555556,
              "#d8576b"
             ],
             [
              0.6666666666666666,
              "#ed7953"
             ],
             [
              0.7777777777777778,
              "#fb9f3a"
             ],
             [
              0.8888888888888888,
              "#fdca26"
             ],
             [
              1,
              "#f0f921"
             ]
            ],
            "type": "surface"
           }
          ],
          "table": [
           {
            "cells": {
             "fill": {
              "color": "#EBF0F8"
             },
             "line": {
              "color": "white"
             }
            },
            "header": {
             "fill": {
              "color": "#C8D4E3"
             },
             "line": {
              "color": "white"
             }
            },
            "type": "table"
           }
          ]
         },
         "layout": {
          "annotationdefaults": {
           "arrowcolor": "#2a3f5f",
           "arrowhead": 0,
           "arrowwidth": 1
          },
          "coloraxis": {
           "colorbar": {
            "outlinewidth": 0,
            "ticks": ""
           }
          },
          "colorscale": {
           "diverging": [
            [
             0,
             "#8e0152"
            ],
            [
             0.1,
             "#c51b7d"
            ],
            [
             0.2,
             "#de77ae"
            ],
            [
             0.3,
             "#f1b6da"
            ],
            [
             0.4,
             "#fde0ef"
            ],
            [
             0.5,
             "#f7f7f7"
            ],
            [
             0.6,
             "#e6f5d0"
            ],
            [
             0.7,
             "#b8e186"
            ],
            [
             0.8,
             "#7fbc41"
            ],
            [
             0.9,
             "#4d9221"
            ],
            [
             1,
             "#276419"
            ]
           ],
           "sequential": [
            [
             0,
             "#0d0887"
            ],
            [
             0.1111111111111111,
             "#46039f"
            ],
            [
             0.2222222222222222,
             "#7201a8"
            ],
            [
             0.3333333333333333,
             "#9c179e"
            ],
            [
             0.4444444444444444,
             "#bd3786"
            ],
            [
             0.5555555555555556,
             "#d8576b"
            ],
            [
             0.6666666666666666,
             "#ed7953"
            ],
            [
             0.7777777777777778,
             "#fb9f3a"
            ],
            [
             0.8888888888888888,
             "#fdca26"
            ],
            [
             1,
             "#f0f921"
            ]
           ],
           "sequentialminus": [
            [
             0,
             "#0d0887"
            ],
            [
             0.1111111111111111,
             "#46039f"
            ],
            [
             0.2222222222222222,
             "#7201a8"
            ],
            [
             0.3333333333333333,
             "#9c179e"
            ],
            [
             0.4444444444444444,
             "#bd3786"
            ],
            [
             0.5555555555555556,
             "#d8576b"
            ],
            [
             0.6666666666666666,
             "#ed7953"
            ],
            [
             0.7777777777777778,
             "#fb9f3a"
            ],
            [
             0.8888888888888888,
             "#fdca26"
            ],
            [
             1,
             "#f0f921"
            ]
           ]
          },
          "colorway": [
           "#636efa",
           "#EF553B",
           "#00cc96",
           "#ab63fa",
           "#FFA15A",
           "#19d3f3",
           "#FF6692",
           "#B6E880",
           "#FF97FF",
           "#FECB52"
          ],
          "font": {
           "color": "#2a3f5f"
          },
          "geo": {
           "bgcolor": "white",
           "lakecolor": "white",
           "landcolor": "#E5ECF6",
           "showlakes": true,
           "showland": true,
           "subunitcolor": "white"
          },
          "hoverlabel": {
           "align": "left"
          },
          "hovermode": "closest",
          "mapbox": {
           "style": "light"
          },
          "paper_bgcolor": "white",
          "plot_bgcolor": "#E5ECF6",
          "polar": {
           "angularaxis": {
            "gridcolor": "white",
            "linecolor": "white",
            "ticks": ""
           },
           "bgcolor": "#E5ECF6",
           "radialaxis": {
            "gridcolor": "white",
            "linecolor": "white",
            "ticks": ""
           }
          },
          "scene": {
           "xaxis": {
            "backgroundcolor": "#E5ECF6",
            "gridcolor": "white",
            "gridwidth": 2,
            "linecolor": "white",
            "showbackground": true,
            "ticks": "",
            "zerolinecolor": "white"
           },
           "yaxis": {
            "backgroundcolor": "#E5ECF6",
            "gridcolor": "white",
            "gridwidth": 2,
            "linecolor": "white",
            "showbackground": true,
            "ticks": "",
            "zerolinecolor": "white"
           },
           "zaxis": {
            "backgroundcolor": "#E5ECF6",
            "gridcolor": "white",
            "gridwidth": 2,
            "linecolor": "white",
            "showbackground": true,
            "ticks": "",
            "zerolinecolor": "white"
           }
          },
          "shapedefaults": {
           "line": {
            "color": "#2a3f5f"
           }
          },
          "ternary": {
           "aaxis": {
            "gridcolor": "white",
            "linecolor": "white",
            "ticks": ""
           },
           "baxis": {
            "gridcolor": "white",
            "linecolor": "white",
            "ticks": ""
           },
           "bgcolor": "#E5ECF6",
           "caxis": {
            "gridcolor": "white",
            "linecolor": "white",
            "ticks": ""
           }
          },
          "title": {
           "x": 0.05
          },
          "xaxis": {
           "automargin": true,
           "gridcolor": "white",
           "linecolor": "white",
           "ticks": "",
           "title": {
            "standoff": 15
           },
           "zerolinecolor": "white",
           "zerolinewidth": 2
          },
          "yaxis": {
           "automargin": true,
           "gridcolor": "white",
           "linecolor": "white",
           "ticks": "",
           "title": {
            "standoff": 15
           },
           "zerolinecolor": "white",
           "zerolinewidth": 2
          }
         }
        },
        "title": {
         "text": "Plant Type vs Season"
        },
        "xaxis": {
         "anchor": "y",
         "categoryorder": "total descending",
         "domain": [
          0,
          1
         ],
         "title": {
          "text": "Plant Type"
         }
        },
        "yaxis": {
         "anchor": "x",
         "categoryarray": [
          "Winter",
          "Fall",
          "Summer",
          "Spring"
         ],
         "categoryorder": "array",
         "domain": [
          0,
          1
         ],
         "title": {
          "text": "Season"
         }
        }
       }
      },
      "text/html": [
       "<div>                            <div id=\"8a8c4ffe-cabd-45cb-b5a9-3309257a7363\" class=\"plotly-graph-div\" style=\"height:525px; width:100%;\"></div>            <script type=\"text/javascript\">                require([\"plotly\"], function(Plotly) {                    window.PLOTLYENV=window.PLOTLYENV || {};                                    if (document.getElementById(\"8a8c4ffe-cabd-45cb-b5a9-3309257a7363\")) {                    Plotly.newPlot(                        \"8a8c4ffe-cabd-45cb-b5a9-3309257a7363\",                        [{\"alignmentgroup\": \"True\", \"hovertemplate\": \"Season=%{y}<br>Plant Type=%{x}<extra></extra>\", \"legendgroup\": \"Spring\", \"marker\": {\"color\": \"#636efa\"}, \"name\": \"Spring\", \"offsetgroup\": \"Spring\", \"orientation\": \"v\", \"showlegend\": true, \"textposition\": \"auto\", \"type\": \"bar\", \"x\": [\"Flower\", \"Flower\", \"Flower\", \"Flower\", \"Flower\", \"Flower\", \"Flower\", \"Flower\", \"Flower\", \"Flower\", \"Flower\", \"Flower\", \"Flower\", \"Flower\", \"Flower\", \"Flower\", \"Flower\", \"Flower\", \"Flower\", \"Flower\", \"Flower\", \"Flower\", \"Flower\", \"Flower\", \"Flower\", \"Flower\", \"Flower\", \"Flower\", \"Flower\", \"Flower\", \"Flower\", \"Flower\", \"Flower\", \"Flower\", \"Flower\", \"Flower\", \"Flower\", \"Flower\", \"Flower\", \"Flower\", \"Flower\", \"Flower\", \"Flower\", \"Flower\", \"Flower\", \"Flower\", \"Flower\", \"Flower\", \"Flower\", \"Flower\", \"Flower\", \"Flower\", \"Flower\", \"Flower\", \"Flower\", \"Flower\", \"Flower\", \"Flower\", \"Flower\", \"Flower\", \"Flower\", \"Flower\", \"Flower\", \"Flower\", \"Flower\", \"Flower\", \"Flower\", \"Fruit\", \"Other\", \"Fruit\", \"Fruit\", \"Fruit\", \"Fruit\", \"Grain/Nut\", \"Other\", \"Vegetable\", \"Vegetable\", \"Fruit\", \"Fruit\", \"Vegetable\", \"Fruit\", \"Vegetable\", \"Fruit\", \"Grain\", \"Other\", \"Vegetable\", \"Fruit\", \"Grain\", \"Fruit\", \"Vegetable\", \"Vegetable\", \"Vegetable\", \"Fruit\", \"Fruit\", \"Grain\", \"Fruit\", \"Fruit\", \"Fruit\", \"Fruit\", \"Vegetable\"], \"xaxis\": \"x\", \"y\": [\"Spring\", \"Spring\", \"Spring\", \"Spring\", \"Spring\", \"Spring\", \"Spring\", \"Spring\", \"Spring\", \"Spring\", \"Spring\", \"Spring\", \"Spring\", \"Spring\", \"Spring\", \"Spring\", \"Spring\", \"Spring\", \"Spring\", \"Spring\", \"Spring\", \"Spring\", \"Spring\", \"Spring\", \"Spring\", \"Spring\", \"Spring\", \"Spring\", \"Spring\", \"Spring\", \"Spring\", \"Spring\", \"Spring\", \"Spring\", \"Spring\", \"Spring\", \"Spring\", \"Spring\", \"Spring\", \"Spring\", \"Spring\", \"Spring\", \"Spring\", \"Spring\", \"Spring\", \"Spring\", \"Spring\", \"Spring\", \"Spring\", \"Spring\", \"Spring\", \"Spring\", \"Spring\", \"Spring\", \"Spring\", \"Spring\", \"Spring\", \"Spring\", \"Spring\", \"Spring\", \"Spring\", \"Spring\", \"Spring\", \"Spring\", \"Spring\", \"Spring\", \"Spring\", \"Spring\", \"Spring\", \"Spring\", \"Spring\", \"Spring\", \"Spring\", \"Spring\", \"Spring\", \"Spring\", \"Spring\", \"Spring\", \"Spring\", \"Spring\", \"Spring\", \"Spring\", \"Spring\", \"Spring\", \"Spring\", \"Spring\", \"Spring\", \"Spring\", \"Spring\", \"Spring\", \"Spring\", \"Spring\", \"Spring\", \"Spring\", \"Spring\", \"Spring\", \"Spring\", \"Spring\", \"Spring\", \"Spring\"], \"yaxis\": \"y\"}, {\"alignmentgroup\": \"True\", \"hovertemplate\": \"Season=%{y}<br>Plant Type=%{x}<extra></extra>\", \"legendgroup\": \"Summer\", \"marker\": {\"color\": \"#EF553B\"}, \"name\": \"Summer\", \"offsetgroup\": \"Summer\", \"orientation\": \"v\", \"showlegend\": true, \"textposition\": \"auto\", \"type\": \"bar\", \"x\": [\"Flower\", \"Flower\", \"Flower\", \"Flower\", \"Flower\", \"Flower\", \"Flower\", \"Flower\", \"Flower\", \"Flower\", \"Flower\", \"Flower\", \"Flower\", \"Flower\", \"Flower\", \"Flower\", \"Flower\", \"Flower\", \"Flower\", \"Flower\", \"Flower\", \"Flower\", \"Flower\", \"Flower\", \"Flower\", \"Flower\", \"Flower\", \"Flower\", \"Flower\", \"Flower\", \"Flower\", \"Flower\", \"Flower\", \"Flower\", \"Flower\", \"Flower\", \"Flower\", \"Flower\", \"Flower\", \"Flower\", \"Flower\", \"Flower\", \"Flower\", \"Flower\", \"Flower\", \"Flower\", \"Flower\", \"Flower\", \"Flower\", \"Flower\", \"Flower\", \"Flower\", \"Flower\", \"Flower\", \"Flower\", \"Flower\", \"Flower\", \"Flower\", \"Flower\", \"Flower\", \"Flower\", \"Flower\", \"Flower\", \"Flower\", \"Flower\", \"Flower\", \"Flower\", \"Flower\", \"Flower\", \"Flower\", \"Flower\", \"Flower\", \"Flower\", \"Flower\", \"Flower\", \"Flower\", \"Flower\", \"Flower\", \"Flower\", \"Flower\", \"Flower\", \"Flower\", \"Flower\", \"Flower\", \"Fruit\", \"Fruit\", \"Fruit\", \"Fruit\", \"Grain/Nut\", \"Flower\", \"Fruit\", \"Fruit\", \"Fruit\", \"Fruit\", \"Grain/Nut\", \"Grain/Nut\", \"Vegetable\", \"Vegetable\", \"Vegetable\", \"Animal Feed\", \"Vegetable\", \"Vegetable\", \"Fruit\", \"Fruit\", \"Vegetable\", \"Fruit\", \"Fruit\", \"Fruit\", \"Vegetable\", \"Fruit\"], \"xaxis\": \"x\", \"y\": [\"Summer\", \"Summer\", \"Summer\", \"Summer\", \"Summer\", \"Summer\", \"Summer\", \"Summer\", \"Summer\", \"Summer\", \"Summer\", \"Summer\", \"Summer\", \"Summer\", \"Summer\", \"Summer\", \"Summer\", \"Summer\", \"Summer\", \"Summer\", \"Summer\", \"Summer\", \"Summer\", \"Summer\", \"Summer\", \"Summer\", \"Summer\", \"Summer\", \"Summer\", \"Summer\", \"Summer\", \"Summer\", \"Summer\", \"Summer\", \"Summer\", \"Summer\", \"Summer\", \"Summer\", \"Summer\", \"Summer\", \"Summer\", \"Summer\", \"Summer\", \"Summer\", \"Summer\", \"Summer\", \"Summer\", \"Summer\", \"Summer\", \"Summer\", \"Summer\", \"Summer\", \"Summer\", \"Summer\", \"Summer\", \"Summer\", \"Summer\", \"Summer\", \"Summer\", \"Summer\", \"Summer\", \"Summer\", \"Summer\", \"Summer\", \"Summer\", \"Summer\", \"Summer\", \"Summer\", \"Summer\", \"Summer\", \"Summer\", \"Summer\", \"Summer\", \"Summer\", \"Summer\", \"Summer\", \"Summer\", \"Summer\", \"Summer\", \"Summer\", \"Summer\", \"Summer\", \"Summer\", \"Summer\", \"Summer\", \"Summer\", \"Summer\", \"Summer\", \"Summer\", \"Summer\", \"Summer\", \"Summer\", \"Summer\", \"Summer\", \"Summer\", \"Summer\", \"Summer\", \"Summer\", \"Summer\", \"Summer\", \"Summer\", \"Summer\", \"Summer\", \"Summer\", \"Summer\", \"Summer\", \"Summer\", \"Summer\", \"Summer\", \"Summer\"], \"yaxis\": \"y\"}, {\"alignmentgroup\": \"True\", \"hovertemplate\": \"Season=%{y}<br>Plant Type=%{x}<extra></extra>\", \"legendgroup\": \"Fall\", \"marker\": {\"color\": \"#00cc96\"}, \"name\": \"Fall\", \"offsetgroup\": \"Fall\", \"orientation\": \"v\", \"showlegend\": true, \"textposition\": \"auto\", \"type\": \"bar\", \"x\": [\"Animal Feed\", \"Flower\", \"Flower\", \"Fruit\", \"Fruit\", \"Fruit\", \"Fruit\", \"Fruit\", \"Fruit\", \"Fruit\", \"Other\", \"Vegetable\", \"Vegetable\", \"Vegetable\", \"Vegetable\", \"Vegetable\", \"Vegetable\", \"Vegetable\", \"Vegetable\", \"Fruit\", \"Fruit\", \"Grain/Nut\", \"Grain/Nut\", \"Fruit\", \"Grain\", \"Fruit\", \"Vegetable\", \"Vegetable\", \"Fruit\", \"Grain\", \"Vegetable\", \"Fruit\", \"Fruit\", \"Fruit\", \"Fruit\", \"Other\", \"Vegetable\"], \"xaxis\": \"x\", \"y\": [\"Fall\", \"Fall\", \"Fall\", \"Fall\", \"Fall\", \"Fall\", \"Fall\", \"Fall\", \"Fall\", \"Fall\", \"Fall\", \"Fall\", \"Fall\", \"Fall\", \"Fall\", \"Fall\", \"Fall\", \"Fall\", \"Fall\", \"Fall\", \"Fall\", \"Fall\", \"Fall\", \"Fall\", \"Fall\", \"Fall\", \"Fall\", \"Fall\", \"Fall\", \"Fall\", \"Fall\", \"Fall\", \"Fall\", \"Fall\", \"Fall\", \"Fall\", \"Fall\"], \"yaxis\": \"y\"}, {\"alignmentgroup\": \"True\", \"hovertemplate\": \"Season=%{y}<br>Plant Type=%{x}<extra></extra>\", \"legendgroup\": \"Winter\", \"marker\": {\"color\": \"#ab63fa\"}, \"name\": \"Winter\", \"offsetgroup\": \"Winter\", \"orientation\": \"v\", \"showlegend\": true, \"textposition\": \"auto\", \"type\": \"bar\", \"x\": [\"Fruit\", \"Grain/Nut\", \"Grain/Nut\", \"Fruit\", \"Fruit\", \"Fruit\", \"Fruit\"], \"xaxis\": \"x\", \"y\": [\"Winter\", \"Winter\", \"Winter\", \"Winter\", \"Winter\", \"Winter\", \"Winter\"], \"yaxis\": \"y\"}],                        {\"barmode\": \"stack\", \"legend\": {\"title\": {\"text\": \"Season\"}, \"tracegroupgap\": 0}, \"template\": {\"data\": {\"bar\": [{\"error_x\": {\"color\": \"#2a3f5f\"}, \"error_y\": {\"color\": \"#2a3f5f\"}, \"marker\": {\"line\": {\"color\": \"#E5ECF6\", \"width\": 0.5}}, \"type\": \"bar\"}], \"barpolar\": [{\"marker\": {\"line\": {\"color\": \"#E5ECF6\", \"width\": 0.5}}, \"type\": \"barpolar\"}], \"carpet\": [{\"aaxis\": {\"endlinecolor\": \"#2a3f5f\", \"gridcolor\": \"white\", \"linecolor\": \"white\", \"minorgridcolor\": \"white\", \"startlinecolor\": \"#2a3f5f\"}, \"baxis\": {\"endlinecolor\": \"#2a3f5f\", \"gridcolor\": \"white\", \"linecolor\": \"white\", \"minorgridcolor\": \"white\", \"startlinecolor\": \"#2a3f5f\"}, \"type\": \"carpet\"}], \"choropleth\": [{\"colorbar\": {\"outlinewidth\": 0, \"ticks\": \"\"}, \"type\": \"choropleth\"}], \"contour\": [{\"colorbar\": {\"outlinewidth\": 0, \"ticks\": \"\"}, \"colorscale\": [[0.0, \"#0d0887\"], [0.1111111111111111, \"#46039f\"], [0.2222222222222222, \"#7201a8\"], [0.3333333333333333, \"#9c179e\"], [0.4444444444444444, \"#bd3786\"], [0.5555555555555556, \"#d8576b\"], [0.6666666666666666, \"#ed7953\"], [0.7777777777777778, \"#fb9f3a\"], [0.8888888888888888, \"#fdca26\"], [1.0, \"#f0f921\"]], \"type\": \"contour\"}], \"contourcarpet\": [{\"colorbar\": {\"outlinewidth\": 0, \"ticks\": \"\"}, \"type\": \"contourcarpet\"}], \"heatmap\": [{\"colorbar\": {\"outlinewidth\": 0, \"ticks\": \"\"}, \"colorscale\": [[0.0, \"#0d0887\"], [0.1111111111111111, \"#46039f\"], [0.2222222222222222, \"#7201a8\"], [0.3333333333333333, \"#9c179e\"], [0.4444444444444444, \"#bd3786\"], [0.5555555555555556, \"#d8576b\"], [0.6666666666666666, \"#ed7953\"], [0.7777777777777778, \"#fb9f3a\"], [0.8888888888888888, \"#fdca26\"], [1.0, \"#f0f921\"]], \"type\": \"heatmap\"}], \"heatmapgl\": [{\"colorbar\": {\"outlinewidth\": 0, \"ticks\": \"\"}, \"colorscale\": [[0.0, \"#0d0887\"], [0.1111111111111111, \"#46039f\"], [0.2222222222222222, \"#7201a8\"], [0.3333333333333333, \"#9c179e\"], [0.4444444444444444, \"#bd3786\"], [0.5555555555555556, \"#d8576b\"], [0.6666666666666666, \"#ed7953\"], [0.7777777777777778, \"#fb9f3a\"], [0.8888888888888888, \"#fdca26\"], [1.0, \"#f0f921\"]], \"type\": \"heatmapgl\"}], \"histogram\": [{\"marker\": {\"colorbar\": {\"outlinewidth\": 0, \"ticks\": \"\"}}, \"type\": \"histogram\"}], \"histogram2d\": [{\"colorbar\": {\"outlinewidth\": 0, \"ticks\": \"\"}, \"colorscale\": [[0.0, \"#0d0887\"], [0.1111111111111111, \"#46039f\"], [0.2222222222222222, \"#7201a8\"], [0.3333333333333333, \"#9c179e\"], [0.4444444444444444, \"#bd3786\"], [0.5555555555555556, \"#d8576b\"], [0.6666666666666666, \"#ed7953\"], [0.7777777777777778, \"#fb9f3a\"], [0.8888888888888888, \"#fdca26\"], [1.0, \"#f0f921\"]], \"type\": \"histogram2d\"}], \"histogram2dcontour\": [{\"colorbar\": {\"outlinewidth\": 0, \"ticks\": \"\"}, \"colorscale\": [[0.0, \"#0d0887\"], [0.1111111111111111, \"#46039f\"], [0.2222222222222222, \"#7201a8\"], [0.3333333333333333, \"#9c179e\"], [0.4444444444444444, \"#bd3786\"], [0.5555555555555556, \"#d8576b\"], [0.6666666666666666, \"#ed7953\"], [0.7777777777777778, \"#fb9f3a\"], [0.8888888888888888, \"#fdca26\"], [1.0, \"#f0f921\"]], \"type\": \"histogram2dcontour\"}], \"mesh3d\": [{\"colorbar\": {\"outlinewidth\": 0, \"ticks\": \"\"}, \"type\": \"mesh3d\"}], \"parcoords\": [{\"line\": {\"colorbar\": {\"outlinewidth\": 0, \"ticks\": \"\"}}, \"type\": \"parcoords\"}], \"pie\": [{\"automargin\": true, \"type\": \"pie\"}], \"scatter\": [{\"marker\": {\"colorbar\": {\"outlinewidth\": 0, \"ticks\": \"\"}}, \"type\": \"scatter\"}], \"scatter3d\": [{\"line\": {\"colorbar\": {\"outlinewidth\": 0, \"ticks\": \"\"}}, \"marker\": {\"colorbar\": {\"outlinewidth\": 0, \"ticks\": \"\"}}, \"type\": \"scatter3d\"}], \"scattercarpet\": [{\"marker\": {\"colorbar\": {\"outlinewidth\": 0, \"ticks\": \"\"}}, \"type\": \"scattercarpet\"}], \"scattergeo\": [{\"marker\": {\"colorbar\": {\"outlinewidth\": 0, \"ticks\": \"\"}}, \"type\": \"scattergeo\"}], \"scattergl\": [{\"marker\": {\"colorbar\": {\"outlinewidth\": 0, \"ticks\": \"\"}}, \"type\": \"scattergl\"}], \"scattermapbox\": [{\"marker\": {\"colorbar\": {\"outlinewidth\": 0, \"ticks\": \"\"}}, \"type\": \"scattermapbox\"}], \"scatterpolar\": [{\"marker\": {\"colorbar\": {\"outlinewidth\": 0, \"ticks\": \"\"}}, \"type\": \"scatterpolar\"}], \"scatterpolargl\": [{\"marker\": {\"colorbar\": {\"outlinewidth\": 0, \"ticks\": \"\"}}, \"type\": \"scatterpolargl\"}], \"scatterternary\": [{\"marker\": {\"colorbar\": {\"outlinewidth\": 0, \"ticks\": \"\"}}, \"type\": \"scatterternary\"}], \"surface\": [{\"colorbar\": {\"outlinewidth\": 0, \"ticks\": \"\"}, \"colorscale\": [[0.0, \"#0d0887\"], [0.1111111111111111, \"#46039f\"], [0.2222222222222222, \"#7201a8\"], [0.3333333333333333, \"#9c179e\"], [0.4444444444444444, \"#bd3786\"], [0.5555555555555556, \"#d8576b\"], [0.6666666666666666, \"#ed7953\"], [0.7777777777777778, \"#fb9f3a\"], [0.8888888888888888, \"#fdca26\"], [1.0, \"#f0f921\"]], \"type\": \"surface\"}], \"table\": [{\"cells\": {\"fill\": {\"color\": \"#EBF0F8\"}, \"line\": {\"color\": \"white\"}}, \"header\": {\"fill\": {\"color\": \"#C8D4E3\"}, \"line\": {\"color\": \"white\"}}, \"type\": \"table\"}]}, \"layout\": {\"annotationdefaults\": {\"arrowcolor\": \"#2a3f5f\", \"arrowhead\": 0, \"arrowwidth\": 1}, \"coloraxis\": {\"colorbar\": {\"outlinewidth\": 0, \"ticks\": \"\"}}, \"colorscale\": {\"diverging\": [[0, \"#8e0152\"], [0.1, \"#c51b7d\"], [0.2, \"#de77ae\"], [0.3, \"#f1b6da\"], [0.4, \"#fde0ef\"], [0.5, \"#f7f7f7\"], [0.6, \"#e6f5d0\"], [0.7, \"#b8e186\"], [0.8, \"#7fbc41\"], [0.9, \"#4d9221\"], [1, \"#276419\"]], \"sequential\": [[0.0, \"#0d0887\"], [0.1111111111111111, \"#46039f\"], [0.2222222222222222, \"#7201a8\"], [0.3333333333333333, \"#9c179e\"], [0.4444444444444444, \"#bd3786\"], [0.5555555555555556, \"#d8576b\"], [0.6666666666666666, \"#ed7953\"], [0.7777777777777778, \"#fb9f3a\"], [0.8888888888888888, \"#fdca26\"], [1.0, \"#f0f921\"]], \"sequentialminus\": [[0.0, \"#0d0887\"], [0.1111111111111111, \"#46039f\"], [0.2222222222222222, \"#7201a8\"], [0.3333333333333333, \"#9c179e\"], [0.4444444444444444, \"#bd3786\"], [0.5555555555555556, \"#d8576b\"], [0.6666666666666666, \"#ed7953\"], [0.7777777777777778, \"#fb9f3a\"], [0.8888888888888888, \"#fdca26\"], [1.0, \"#f0f921\"]]}, \"colorway\": [\"#636efa\", \"#EF553B\", \"#00cc96\", \"#ab63fa\", \"#FFA15A\", \"#19d3f3\", \"#FF6692\", \"#B6E880\", \"#FF97FF\", \"#FECB52\"], \"font\": {\"color\": \"#2a3f5f\"}, \"geo\": {\"bgcolor\": \"white\", \"lakecolor\": \"white\", \"landcolor\": \"#E5ECF6\", \"showlakes\": true, \"showland\": true, \"subunitcolor\": \"white\"}, \"hoverlabel\": {\"align\": \"left\"}, \"hovermode\": \"closest\", \"mapbox\": {\"style\": \"light\"}, \"paper_bgcolor\": \"white\", \"plot_bgcolor\": \"#E5ECF6\", \"polar\": {\"angularaxis\": {\"gridcolor\": \"white\", \"linecolor\": \"white\", \"ticks\": \"\"}, \"bgcolor\": \"#E5ECF6\", \"radialaxis\": {\"gridcolor\": \"white\", \"linecolor\": \"white\", \"ticks\": \"\"}}, \"scene\": {\"xaxis\": {\"backgroundcolor\": \"#E5ECF6\", \"gridcolor\": \"white\", \"gridwidth\": 2, \"linecolor\": \"white\", \"showbackground\": true, \"ticks\": \"\", \"zerolinecolor\": \"white\"}, \"yaxis\": {\"backgroundcolor\": \"#E5ECF6\", \"gridcolor\": \"white\", \"gridwidth\": 2, \"linecolor\": \"white\", \"showbackground\": true, \"ticks\": \"\", \"zerolinecolor\": \"white\"}, \"zaxis\": {\"backgroundcolor\": \"#E5ECF6\", \"gridcolor\": \"white\", \"gridwidth\": 2, \"linecolor\": \"white\", \"showbackground\": true, \"ticks\": \"\", \"zerolinecolor\": \"white\"}}, \"shapedefaults\": {\"line\": {\"color\": \"#2a3f5f\"}}, \"ternary\": {\"aaxis\": {\"gridcolor\": \"white\", \"linecolor\": \"white\", \"ticks\": \"\"}, \"baxis\": {\"gridcolor\": \"white\", \"linecolor\": \"white\", \"ticks\": \"\"}, \"bgcolor\": \"#E5ECF6\", \"caxis\": {\"gridcolor\": \"white\", \"linecolor\": \"white\", \"ticks\": \"\"}}, \"title\": {\"x\": 0.05}, \"xaxis\": {\"automargin\": true, \"gridcolor\": \"white\", \"linecolor\": \"white\", \"ticks\": \"\", \"title\": {\"standoff\": 15}, \"zerolinecolor\": \"white\", \"zerolinewidth\": 2}, \"yaxis\": {\"automargin\": true, \"gridcolor\": \"white\", \"linecolor\": \"white\", \"ticks\": \"\", \"title\": {\"standoff\": 15}, \"zerolinecolor\": \"white\", \"zerolinewidth\": 2}}}, \"title\": {\"text\": \"Plant Type vs Season\"}, \"xaxis\": {\"anchor\": \"y\", \"categoryorder\": \"total descending\", \"domain\": [0.0, 1.0], \"title\": {\"text\": \"Plant Type\"}}, \"yaxis\": {\"anchor\": \"x\", \"categoryarray\": [\"Winter\", \"Fall\", \"Summer\", \"Spring\"], \"categoryorder\": \"array\", \"domain\": [0.0, 1.0], \"title\": {\"text\": \"Season\"}}},                        {\"responsive\": true}                    ).then(function(){\n",
       "                            \n",
       "var gd = document.getElementById('8a8c4ffe-cabd-45cb-b5a9-3309257a7363');\n",
       "var x = new MutationObserver(function (mutations, observer) {{\n",
       "        var display = window.getComputedStyle(gd).display;\n",
       "        if (!display || display === 'none') {{\n",
       "            console.log([gd, 'removed!']);\n",
       "            Plotly.purge(gd);\n",
       "            observer.disconnect();\n",
       "        }}\n",
       "}});\n",
       "\n",
       "// Listen for the removal of the full notebook cells\n",
       "var notebookContainer = gd.closest('#notebook-container');\n",
       "if (notebookContainer) {{\n",
       "    x.observe(notebookContainer, {childList: true});\n",
       "}}\n",
       "\n",
       "// Listen for the clearing of the current output cell\n",
       "var outputEl = gd.closest('.output');\n",
       "if (outputEl) {{\n",
       "    x.observe(outputEl, {childList: true});\n",
       "}}\n",
       "\n",
       "                        })                };                });            </script>        </div>"
      ]
     },
     "metadata": {},
     "output_type": "display_data"
    }
   ],
   "source": [
    "fig = px.bar(data, x = 'Plant Type', y = 'Season', color= 'Season', title='Plant Type vs Season')\n",
    "fig.update_layout(barmode='stack', xaxis={'categoryorder':'total descending'})\n",
    "fig.show()"
   ]
  },
  {
   "cell_type": "code",
   "execution_count": null,
   "metadata": {},
   "outputs": [],
   "source": []
  }
 ],
 "metadata": {
  "kernelspec": {
   "display_name": "Python 3",
   "language": "python",
   "name": "python3"
  },
  "language_info": {
   "codemirror_mode": {
    "name": "ipython",
    "version": 3
   },
   "file_extension": ".py",
   "mimetype": "text/x-python",
   "name": "python",
   "nbconvert_exporter": "python",
   "pygments_lexer": "ipython3",
   "version": "3.7.6"
  }
 },
 "nbformat": 4,
 "nbformat_minor": 4
}
