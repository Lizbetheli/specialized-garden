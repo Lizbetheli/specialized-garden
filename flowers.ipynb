{
 "cells": [
  {
   "cell_type": "code",
   "execution_count": 25,
   "metadata": {},
   "outputs": [],
   "source": [
    "from splinter import Browser\n",
    "from bs4 import BeautifulSoup\n",
    "import pandas as pd\n"
   ]
  },
  {
   "cell_type": "code",
   "execution_count": 26,
   "metadata": {},
   "outputs": [],
   "source": [
    "executable_path = {'executable_path': 'chromedriver.exe'}\n",
    "browser = Browser('chrome', **executable_path, headless=False)"
   ]
  },
  {
   "cell_type": "code",
   "execution_count": 27,
   "metadata": {},
   "outputs": [],
   "source": [
    "url = 'https://www.proflowers.com/blog/types-of-flowers'\n",
    "browser.visit(url)"
   ]
  },
  {
   "cell_type": "code",
   "execution_count": 53,
   "metadata": {},
   "outputs": [
    {
     "name": "stdout",
     "output_type": "stream",
     "text": [
      "\n",
      "\n",
      "Aconite\n",
      "\n",
      "<img class=\"img-circle aligncenter lazyloaded\" data-src=\"https://www.proflowers.com/blog/wp-content/plugins/pf-flowertypes/image/winter-aconite-720790.jpg\" src=\"https://www.proflowers.com/blog/wp-content/plugins/pf-flowertypes/image/winter-aconite-720790.jpg\"/>\n",
      "\n",
      "\n",
      "Sun Needs\n",
      "Partial Shade\n",
      "\n",
      "\n",
      "Soil Needs\n",
      "Well-drained\n",
      "\n",
      "\n",
      "Zones\n",
      "4 - 9\n",
      "\n",
      "\n",
      "Height\n",
      "0.25 - 0.5 feet\n",
      "\n",
      "\n",
      "Blooms in\n",
      "Early Spring\n",
      "\n",
      "\n",
      "Features\n",
      "Deer resistant\n",
      "\n",
      "\n",
      "------\n"
     ]
    }
   ],
   "source": [
    "html = browser.html\n",
    "soup = BeautifulSoup(html, 'html.parser')\n",
    "\n",
    "pic_flower=soup.find('img', class_='img-circle aligncenter lazyloaded')\n",
    "name_flower=soup.find('div', class_='col-sm-2').text\n",
    "flower_details=soup.find('div', class_='row flower_details').text\n",
    "print(name_flower)\n",
    "print(pic_flower)\n",
    "print(flower_details)\n",
    "print('------')"
   ]
  },
  {
   "cell_type": "code",
   "execution_count": 28,
   "metadata": {},
   "outputs": [
    {
     "ename": "AttributeError",
     "evalue": "'NoneType' object has no attribute 'find'",
     "output_type": "error",
     "traceback": [
      "\u001b[1;31m---------------------------------------------------------------------------\u001b[0m",
      "\u001b[1;31mAttributeError\u001b[0m                            Traceback (most recent call last)",
      "\u001b[1;32m<ipython-input-28-66763b5bee7d>\u001b[0m in \u001b[0;36m<module>\u001b[1;34m\u001b[0m\n\u001b[0;32m      3\u001b[0m \u001b[1;33m\u001b[0m\u001b[0m\n\u001b[0;32m      4\u001b[0m \u001b[0mflower\u001b[0m \u001b[1;33m=\u001b[0m \u001b[0msoup\u001b[0m\u001b[1;33m.\u001b[0m\u001b[0mfind\u001b[0m\u001b[1;33m(\u001b[0m\u001b[1;34m'div'\u001b[0m\u001b[1;33m,\u001b[0m \u001b[0mclass_\u001b[0m\u001b[1;33m=\u001b[0m\u001b[1;34m'types_of_flowers'\u001b[0m\u001b[1;33m)\u001b[0m\u001b[1;33m\u001b[0m\u001b[1;33m\u001b[0m\u001b[0m\n\u001b[1;32m----> 5\u001b[1;33m \u001b[0mflower_name\u001b[0m \u001b[1;33m=\u001b[0m \u001b[0mflower\u001b[0m\u001b[1;33m.\u001b[0m\u001b[0mfind\u001b[0m\u001b[1;33m(\u001b[0m\u001b[1;34m'div'\u001b[0m\u001b[1;33m,\u001b[0m \u001b[0mclass_\u001b[0m\u001b[1;33m=\u001b[0m\u001b[1;34m'flower_name'\u001b[0m\u001b[1;33m)\u001b[0m\u001b[1;33m.\u001b[0m\u001b[0mtext\u001b[0m\u001b[1;33m\u001b[0m\u001b[1;33m\u001b[0m\u001b[0m\n\u001b[0m\u001b[0;32m      6\u001b[0m \u001b[1;31m# flower_zone = flower.find('div', class_='details_info').text\u001b[0m\u001b[1;33m\u001b[0m\u001b[1;33m\u001b[0m\u001b[1;33m\u001b[0m\u001b[0m\n\u001b[0;32m      7\u001b[0m \u001b[1;31m# flower_season = flower.find('div', class_='article_teaser_body').text\u001b[0m\u001b[1;33m\u001b[0m\u001b[1;33m\u001b[0m\u001b[1;33m\u001b[0m\u001b[0m\n",
      "\u001b[1;31mAttributeError\u001b[0m: 'NoneType' object has no attribute 'find'"
     ]
    }
   ],
   "source": [
    "html = browser.html\n",
    "soup = BeautifulSoup(html, 'html.parser')\n",
    "    \n",
    "flower = soup.find('div', class_='types_of_flowers')   \n",
    "flower_name = flower.find('div', class_='flower_name').text\n",
    "# flower_zone = flower.find('div', class_='details_info').text\n",
    "# flower_season = flower.find('div', class_='article_teaser_body').text\n",
    "\n",
    "print('-----------')\n",
    "print(flower_name)\n",
    "# print(flower_zone)"
   ]
  },
  {
   "cell_type": "code",
   "execution_count": null,
   "metadata": {
    "scrolled": true
   },
   "outputs": [],
   "source": [
    "# table = pd.read_html(url)[3]\n",
    "# table.columns=['Country or other education system','Total instructional hours per year','2','[Standard errors appear in parentheses]', 'Average Math score','Mathematics','Science','Instructional time in mathematics', 'Hours per year','Instructional time in science','As a percent of total instructional hours','Hours per year','Average Science score','As a percent of total instructional hours','1','3','4','5','6','7']\n",
    "# table.set_index('Country or other education system', inplace=True)\n",
    "# table.head()"
   ]
  },
  {
   "cell_type": "code",
   "execution_count": null,
   "metadata": {},
   "outputs": [],
   "source": [
    "new_table=table.drop(columns=[\"2\", \"Instructional time in mathematics\",'Total instructional hours per year','[Standard errors appear in parentheses]', 'Mathematics','Science','Hours per year','Instructional time in science','As a percent of total instructional hours','Hours per year','As a percent of total instructional hours','1','3','4','5','6','7'])\n",
    "new_table"
   ]
  },
  {
   "cell_type": "code",
   "execution_count": null,
   "metadata": {},
   "outputs": [],
   "source": [
    "csv_data=new_table.to_csv\n",
    "csv_data('csv_data.csv')"
   ]
  },
  {
   "cell_type": "code",
   "execution_count": null,
   "metadata": {},
   "outputs": [],
   "source": [
    "scores_df=pd.read_csv('Resources/int_data.csv')\n",
    "scores_df.head()"
   ]
  },
  {
   "cell_type": "code",
   "execution_count": null,
   "metadata": {
    "scrolled": true
   },
   "outputs": [],
   "source": [
    "# Create a list indicating where to write x labels and set figure size to adjust for space\n",
    "# Set x axis and tick locations\n",
    "x_axis = np.arange(len(scores_df))\n",
    "tick_locations = [value+0.4 for value in x_axis]\n",
    "a=plt.figure(figsize=(13,7))\n",
    "plt.bar(x_axis, scores_df[\"Average Math score\"], color='r', alpha=0.5, align=\"edge\")\n",
    "plt.xticks(tick_locations, scores_df[\"Country or other education system\"], rotation=\"90\")\n",
    "plt.ylim([300,625])\n",
    "plt.title(\"Average International Math Scores\")\n",
    "plt.ylabel(\"Average Math Score\")\n",
    "plt.xlabel(\"Country or other education system\")\n",
    "plt.axhline(y=500)\n",
    "plt.savefig(\"Math_int_scores.png\")\n",
    "plt.tight_layout()\n",
    "plt.show()\n"
   ]
  },
  {
   "cell_type": "code",
   "execution_count": null,
   "metadata": {},
   "outputs": [],
   "source": [
    "x_axis = np.arange(len(scores_df))\n",
    "tick_locations = [value+0.4 for value in x_axis]\n",
    "# Create a list indicating where to write x labels and set figure size to adjust for space\n",
    "a=plt.figure(figsize=(13,7))\n",
    "plt.bar(x_axis, scores_df[\"Average Science score\"], color='g', alpha=0.5, align=\"edge\")\n",
    "plt.xticks(tick_locations, scores_df[\"Country or other education system\"], rotation=\"vertical\")\n",
    "plt.title(\"Average International Science Scores\")\n",
    "plt.tight_layout()\n",
    "plt.ylim([300,625])\n",
    "plt.axhline(y=500)\n",
    "plt.ylabel(\"Average Science Score\")\n",
    "plt.xlabel(\"Country or other education system\")\n",
    "plt.savefig(\"Science_int_scores.png\")\n",
    "plt.show()"
   ]
  },
  {
   "cell_type": "code",
   "execution_count": null,
   "metadata": {},
   "outputs": [],
   "source": []
  }
 ],
 "metadata": {
  "kernelspec": {
   "display_name": "Python 3",
   "language": "python",
   "name": "python3"
  },
  "language_info": {
   "codemirror_mode": {
    "name": "ipython",
    "version": 3
   },
   "file_extension": ".py",
   "mimetype": "text/x-python",
   "name": "python",
   "nbconvert_exporter": "python",
   "pygments_lexer": "ipython3",
   "version": "3.7.6"
  }
 },
 "nbformat": 4,
 "nbformat_minor": 4
}
