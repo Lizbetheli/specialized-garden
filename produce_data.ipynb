{
 "cells": [
  {
   "cell_type": "code",
   "execution_count": 1,
   "metadata": {},
   "outputs": [],
   "source": [
    "import os\n",
    "from bs4 import BeautifulSoup as bs\n",
    "from splinter import Browser\n",
    "import requests\n",
    "import pandas as pd"
   ]
  },
  {
   "cell_type": "code",
   "execution_count": 2,
   "metadata": {},
   "outputs": [],
   "source": [
    "executable_path = {'executable_path': 'chromedriver'}\n",
    "browser = Browser('chrome', **executable_path, headless=False)"
   ]
  },
  {
   "cell_type": "code",
   "execution_count": 3,
   "metadata": {},
   "outputs": [],
   "source": [
    "url = 'https://www.insider.com/foods-your-state-grows-2019-2'\n",
    "browser.visit(url)"
   ]
  },
  {
   "cell_type": "code",
   "execution_count": 4,
   "metadata": {},
   "outputs": [],
   "source": [
    "html = browser.html\n",
    "soup = bs(html, 'html.parser')\n"
   ]
  },
  {
   "cell_type": "code",
   "execution_count": 5,
   "metadata": {},
   "outputs": [
    {
     "name": "stdout",
     "output_type": "stream",
     "text": [
      "<div class=\"slide first-slide\" data-e2e-name=\"slide-1\" data-slide=\"\" data-slide-anchor=\"#alabama-peanuts-1\" data-slide-number=\"1\" data-slide-title=\"ALABAMA: Peanuts\" id=\"alabama-peanuts-1\">\n",
      "<div class=\"slide-layout clearfix\">\n",
      "<div class=\"slide-title clearfix\" data-e2e-name=\"slide-title\">\n",
      "<h2 class=\"slide-title-text\">ALABAMA: Peanuts</h2>\n",
      "</div>\n",
      "<figure class=\"figure image-figure-image\" data-e2e-name=\"image-figure-image\" data-media-container=\"image\" data-type=\"img\">\n",
      "<div class=\"lazy-holder\" style=\"padding-top: calc(100% * 1175 / 1567)\">\n",
      "<img alt=\"peanuts\" class=\"lazy-image js-queued\" data-content-type=\"image/png\" data-srcs='{\"https://i.insider.com/5c5b5e99eb3ce84c0f72abc3\":{\"contentType\":\"image/png\",\"aspectRatioW\":1567,\"aspectRatioH\":1175}}' pinger-seen=\"true\" src=\"data:image/svg+xml,%3Csvg xmlns='http://www.w3.org/2000/svg' viewBox='0 0 1 1'%3E%3C/svg%3E\"/>\n",
      "<noscript>\n",
      "                                            &lt;img src=\"https://i.insider.com/5c5b5e99eb3ce84c0f72abc3?width=600&amp;format=jpeg&amp;auto=webp\" /&gt;\n",
      "                                          </noscript>\n",
      "</div>\n",
      "<span class=\"image-source-caption\">\n",
      "<figcaption class=\"image-caption headline-bold\" data-e2e-name=\"image-caption\">\n",
      "                                              Peanuts.\n",
      "                                            </figcaption>\n",
      "<span class=\"image-source headline-regular\" data-e2e-name=\"image-source\">\n",
      "<a class=\"image-source-link\" data-analytics-post-depth=\"20\" href=\"https://www.flickr.com/photos/manoftaste-de/9233039800/ and https://www.manoftaste.de/\">\n",
      "                                                Christian Schnettelker/Flickr\n",
      "                                                  </a>\n",
      "</span>\n",
      "</span>\n",
      "</figure>\n",
      "<p>Alabama <a data-analytics-module=\"body_link\" data-analytics-post-depth=\"20\" href=\"http://www.encyclopediaofalabama.org/article/h-2016\">ranks third in the United States for peanut production</a>, and over 200,000 acres of farmland are allocated to growing peanuts in the southern part of the state.</p>\n",
      "</div>\n",
      "</div>\n"
     ]
    }
   ],
   "source": [
    "produce = soup.find('div', class_ = 'slide')\n",
    "print(produce)"
   ]
  },
  {
   "cell_type": "code",
   "execution_count": 6,
   "metadata": {},
   "outputs": [
    {
     "name": "stdout",
     "output_type": "stream",
     "text": [
      "ALABAMA: Peanuts\n",
      "{\"https://i.insider.com/5c5b5e99eb3ce84c0f72abc3\":{\"contentType\":\"image/png\",\"aspectRatioW\":1567,\"aspectRatioH\":1175}}\n",
      "('ALABAMA: Peanuts', '{\"https://i.insider.com/5c5b5e99eb3ce84c0f72abc3\":{\"contentType\":\"image/png\",\"aspectRatioW\":1567,\"aspectRatioH\":1175}}')\n"
     ]
    }
   ],
   "source": [
    "produce_text = soup.find('h2', class_ = 'slide-title-text').text\n",
    "produce_image = soup.find('img', class_ ='lazy-image js-queued').attrs['data-srcs']\n",
    "\n",
    "print(produce_text)\n",
    "print(produce_image)\n",
    "\n",
    "produce_state = produce_text, produce_image\n",
    "print(produce_state)"
   ]
  },
  {
   "cell_type": "code",
   "execution_count": 11,
   "metadata": {},
   "outputs": [
    {
     "name": "stdout",
     "output_type": "stream",
     "text": [
      "('ALABAMA: Peanuts', '{\"https://i.insider.com/5c5b5e99eb3ce84c0f72abc3\":{\"contentType\":\"image/png\",\"aspectRatioW\":1567,\"aspectRatioH\":1175}}')\n"
     ]
    }
   ],
   "source": [
    "produce_state = []\n",
    "\n",
    "# for each_p in produce_state:\n",
    "produce_text = soup.find('h2', class_ = 'slide-title-text').text\n",
    "produce_image = soup.find('img', class_ ='lazy-image js-queued').attrs['data-srcs']\n",
    "produce_state = produce_text, produce_image\n",
    "    \n",
    "#     produce_state.append\n",
    "\n",
    "print(produce_state)\n",
    "\n"
   ]
  },
  {
   "cell_type": "code",
   "execution_count": 17,
   "metadata": {},
   "outputs": [
    {
     "name": "stdout",
     "output_type": "stream",
     "text": [
      "[]\n"
     ]
    }
   ],
   "source": [
    "produce_text = []\n",
    "\n",
    "for each_p in produce_text:\n",
    "    produce_text = soup.find('h2', class_ = 'slide-title-text').text\n",
    "    \n",
    "    produce_text.append()\n",
    "\n",
    "print(produce_text)"
   ]
  },
  {
   "cell_type": "code",
   "execution_count": null,
   "metadata": {},
   "outputs": [],
   "source": []
  }
 ],
 "metadata": {
  "kernelspec": {
   "display_name": "Python 3",
   "language": "python",
   "name": "python3"
  },
  "language_info": {
   "codemirror_mode": {
    "name": "ipython",
    "version": 3
   },
   "file_extension": ".py",
   "mimetype": "text/x-python",
   "name": "python",
   "nbconvert_exporter": "python",
   "pygments_lexer": "ipython3",
   "version": "3.7.6"
  }
 },
 "nbformat": 4,
 "nbformat_minor": 4
}
