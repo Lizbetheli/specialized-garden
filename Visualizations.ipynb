{
 "cells": [
  {
   "cell_type": "code",
   "execution_count": 3,
   "metadata": {},
   "outputs": [],
   "source": [
    "import pandas as pd\n",
    "import numpy as np\n",
    "import plotly.graph_objs as go\n",
    "from plotly.offline import download_plotlyjs, init_notebook_mode, plot, iplot\n",
    "import plotly.express as px"
   ]
  },
  {
   "cell_type": "code",
   "execution_count": 5,
   "metadata": {},
   "outputs": [
    {
     "data": {
      "text/html": [
       "<div>\n",
       "<style scoped>\n",
       "    .dataframe tbody tr th:only-of-type {\n",
       "        vertical-align: middle;\n",
       "    }\n",
       "\n",
       "    .dataframe tbody tr th {\n",
       "        vertical-align: top;\n",
       "    }\n",
       "\n",
       "    .dataframe thead th {\n",
       "        text-align: right;\n",
       "    }\n",
       "</style>\n",
       "<table border=\"1\" class=\"dataframe\">\n",
       "  <thead>\n",
       "    <tr style=\"text-align: right;\">\n",
       "      <th></th>\n",
       "      <th>Unnamed: 0</th>\n",
       "      <th>Plant Name</th>\n",
       "      <th>Season</th>\n",
       "      <th>Plant Type</th>\n",
       "      <th>State</th>\n",
       "      <th>Picture Link</th>\n",
       "      <th>Blooms</th>\n",
       "      <th>Zones</th>\n",
       "      <th>Sun Needs</th>\n",
       "      <th>Soil Needs</th>\n",
       "      <th>...</th>\n",
       "      <th>Wyoming</th>\n",
       "      <th>NewHampshire</th>\n",
       "      <th>NewJersey</th>\n",
       "      <th>NewMexico</th>\n",
       "      <th>NewYork</th>\n",
       "      <th>NorthCarolina</th>\n",
       "      <th>NorthDakota</th>\n",
       "      <th>RhodeIsland</th>\n",
       "      <th>SouthCarolina</th>\n",
       "      <th>WestVirginia</th>\n",
       "    </tr>\n",
       "  </thead>\n",
       "  <tbody>\n",
       "    <tr>\n",
       "      <th>0</th>\n",
       "      <td>0</td>\n",
       "      <td>Aconite</td>\n",
       "      <td>Spring</td>\n",
       "      <td>Flower</td>\n",
       "      <td>NaN</td>\n",
       "      <td>https://www.proflowers.com/blog/wp-content/plu...</td>\n",
       "      <td>Early Spring</td>\n",
       "      <td>4 --9</td>\n",
       "      <td>Partial Shade</td>\n",
       "      <td>Well-drained</td>\n",
       "      <td>...</td>\n",
       "      <td>1</td>\n",
       "      <td>1.0</td>\n",
       "      <td>1.0</td>\n",
       "      <td>1.0</td>\n",
       "      <td>1.0</td>\n",
       "      <td>1.0</td>\n",
       "      <td>1.0</td>\n",
       "      <td>1.0</td>\n",
       "      <td>1.0</td>\n",
       "      <td>1.0</td>\n",
       "    </tr>\n",
       "    <tr>\n",
       "      <th>1</th>\n",
       "      <td>1</td>\n",
       "      <td>Ageratum</td>\n",
       "      <td>Summer</td>\n",
       "      <td>Flower</td>\n",
       "      <td>NaN</td>\n",
       "      <td>https://www.proflowers.com/blog/wp-content/plu...</td>\n",
       "      <td>Mid Summer</td>\n",
       "      <td>5 --9</td>\n",
       "      <td>Full Sun / Partial Shade</td>\n",
       "      <td>Well-drained</td>\n",
       "      <td>...</td>\n",
       "      <td>1</td>\n",
       "      <td>1.0</td>\n",
       "      <td>1.0</td>\n",
       "      <td>1.0</td>\n",
       "      <td>1.0</td>\n",
       "      <td>1.0</td>\n",
       "      <td>1.0</td>\n",
       "      <td>1.0</td>\n",
       "      <td>1.0</td>\n",
       "      <td>1.0</td>\n",
       "    </tr>\n",
       "    <tr>\n",
       "      <th>2</th>\n",
       "      <td>2</td>\n",
       "      <td>Allium</td>\n",
       "      <td>Spring</td>\n",
       "      <td>Flower</td>\n",
       "      <td>NaN</td>\n",
       "      <td>https://www.proflowers.com/blog/wp-content/plu...</td>\n",
       "      <td>Late Spring</td>\n",
       "      <td>3 --10</td>\n",
       "      <td>Full Sun</td>\n",
       "      <td>Well-drained</td>\n",
       "      <td>...</td>\n",
       "      <td>1</td>\n",
       "      <td>1.0</td>\n",
       "      <td>1.0</td>\n",
       "      <td>1.0</td>\n",
       "      <td>1.0</td>\n",
       "      <td>1.0</td>\n",
       "      <td>1.0</td>\n",
       "      <td>1.0</td>\n",
       "      <td>1.0</td>\n",
       "      <td>1.0</td>\n",
       "    </tr>\n",
       "    <tr>\n",
       "      <th>3</th>\n",
       "      <td>3</td>\n",
       "      <td>Anemone</td>\n",
       "      <td>Spring</td>\n",
       "      <td>Flower</td>\n",
       "      <td>NaN</td>\n",
       "      <td>https://www.proflowers.com/blog/wp-content/plu...</td>\n",
       "      <td>Mid Spring</td>\n",
       "      <td>3 --9</td>\n",
       "      <td>Full Sun / Partial Shade</td>\n",
       "      <td>Well-drained, High fertility</td>\n",
       "      <td>...</td>\n",
       "      <td>1</td>\n",
       "      <td>1.0</td>\n",
       "      <td>1.0</td>\n",
       "      <td>1.0</td>\n",
       "      <td>1.0</td>\n",
       "      <td>1.0</td>\n",
       "      <td>1.0</td>\n",
       "      <td>1.0</td>\n",
       "      <td>1.0</td>\n",
       "      <td>1.0</td>\n",
       "    </tr>\n",
       "    <tr>\n",
       "      <th>4</th>\n",
       "      <td>4</td>\n",
       "      <td>Angelica</td>\n",
       "      <td>Summer</td>\n",
       "      <td>Flower</td>\n",
       "      <td>NaN</td>\n",
       "      <td>https://www.proflowers.com/blog/wp-content/plu...</td>\n",
       "      <td>Entire Summer</td>\n",
       "      <td>4 --9</td>\n",
       "      <td>Partial Shade / Full Shade</td>\n",
       "      <td>Well-drained, High fertility</td>\n",
       "      <td>...</td>\n",
       "      <td>1</td>\n",
       "      <td>1.0</td>\n",
       "      <td>1.0</td>\n",
       "      <td>1.0</td>\n",
       "      <td>1.0</td>\n",
       "      <td>1.0</td>\n",
       "      <td>1.0</td>\n",
       "      <td>1.0</td>\n",
       "      <td>1.0</td>\n",
       "      <td>1.0</td>\n",
       "    </tr>\n",
       "    <tr>\n",
       "      <th>5</th>\n",
       "      <td>5</td>\n",
       "      <td>Angelonia</td>\n",
       "      <td>Summer</td>\n",
       "      <td>Flower</td>\n",
       "      <td>NaN</td>\n",
       "      <td>https://www.proflowers.com/blog/wp-content/plu...</td>\n",
       "      <td>Mid Summer</td>\n",
       "      <td>9 --11</td>\n",
       "      <td>Full Sun</td>\n",
       "      <td>Damp</td>\n",
       "      <td>...</td>\n",
       "      <td>0</td>\n",
       "      <td>NaN</td>\n",
       "      <td>NaN</td>\n",
       "      <td>1.0</td>\n",
       "      <td>NaN</td>\n",
       "      <td>NaN</td>\n",
       "      <td>NaN</td>\n",
       "      <td>NaN</td>\n",
       "      <td>1.0</td>\n",
       "      <td>NaN</td>\n",
       "    </tr>\n",
       "    <tr>\n",
       "      <th>6</th>\n",
       "      <td>6</td>\n",
       "      <td>Artemisia</td>\n",
       "      <td>Summer</td>\n",
       "      <td>Flower</td>\n",
       "      <td>NaN</td>\n",
       "      <td>https://www.proflowers.com/blog/wp-content/plu...</td>\n",
       "      <td>Late Summer</td>\n",
       "      <td>6 --8</td>\n",
       "      <td>Full Sun</td>\n",
       "      <td>Well-drained</td>\n",
       "      <td>...</td>\n",
       "      <td>0</td>\n",
       "      <td>1.0</td>\n",
       "      <td>1.0</td>\n",
       "      <td>1.0</td>\n",
       "      <td>1.0</td>\n",
       "      <td>1.0</td>\n",
       "      <td>NaN</td>\n",
       "      <td>1.0</td>\n",
       "      <td>1.0</td>\n",
       "      <td>1.0</td>\n",
       "    </tr>\n",
       "    <tr>\n",
       "      <th>7</th>\n",
       "      <td>7</td>\n",
       "      <td>Aster</td>\n",
       "      <td>Spring</td>\n",
       "      <td>Flower</td>\n",
       "      <td>NaN</td>\n",
       "      <td>https://www.proflowers.com/blog/wp-content/plu...</td>\n",
       "      <td>Late Spring</td>\n",
       "      <td>4 --8</td>\n",
       "      <td>Full Sun / Partial Shade</td>\n",
       "      <td>Well-drained</td>\n",
       "      <td>...</td>\n",
       "      <td>1</td>\n",
       "      <td>1.0</td>\n",
       "      <td>1.0</td>\n",
       "      <td>1.0</td>\n",
       "      <td>1.0</td>\n",
       "      <td>1.0</td>\n",
       "      <td>1.0</td>\n",
       "      <td>1.0</td>\n",
       "      <td>1.0</td>\n",
       "      <td>1.0</td>\n",
       "    </tr>\n",
       "    <tr>\n",
       "      <th>8</th>\n",
       "      <td>8</td>\n",
       "      <td>Astilbe</td>\n",
       "      <td>Spring</td>\n",
       "      <td>Flower</td>\n",
       "      <td>NaN</td>\n",
       "      <td>https://www.proflowers.com/blog/wp-content/plu...</td>\n",
       "      <td>Late Spring</td>\n",
       "      <td>4 --9</td>\n",
       "      <td>Full Sun / Partial Shade</td>\n",
       "      <td>Well-drained, High fertility</td>\n",
       "      <td>...</td>\n",
       "      <td>1</td>\n",
       "      <td>1.0</td>\n",
       "      <td>1.0</td>\n",
       "      <td>1.0</td>\n",
       "      <td>1.0</td>\n",
       "      <td>1.0</td>\n",
       "      <td>1.0</td>\n",
       "      <td>1.0</td>\n",
       "      <td>1.0</td>\n",
       "      <td>1.0</td>\n",
       "    </tr>\n",
       "    <tr>\n",
       "      <th>9</th>\n",
       "      <td>9</td>\n",
       "      <td>Aubrieta</td>\n",
       "      <td>Spring</td>\n",
       "      <td>Flower</td>\n",
       "      <td>NaN</td>\n",
       "      <td>https://www.proflowers.com/blog/wp-content/plu...</td>\n",
       "      <td>Mid Spring</td>\n",
       "      <td>4 --9</td>\n",
       "      <td>Full Sun</td>\n",
       "      <td>Well-drained, High fertility</td>\n",
       "      <td>...</td>\n",
       "      <td>1</td>\n",
       "      <td>1.0</td>\n",
       "      <td>1.0</td>\n",
       "      <td>1.0</td>\n",
       "      <td>1.0</td>\n",
       "      <td>1.0</td>\n",
       "      <td>1.0</td>\n",
       "      <td>1.0</td>\n",
       "      <td>1.0</td>\n",
       "      <td>1.0</td>\n",
       "    </tr>\n",
       "  </tbody>\n",
       "</table>\n",
       "<p>10 rows × 70 columns</p>\n",
       "</div>"
      ],
      "text/plain": [
       "   Unnamed: 0 Plant Name  Season Plant Type State  \\\n",
       "0           0    Aconite  Spring     Flower   NaN   \n",
       "1           1   Ageratum  Summer     Flower   NaN   \n",
       "2           2     Allium  Spring     Flower   NaN   \n",
       "3           3    Anemone  Spring     Flower   NaN   \n",
       "4           4   Angelica  Summer     Flower   NaN   \n",
       "5           5  Angelonia  Summer     Flower   NaN   \n",
       "6           6  Artemisia  Summer     Flower   NaN   \n",
       "7           7      Aster  Spring     Flower   NaN   \n",
       "8           8    Astilbe  Spring     Flower   NaN   \n",
       "9           9   Aubrieta  Spring     Flower   NaN   \n",
       "\n",
       "                                        Picture Link         Blooms   Zones  \\\n",
       "0  https://www.proflowers.com/blog/wp-content/plu...   Early Spring   4 --9   \n",
       "1  https://www.proflowers.com/blog/wp-content/plu...     Mid Summer   5 --9   \n",
       "2  https://www.proflowers.com/blog/wp-content/plu...   Late Spring   3 --10   \n",
       "3  https://www.proflowers.com/blog/wp-content/plu...    Mid Spring    3 --9   \n",
       "4  https://www.proflowers.com/blog/wp-content/plu...  Entire Summer   4 --9   \n",
       "5  https://www.proflowers.com/blog/wp-content/plu...     Mid Summer  9 --11   \n",
       "6  https://www.proflowers.com/blog/wp-content/plu...    Late Summer   6 --8   \n",
       "7  https://www.proflowers.com/blog/wp-content/plu...   Late Spring    4 --8   \n",
       "8  https://www.proflowers.com/blog/wp-content/plu...   Late Spring    4 --9   \n",
       "9  https://www.proflowers.com/blog/wp-content/plu...    Mid Spring    4 --9   \n",
       "\n",
       "                    Sun Needs                    Soil Needs  ... Wyoming  \\\n",
       "0               Partial Shade                  Well-drained  ...       1   \n",
       "1    Full Sun / Partial Shade                  Well-drained  ...       1   \n",
       "2                    Full Sun                  Well-drained  ...       1   \n",
       "3    Full Sun / Partial Shade  Well-drained, High fertility  ...       1   \n",
       "4  Partial Shade / Full Shade  Well-drained, High fertility  ...       1   \n",
       "5                    Full Sun                          Damp  ...       0   \n",
       "6                    Full Sun                  Well-drained  ...       0   \n",
       "7    Full Sun / Partial Shade                  Well-drained  ...       1   \n",
       "8    Full Sun / Partial Shade  Well-drained, High fertility  ...       1   \n",
       "9                    Full Sun  Well-drained, High fertility  ...       1   \n",
       "\n",
       "   NewHampshire  NewJersey  NewMexico  NewYork  NorthCarolina  NorthDakota  \\\n",
       "0           1.0        1.0        1.0      1.0            1.0          1.0   \n",
       "1           1.0        1.0        1.0      1.0            1.0          1.0   \n",
       "2           1.0        1.0        1.0      1.0            1.0          1.0   \n",
       "3           1.0        1.0        1.0      1.0            1.0          1.0   \n",
       "4           1.0        1.0        1.0      1.0            1.0          1.0   \n",
       "5           NaN        NaN        1.0      NaN            NaN          NaN   \n",
       "6           1.0        1.0        1.0      1.0            1.0          NaN   \n",
       "7           1.0        1.0        1.0      1.0            1.0          1.0   \n",
       "8           1.0        1.0        1.0      1.0            1.0          1.0   \n",
       "9           1.0        1.0        1.0      1.0            1.0          1.0   \n",
       "\n",
       "   RhodeIsland  SouthCarolina  WestVirginia  \n",
       "0          1.0            1.0           1.0  \n",
       "1          1.0            1.0           1.0  \n",
       "2          1.0            1.0           1.0  \n",
       "3          1.0            1.0           1.0  \n",
       "4          1.0            1.0           1.0  \n",
       "5          NaN            1.0           NaN  \n",
       "6          1.0            1.0           1.0  \n",
       "7          1.0            1.0           1.0  \n",
       "8          1.0            1.0           1.0  \n",
       "9          1.0            1.0           1.0  \n",
       "\n",
       "[10 rows x 70 columns]"
      ]
     },
     "execution_count": 5,
     "metadata": {},
     "output_type": "execute_result"
    }
   ],
   "source": [
    "# File to Load, read, store\n",
    "data_to_load = \"Resources/machine_learning.csv\"\n",
    "plant_data = pd.read_csv(data_to_load)\n",
    "plant_data.head(10)"
   ]
  },
  {
   "cell_type": "code",
   "execution_count": 9,
   "metadata": {},
   "outputs": [
    {
     "data": {
      "application/vnd.plotly.v1+json": {
       "config": {
        "plotlyServerURL": "https://plot.ly"
       },
       "data": [
        {
         "domain": {
          "x": [
           0,
           1
          ],
          "y": [
           0,
           1
          ]
         },
         "hovertemplate": "Season=%{label}<br>Plant Type=%{value}<extra></extra>",
         "labels": [
          "Spring",
          "Summer",
          "Spring",
          "Spring",
          "Summer",
          "Summer",
          "Summer",
          "Spring",
          "Spring",
          "Spring",
          "Spring",
          "Summer",
          "Summer",
          "Spring",
          "Spring",
          "Summer",
          "Spring",
          "Summer",
          "Spring",
          "Summer",
          "Spring",
          "Spring",
          "Summer",
          "Summer",
          "Spring",
          "Summer",
          "Spring",
          "Summer",
          "Spring",
          "Spring",
          "Summer",
          "Spring",
          "Summer",
          "Spring",
          "Summer",
          "Summer",
          "Summer",
          "Spring",
          "Summer",
          "Spring",
          "Summer",
          "Summer",
          "Spring",
          "Spring",
          "Summer",
          "Summer",
          "Summer",
          "Summer",
          "Spring",
          "Spring",
          "Spring",
          "Spring",
          "Spring",
          "Summer",
          "Summer",
          "Spring",
          "Summer",
          "Summer",
          "Summer",
          "Spring",
          "Spring",
          "Spring",
          "Spring",
          "Summer",
          "Spring",
          "Spring",
          "Summer",
          "Spring",
          "Summer",
          "Summer",
          "Summer",
          "Spring",
          "Summer",
          "Spring",
          "Summer",
          "Summer",
          "Summer",
          "Summer",
          "Spring",
          "Summer",
          "Summer",
          "Summer",
          "Summer",
          "Summer",
          "Spring",
          "Spring",
          "Spring",
          "Summer",
          "Summer",
          "Summer",
          "Summer",
          "Summer",
          "Summer",
          "Spring",
          "Summer",
          "Summer",
          "Spring",
          "Summer",
          "Summer",
          "Spring",
          "Summer",
          "Summer",
          "Summer",
          "Summer",
          "Summer",
          "Spring",
          "Summer",
          "Spring",
          "Summer",
          "Summer",
          "Spring",
          "Summer",
          "Summer",
          "Summer",
          "Spring",
          "Spring",
          "Summer",
          "Spring",
          "Spring",
          "Summer",
          "Summer",
          "Summer",
          "Summer",
          "Spring",
          "Spring",
          "Spring",
          "Summer",
          "Spring",
          "Summer",
          "Spring",
          "Spring",
          "Spring",
          "Summer",
          "Summer",
          "Spring",
          "Spring",
          "Summer",
          "Summer",
          "Summer",
          "Summer",
          "Spring",
          "Spring",
          "Summer",
          "Spring",
          "Spring",
          "Summer",
          "Spring",
          "Summer",
          "Spring",
          "Summer",
          "Summer",
          "Fall",
          "Fall",
          "Fall",
          "Fall",
          "Fall",
          "Fall",
          "Fall",
          "Fall",
          "Fall",
          "Fall",
          "Fall",
          "Fall",
          "Fall",
          "Fall",
          "Fall",
          "Fall",
          "Fall",
          "Fall",
          "Fall",
          "Fall",
          "Fall",
          "Fall",
          "Fall",
          "Fall",
          "Winter",
          "Winter",
          "Winter",
          "Winter",
          "Spring",
          "Spring",
          "Spring",
          "Spring",
          "Spring",
          "Spring",
          "Spring",
          "Summer",
          "Summer",
          "Summer",
          "Summer",
          "Summer",
          "Summer",
          "Summer",
          "Summer",
          "Summer",
          "Summer",
          "Summer",
          "Summer",
          "Summer",
          "Summer",
          "Summer",
          "Summer",
          "Summer",
          "Winter",
          "Spring",
          "Summer",
          "Spring",
          "Fall",
          "Summer",
          "Spring",
          "Fall",
          "Spring",
          "Winter",
          "Summer",
          "Fall",
          "Fall",
          "Fall",
          "Spring",
          "Spring",
          "Fall",
          "Spring",
          "Fall",
          "Spring",
          "Summer",
          "Fall",
          "Summer",
          "Spring",
          "Spring",
          "Spring",
          "Spring",
          "Spring",
          "Spring",
          "Fall",
          "Spring",
          "Winter",
          "Spring",
          "Spring",
          "Spring",
          "Summer",
          "Spring",
          "Fall",
          "Summer",
          "Summer",
          "Summer",
          "Spring",
          "Fall",
          "Spring",
          "Spring",
          "Fall",
          "Spring",
          "Spring",
          "Spring",
          "Spring",
          "Fall"
         ],
         "legendgroup": "",
         "name": "",
         "showlegend": true,
         "type": "pie",
         "values": [
          "Flower",
          "Flower",
          "Flower",
          "Flower",
          "Flower",
          "Flower",
          "Flower",
          "Flower",
          "Flower",
          "Flower",
          "Flower",
          "Flower",
          "Flower",
          "Flower",
          "Flower",
          "Flower",
          "Flower",
          "Flower",
          "Flower",
          "Flower",
          "Flower",
          "Flower",
          "Flower",
          "Flower",
          "Flower",
          "Flower",
          "Flower",
          "Flower",
          "Flower",
          "Flower",
          "Flower",
          "Flower",
          "Flower",
          "Flower",
          "Flower",
          "Flower",
          "Flower",
          "Flower",
          "Flower",
          "Flower",
          "Flower",
          "Flower",
          "Flower",
          "Flower",
          "Flower",
          "Flower",
          "Flower",
          "Flower",
          "Flower",
          "Flower",
          "Flower",
          "Flower",
          "Flower",
          "Flower",
          "Flower",
          "Flower",
          "Flower",
          "Flower",
          "Flower",
          "Flower",
          "Flower",
          "Flower",
          "Flower",
          "Flower",
          "Flower",
          "Flower",
          "Flower",
          "Flower",
          "Flower",
          "Flower",
          "Flower",
          "Flower",
          "Flower",
          "Flower",
          "Flower",
          "Flower",
          "Flower",
          "Flower",
          "Flower",
          "Flower",
          "Flower",
          "Flower",
          "Flower",
          "Flower",
          "Flower",
          "Flower",
          "Flower",
          "Flower",
          "Flower",
          "Flower",
          "Flower",
          "Flower",
          "Flower",
          "Flower",
          "Flower",
          "Flower",
          "Flower",
          "Flower",
          "Flower",
          "Flower",
          "Flower",
          "Flower",
          "Flower",
          "Flower",
          "Flower",
          "Flower",
          "Flower",
          "Flower",
          "Flower",
          "Flower",
          "Flower",
          "Flower",
          "Flower",
          "Flower",
          "Flower",
          "Flower",
          "Flower",
          "Flower",
          "Flower",
          "Flower",
          "Flower",
          "Flower",
          "Flower",
          "Flower",
          "Flower",
          "Flower",
          "Flower",
          "Flower",
          "Flower",
          "Flower",
          "Flower",
          "Flower",
          "Flower",
          "Flower",
          "Flower",
          "Flower",
          "Flower",
          "Flower",
          "Flower",
          "Flower",
          "Flower",
          "Flower",
          "Flower",
          "Flower",
          "Flower",
          "Flower",
          "Flower",
          "Flower",
          "Flower",
          "Flower",
          "Flower",
          "Animal Feed",
          "Flower",
          "Flower",
          "Fruit",
          "Fruit",
          "Fruit",
          "Fruit",
          "Fruit",
          "Fruit",
          "Fruit",
          "Other",
          "Vegetable",
          "Vegetable",
          "Vegetable",
          "Vegetable",
          "Vegetable",
          "Vegetable",
          "Vegetable",
          "Vegetable",
          "Fruit",
          "Fruit",
          "Grain/Nut",
          "Grain/Nut",
          "Fruit",
          "Fruit",
          "Grain/Nut",
          "Grain/Nut",
          "Fruit",
          "Fruit",
          "Other",
          "Fruit",
          "Fruit",
          "Fruit",
          "Fruit",
          "Grain/Nut",
          "Fruit",
          "Fruit",
          "Fruit",
          "Fruit",
          "Grain/Nut",
          "Flower",
          "Fruit",
          "Fruit",
          "Fruit",
          "Fruit",
          "Grain/Nut",
          "Grain/Nut",
          "Vegetable",
          "Vegetable",
          "Vegetable",
          "Animal Feed",
          "Vegetable",
          "Fruit",
          "Other",
          "Vegetable",
          "Vegetable",
          "Grain",
          "Fruit",
          "Vegetable",
          "Fruit",
          "Fruit",
          "Fruit",
          "Fruit",
          "Vegetable",
          "Vegetable",
          "Fruit",
          "Fruit",
          "Vegetable",
          "Grain",
          "Fruit",
          "Vegetable",
          "Vegetable",
          "Vegetable",
          "Fruit",
          "Fruit",
          "Fruit",
          "Grain",
          "Other",
          "Vegetable",
          "Fruit",
          "Grain",
          "Fruit",
          "Fruit",
          "Fruit",
          "Vegetable",
          "Vegetable",
          "Vegetable",
          "Fruit",
          "Fruit",
          "Fruit",
          "Fruit",
          "Vegetable",
          "Fruit",
          "Fruit",
          "Fruit",
          "Grain",
          "Fruit",
          "Other",
          "Fruit",
          "Fruit",
          "Fruit",
          "Vegetable",
          "Vegetable"
         ]
        }
       ],
       "layout": {
        "legend": {
         "tracegroupgap": 0
        },
        "margin": {
         "t": 60
        },
        "template": {
         "data": {
          "bar": [
           {
            "error_x": {
             "color": "#2a3f5f"
            },
            "error_y": {
             "color": "#2a3f5f"
            },
            "marker": {
             "line": {
              "color": "#E5ECF6",
              "width": 0.5
             }
            },
            "type": "bar"
           }
          ],
          "barpolar": [
           {
            "marker": {
             "line": {
              "color": "#E5ECF6",
              "width": 0.5
             }
            },
            "type": "barpolar"
           }
          ],
          "carpet": [
           {
            "aaxis": {
             "endlinecolor": "#2a3f5f",
             "gridcolor": "white",
             "linecolor": "white",
             "minorgridcolor": "white",
             "startlinecolor": "#2a3f5f"
            },
            "baxis": {
             "endlinecolor": "#2a3f5f",
             "gridcolor": "white",
             "linecolor": "white",
             "minorgridcolor": "white",
             "startlinecolor": "#2a3f5f"
            },
            "type": "carpet"
           }
          ],
          "choropleth": [
           {
            "colorbar": {
             "outlinewidth": 0,
             "ticks": ""
            },
            "type": "choropleth"
           }
          ],
          "contour": [
           {
            "colorbar": {
             "outlinewidth": 0,
             "ticks": ""
            },
            "colorscale": [
             [
              0,
              "#0d0887"
             ],
             [
              0.1111111111111111,
              "#46039f"
             ],
             [
              0.2222222222222222,
              "#7201a8"
             ],
             [
              0.3333333333333333,
              "#9c179e"
             ],
             [
              0.4444444444444444,
              "#bd3786"
             ],
             [
              0.5555555555555556,
              "#d8576b"
             ],
             [
              0.6666666666666666,
              "#ed7953"
             ],
             [
              0.7777777777777778,
              "#fb9f3a"
             ],
             [
              0.8888888888888888,
              "#fdca26"
             ],
             [
              1,
              "#f0f921"
             ]
            ],
            "type": "contour"
           }
          ],
          "contourcarpet": [
           {
            "colorbar": {
             "outlinewidth": 0,
             "ticks": ""
            },
            "type": "contourcarpet"
           }
          ],
          "heatmap": [
           {
            "colorbar": {
             "outlinewidth": 0,
             "ticks": ""
            },
            "colorscale": [
             [
              0,
              "#0d0887"
             ],
             [
              0.1111111111111111,
              "#46039f"
             ],
             [
              0.2222222222222222,
              "#7201a8"
             ],
             [
              0.3333333333333333,
              "#9c179e"
             ],
             [
              0.4444444444444444,
              "#bd3786"
             ],
             [
              0.5555555555555556,
              "#d8576b"
             ],
             [
              0.6666666666666666,
              "#ed7953"
             ],
             [
              0.7777777777777778,
              "#fb9f3a"
             ],
             [
              0.8888888888888888,
              "#fdca26"
             ],
             [
              1,
              "#f0f921"
             ]
            ],
            "type": "heatmap"
           }
          ],
          "heatmapgl": [
           {
            "colorbar": {
             "outlinewidth": 0,
             "ticks": ""
            },
            "colorscale": [
             [
              0,
              "#0d0887"
             ],
             [
              0.1111111111111111,
              "#46039f"
             ],
             [
              0.2222222222222222,
              "#7201a8"
             ],
             [
              0.3333333333333333,
              "#9c179e"
             ],
             [
              0.4444444444444444,
              "#bd3786"
             ],
             [
              0.5555555555555556,
              "#d8576b"
             ],
             [
              0.6666666666666666,
              "#ed7953"
             ],
             [
              0.7777777777777778,
              "#fb9f3a"
             ],
             [
              0.8888888888888888,
              "#fdca26"
             ],
             [
              1,
              "#f0f921"
             ]
            ],
            "type": "heatmapgl"
           }
          ],
          "histogram": [
           {
            "marker": {
             "colorbar": {
              "outlinewidth": 0,
              "ticks": ""
             }
            },
            "type": "histogram"
           }
          ],
          "histogram2d": [
           {
            "colorbar": {
             "outlinewidth": 0,
             "ticks": ""
            },
            "colorscale": [
             [
              0,
              "#0d0887"
             ],
             [
              0.1111111111111111,
              "#46039f"
             ],
             [
              0.2222222222222222,
              "#7201a8"
             ],
             [
              0.3333333333333333,
              "#9c179e"
             ],
             [
              0.4444444444444444,
              "#bd3786"
             ],
             [
              0.5555555555555556,
              "#d8576b"
             ],
             [
              0.6666666666666666,
              "#ed7953"
             ],
             [
              0.7777777777777778,
              "#fb9f3a"
             ],
             [
              0.8888888888888888,
              "#fdca26"
             ],
             [
              1,
              "#f0f921"
             ]
            ],
            "type": "histogram2d"
           }
          ],
          "histogram2dcontour": [
           {
            "colorbar": {
             "outlinewidth": 0,
             "ticks": ""
            },
            "colorscale": [
             [
              0,
              "#0d0887"
             ],
             [
              0.1111111111111111,
              "#46039f"
             ],
             [
              0.2222222222222222,
              "#7201a8"
             ],
             [
              0.3333333333333333,
              "#9c179e"
             ],
             [
              0.4444444444444444,
              "#bd3786"
             ],
             [
              0.5555555555555556,
              "#d8576b"
             ],
             [
              0.6666666666666666,
              "#ed7953"
             ],
             [
              0.7777777777777778,
              "#fb9f3a"
             ],
             [
              0.8888888888888888,
              "#fdca26"
             ],
             [
              1,
              "#f0f921"
             ]
            ],
            "type": "histogram2dcontour"
           }
          ],
          "mesh3d": [
           {
            "colorbar": {
             "outlinewidth": 0,
             "ticks": ""
            },
            "type": "mesh3d"
           }
          ],
          "parcoords": [
           {
            "line": {
             "colorbar": {
              "outlinewidth": 0,
              "ticks": ""
             }
            },
            "type": "parcoords"
           }
          ],
          "pie": [
           {
            "automargin": true,
            "type": "pie"
           }
          ],
          "scatter": [
           {
            "marker": {
             "colorbar": {
              "outlinewidth": 0,
              "ticks": ""
             }
            },
            "type": "scatter"
           }
          ],
          "scatter3d": [
           {
            "line": {
             "colorbar": {
              "outlinewidth": 0,
              "ticks": ""
             }
            },
            "marker": {
             "colorbar": {
              "outlinewidth": 0,
              "ticks": ""
             }
            },
            "type": "scatter3d"
           }
          ],
          "scattercarpet": [
           {
            "marker": {
             "colorbar": {
              "outlinewidth": 0,
              "ticks": ""
             }
            },
            "type": "scattercarpet"
           }
          ],
          "scattergeo": [
           {
            "marker": {
             "colorbar": {
              "outlinewidth": 0,
              "ticks": ""
             }
            },
            "type": "scattergeo"
           }
          ],
          "scattergl": [
           {
            "marker": {
             "colorbar": {
              "outlinewidth": 0,
              "ticks": ""
             }
            },
            "type": "scattergl"
           }
          ],
          "scattermapbox": [
           {
            "marker": {
             "colorbar": {
              "outlinewidth": 0,
              "ticks": ""
             }
            },
            "type": "scattermapbox"
           }
          ],
          "scatterpolar": [
           {
            "marker": {
             "colorbar": {
              "outlinewidth": 0,
              "ticks": ""
             }
            },
            "type": "scatterpolar"
           }
          ],
          "scatterpolargl": [
           {
            "marker": {
             "colorbar": {
              "outlinewidth": 0,
              "ticks": ""
             }
            },
            "type": "scatterpolargl"
           }
          ],
          "scatterternary": [
           {
            "marker": {
             "colorbar": {
              "outlinewidth": 0,
              "ticks": ""
             }
            },
            "type": "scatterternary"
           }
          ],
          "surface": [
           {
            "colorbar": {
             "outlinewidth": 0,
             "ticks": ""
            },
            "colorscale": [
             [
              0,
              "#0d0887"
             ],
             [
              0.1111111111111111,
              "#46039f"
             ],
             [
              0.2222222222222222,
              "#7201a8"
             ],
             [
              0.3333333333333333,
              "#9c179e"
             ],
             [
              0.4444444444444444,
              "#bd3786"
             ],
             [
              0.5555555555555556,
              "#d8576b"
             ],
             [
              0.6666666666666666,
              "#ed7953"
             ],
             [
              0.7777777777777778,
              "#fb9f3a"
             ],
             [
              0.8888888888888888,
              "#fdca26"
             ],
             [
              1,
              "#f0f921"
             ]
            ],
            "type": "surface"
           }
          ],
          "table": [
           {
            "cells": {
             "fill": {
              "color": "#EBF0F8"
             },
             "line": {
              "color": "white"
             }
            },
            "header": {
             "fill": {
              "color": "#C8D4E3"
             },
             "line": {
              "color": "white"
             }
            },
            "type": "table"
           }
          ]
         },
         "layout": {
          "annotationdefaults": {
           "arrowcolor": "#2a3f5f",
           "arrowhead": 0,
           "arrowwidth": 1
          },
          "coloraxis": {
           "colorbar": {
            "outlinewidth": 0,
            "ticks": ""
           }
          },
          "colorscale": {
           "diverging": [
            [
             0,
             "#8e0152"
            ],
            [
             0.1,
             "#c51b7d"
            ],
            [
             0.2,
             "#de77ae"
            ],
            [
             0.3,
             "#f1b6da"
            ],
            [
             0.4,
             "#fde0ef"
            ],
            [
             0.5,
             "#f7f7f7"
            ],
            [
             0.6,
             "#e6f5d0"
            ],
            [
             0.7,
             "#b8e186"
            ],
            [
             0.8,
             "#7fbc41"
            ],
            [
             0.9,
             "#4d9221"
            ],
            [
             1,
             "#276419"
            ]
           ],
           "sequential": [
            [
             0,
             "#0d0887"
            ],
            [
             0.1111111111111111,
             "#46039f"
            ],
            [
             0.2222222222222222,
             "#7201a8"
            ],
            [
             0.3333333333333333,
             "#9c179e"
            ],
            [
             0.4444444444444444,
             "#bd3786"
            ],
            [
             0.5555555555555556,
             "#d8576b"
            ],
            [
             0.6666666666666666,
             "#ed7953"
            ],
            [
             0.7777777777777778,
             "#fb9f3a"
            ],
            [
             0.8888888888888888,
             "#fdca26"
            ],
            [
             1,
             "#f0f921"
            ]
           ],
           "sequentialminus": [
            [
             0,
             "#0d0887"
            ],
            [
             0.1111111111111111,
             "#46039f"
            ],
            [
             0.2222222222222222,
             "#7201a8"
            ],
            [
             0.3333333333333333,
             "#9c179e"
            ],
            [
             0.4444444444444444,
             "#bd3786"
            ],
            [
             0.5555555555555556,
             "#d8576b"
            ],
            [
             0.6666666666666666,
             "#ed7953"
            ],
            [
             0.7777777777777778,
             "#fb9f3a"
            ],
            [
             0.8888888888888888,
             "#fdca26"
            ],
            [
             1,
             "#f0f921"
            ]
           ]
          },
          "colorway": [
           "#636efa",
           "#EF553B",
           "#00cc96",
           "#ab63fa",
           "#FFA15A",
           "#19d3f3",
           "#FF6692",
           "#B6E880",
           "#FF97FF",
           "#FECB52"
          ],
          "font": {
           "color": "#2a3f5f"
          },
          "geo": {
           "bgcolor": "white",
           "lakecolor": "white",
           "landcolor": "#E5ECF6",
           "showlakes": true,
           "showland": true,
           "subunitcolor": "white"
          },
          "hoverlabel": {
           "align": "left"
          },
          "hovermode": "closest",
          "mapbox": {
           "style": "light"
          },
          "paper_bgcolor": "white",
          "plot_bgcolor": "#E5ECF6",
          "polar": {
           "angularaxis": {
            "gridcolor": "white",
            "linecolor": "white",
            "ticks": ""
           },
           "bgcolor": "#E5ECF6",
           "radialaxis": {
            "gridcolor": "white",
            "linecolor": "white",
            "ticks": ""
           }
          },
          "scene": {
           "xaxis": {
            "backgroundcolor": "#E5ECF6",
            "gridcolor": "white",
            "gridwidth": 2,
            "linecolor": "white",
            "showbackground": true,
            "ticks": "",
            "zerolinecolor": "white"
           },
           "yaxis": {
            "backgroundcolor": "#E5ECF6",
            "gridcolor": "white",
            "gridwidth": 2,
            "linecolor": "white",
            "showbackground": true,
            "ticks": "",
            "zerolinecolor": "white"
           },
           "zaxis": {
            "backgroundcolor": "#E5ECF6",
            "gridcolor": "white",
            "gridwidth": 2,
            "linecolor": "white",
            "showbackground": true,
            "ticks": "",
            "zerolinecolor": "white"
           }
          },
          "shapedefaults": {
           "line": {
            "color": "#2a3f5f"
           }
          },
          "ternary": {
           "aaxis": {
            "gridcolor": "white",
            "linecolor": "white",
            "ticks": ""
           },
           "baxis": {
            "gridcolor": "white",
            "linecolor": "white",
            "ticks": ""
           },
           "bgcolor": "#E5ECF6",
           "caxis": {
            "gridcolor": "white",
            "linecolor": "white",
            "ticks": ""
           }
          },
          "title": {
           "x": 0.05
          },
          "xaxis": {
           "automargin": true,
           "gridcolor": "white",
           "linecolor": "white",
           "ticks": "",
           "title": {
            "standoff": 15
           },
           "zerolinecolor": "white",
           "zerolinewidth": 2
          },
          "yaxis": {
           "automargin": true,
           "gridcolor": "white",
           "linecolor": "white",
           "ticks": "",
           "title": {
            "standoff": 15
           },
           "zerolinecolor": "white",
           "zerolinewidth": 2
          }
         }
        }
       }
      },
      "text/html": [
       "<div>                            <div id=\"0933ab1a-743c-4adc-af42-8ce4128e34c4\" class=\"plotly-graph-div\" style=\"height:525px; width:100%;\"></div>            <script type=\"text/javascript\">                require([\"plotly\"], function(Plotly) {                    window.PLOTLYENV=window.PLOTLYENV || {};                                    if (document.getElementById(\"0933ab1a-743c-4adc-af42-8ce4128e34c4\")) {                    Plotly.newPlot(                        \"0933ab1a-743c-4adc-af42-8ce4128e34c4\",                        [{\"domain\": {\"x\": [0.0, 1.0], \"y\": [0.0, 1.0]}, \"hovertemplate\": \"Season=%{label}<br>Plant Type=%{value}<extra></extra>\", \"labels\": [\"Spring\", \"Summer\", \"Spring\", \"Spring\", \"Summer\", \"Summer\", \"Summer\", \"Spring\", \"Spring\", \"Spring\", \"Spring\", \"Summer\", \"Summer\", \"Spring\", \"Spring\", \"Summer\", \"Spring\", \"Summer\", \"Spring\", \"Summer\", \"Spring\", \"Spring\", \"Summer\", \"Summer\", \"Spring\", \"Summer\", \"Spring\", \"Summer\", \"Spring\", \"Spring\", \"Summer\", \"Spring\", \"Summer\", \"Spring\", \"Summer\", \"Summer\", \"Summer\", \"Spring\", \"Summer\", \"Spring\", \"Summer\", \"Summer\", \"Spring\", \"Spring\", \"Summer\", \"Summer\", \"Summer\", \"Summer\", \"Spring\", \"Spring\", \"Spring\", \"Spring\", \"Spring\", \"Summer\", \"Summer\", \"Spring\", \"Summer\", \"Summer\", \"Summer\", \"Spring\", \"Spring\", \"Spring\", \"Spring\", \"Summer\", \"Spring\", \"Spring\", \"Summer\", \"Spring\", \"Summer\", \"Summer\", \"Summer\", \"Spring\", \"Summer\", \"Spring\", \"Summer\", \"Summer\", \"Summer\", \"Summer\", \"Spring\", \"Summer\", \"Summer\", \"Summer\", \"Summer\", \"Summer\", \"Spring\", \"Spring\", \"Spring\", \"Summer\", \"Summer\", \"Summer\", \"Summer\", \"Summer\", \"Summer\", \"Spring\", \"Summer\", \"Summer\", \"Spring\", \"Summer\", \"Summer\", \"Spring\", \"Summer\", \"Summer\", \"Summer\", \"Summer\", \"Summer\", \"Spring\", \"Summer\", \"Spring\", \"Summer\", \"Summer\", \"Spring\", \"Summer\", \"Summer\", \"Summer\", \"Spring\", \"Spring\", \"Summer\", \"Spring\", \"Spring\", \"Summer\", \"Summer\", \"Summer\", \"Summer\", \"Spring\", \"Spring\", \"Spring\", \"Summer\", \"Spring\", \"Summer\", \"Spring\", \"Spring\", \"Spring\", \"Summer\", \"Summer\", \"Spring\", \"Spring\", \"Summer\", \"Summer\", \"Summer\", \"Summer\", \"Spring\", \"Spring\", \"Summer\", \"Spring\", \"Spring\", \"Summer\", \"Spring\", \"Summer\", \"Spring\", \"Summer\", \"Summer\", \"Fall\", \"Fall\", \"Fall\", \"Fall\", \"Fall\", \"Fall\", \"Fall\", \"Fall\", \"Fall\", \"Fall\", \"Fall\", \"Fall\", \"Fall\", \"Fall\", \"Fall\", \"Fall\", \"Fall\", \"Fall\", \"Fall\", \"Fall\", \"Fall\", \"Fall\", \"Fall\", \"Fall\", \"Winter\", \"Winter\", \"Winter\", \"Winter\", \"Spring\", \"Spring\", \"Spring\", \"Spring\", \"Spring\", \"Spring\", \"Spring\", \"Summer\", \"Summer\", \"Summer\", \"Summer\", \"Summer\", \"Summer\", \"Summer\", \"Summer\", \"Summer\", \"Summer\", \"Summer\", \"Summer\", \"Summer\", \"Summer\", \"Summer\", \"Summer\", \"Summer\", \"Winter\", \"Spring\", \"Summer\", \"Spring\", \"Fall\", \"Summer\", \"Spring\", \"Fall\", \"Spring\", \"Winter\", \"Summer\", \"Fall\", \"Fall\", \"Fall\", \"Spring\", \"Spring\", \"Fall\", \"Spring\", \"Fall\", \"Spring\", \"Summer\", \"Fall\", \"Summer\", \"Spring\", \"Spring\", \"Spring\", \"Spring\", \"Spring\", \"Spring\", \"Fall\", \"Spring\", \"Winter\", \"Spring\", \"Spring\", \"Spring\", \"Summer\", \"Spring\", \"Fall\", \"Summer\", \"Summer\", \"Summer\", \"Spring\", \"Fall\", \"Spring\", \"Spring\", \"Fall\", \"Spring\", \"Spring\", \"Spring\", \"Spring\", \"Fall\"], \"legendgroup\": \"\", \"name\": \"\", \"showlegend\": true, \"type\": \"pie\", \"values\": [\"Flower\", \"Flower\", \"Flower\", \"Flower\", \"Flower\", \"Flower\", \"Flower\", \"Flower\", \"Flower\", \"Flower\", \"Flower\", \"Flower\", \"Flower\", \"Flower\", \"Flower\", \"Flower\", \"Flower\", \"Flower\", \"Flower\", \"Flower\", \"Flower\", \"Flower\", \"Flower\", \"Flower\", \"Flower\", \"Flower\", \"Flower\", \"Flower\", \"Flower\", \"Flower\", \"Flower\", \"Flower\", \"Flower\", \"Flower\", \"Flower\", \"Flower\", \"Flower\", \"Flower\", \"Flower\", \"Flower\", \"Flower\", \"Flower\", \"Flower\", \"Flower\", \"Flower\", \"Flower\", \"Flower\", \"Flower\", \"Flower\", \"Flower\", \"Flower\", \"Flower\", \"Flower\", \"Flower\", \"Flower\", \"Flower\", \"Flower\", \"Flower\", \"Flower\", \"Flower\", \"Flower\", \"Flower\", \"Flower\", \"Flower\", \"Flower\", \"Flower\", \"Flower\", \"Flower\", \"Flower\", \"Flower\", \"Flower\", \"Flower\", \"Flower\", \"Flower\", \"Flower\", \"Flower\", \"Flower\", \"Flower\", \"Flower\", \"Flower\", \"Flower\", \"Flower\", \"Flower\", \"Flower\", \"Flower\", \"Flower\", \"Flower\", \"Flower\", \"Flower\", \"Flower\", \"Flower\", \"Flower\", \"Flower\", \"Flower\", \"Flower\", \"Flower\", \"Flower\", \"Flower\", \"Flower\", \"Flower\", \"Flower\", \"Flower\", \"Flower\", \"Flower\", \"Flower\", \"Flower\", \"Flower\", \"Flower\", \"Flower\", \"Flower\", \"Flower\", \"Flower\", \"Flower\", \"Flower\", \"Flower\", \"Flower\", \"Flower\", \"Flower\", \"Flower\", \"Flower\", \"Flower\", \"Flower\", \"Flower\", \"Flower\", \"Flower\", \"Flower\", \"Flower\", \"Flower\", \"Flower\", \"Flower\", \"Flower\", \"Flower\", \"Flower\", \"Flower\", \"Flower\", \"Flower\", \"Flower\", \"Flower\", \"Flower\", \"Flower\", \"Flower\", \"Flower\", \"Flower\", \"Flower\", \"Flower\", \"Flower\", \"Flower\", \"Flower\", \"Flower\", \"Flower\", \"Flower\", \"Animal Feed\", \"Flower\", \"Flower\", \"Fruit\", \"Fruit\", \"Fruit\", \"Fruit\", \"Fruit\", \"Fruit\", \"Fruit\", \"Other\", \"Vegetable\", \"Vegetable\", \"Vegetable\", \"Vegetable\", \"Vegetable\", \"Vegetable\", \"Vegetable\", \"Vegetable\", \"Fruit\", \"Fruit\", \"Grain/Nut\", \"Grain/Nut\", \"Fruit\", \"Fruit\", \"Grain/Nut\", \"Grain/Nut\", \"Fruit\", \"Fruit\", \"Other\", \"Fruit\", \"Fruit\", \"Fruit\", \"Fruit\", \"Grain/Nut\", \"Fruit\", \"Fruit\", \"Fruit\", \"Fruit\", \"Grain/Nut\", \"Flower\", \"Fruit\", \"Fruit\", \"Fruit\", \"Fruit\", \"Grain/Nut\", \"Grain/Nut\", \"Vegetable\", \"Vegetable\", \"Vegetable\", \"Animal Feed\", \"Vegetable\", \"Fruit\", \"Other\", \"Vegetable\", \"Vegetable\", \"Grain\", \"Fruit\", \"Vegetable\", \"Fruit\", \"Fruit\", \"Fruit\", \"Fruit\", \"Vegetable\", \"Vegetable\", \"Fruit\", \"Fruit\", \"Vegetable\", \"Grain\", \"Fruit\", \"Vegetable\", \"Vegetable\", \"Vegetable\", \"Fruit\", \"Fruit\", \"Fruit\", \"Grain\", \"Other\", \"Vegetable\", \"Fruit\", \"Grain\", \"Fruit\", \"Fruit\", \"Fruit\", \"Vegetable\", \"Vegetable\", \"Vegetable\", \"Fruit\", \"Fruit\", \"Fruit\", \"Fruit\", \"Vegetable\", \"Fruit\", \"Fruit\", \"Fruit\", \"Grain\", \"Fruit\", \"Other\", \"Fruit\", \"Fruit\", \"Fruit\", \"Vegetable\", \"Vegetable\"]}],                        {\"legend\": {\"tracegroupgap\": 0}, \"margin\": {\"t\": 60}, \"template\": {\"data\": {\"bar\": [{\"error_x\": {\"color\": \"#2a3f5f\"}, \"error_y\": {\"color\": \"#2a3f5f\"}, \"marker\": {\"line\": {\"color\": \"#E5ECF6\", \"width\": 0.5}}, \"type\": \"bar\"}], \"barpolar\": [{\"marker\": {\"line\": {\"color\": \"#E5ECF6\", \"width\": 0.5}}, \"type\": \"barpolar\"}], \"carpet\": [{\"aaxis\": {\"endlinecolor\": \"#2a3f5f\", \"gridcolor\": \"white\", \"linecolor\": \"white\", \"minorgridcolor\": \"white\", \"startlinecolor\": \"#2a3f5f\"}, \"baxis\": {\"endlinecolor\": \"#2a3f5f\", \"gridcolor\": \"white\", \"linecolor\": \"white\", \"minorgridcolor\": \"white\", \"startlinecolor\": \"#2a3f5f\"}, \"type\": \"carpet\"}], \"choropleth\": [{\"colorbar\": {\"outlinewidth\": 0, \"ticks\": \"\"}, \"type\": \"choropleth\"}], \"contour\": [{\"colorbar\": {\"outlinewidth\": 0, \"ticks\": \"\"}, \"colorscale\": [[0.0, \"#0d0887\"], [0.1111111111111111, \"#46039f\"], [0.2222222222222222, \"#7201a8\"], [0.3333333333333333, \"#9c179e\"], [0.4444444444444444, \"#bd3786\"], [0.5555555555555556, \"#d8576b\"], [0.6666666666666666, \"#ed7953\"], [0.7777777777777778, \"#fb9f3a\"], [0.8888888888888888, \"#fdca26\"], [1.0, \"#f0f921\"]], \"type\": \"contour\"}], \"contourcarpet\": [{\"colorbar\": {\"outlinewidth\": 0, \"ticks\": \"\"}, \"type\": \"contourcarpet\"}], \"heatmap\": [{\"colorbar\": {\"outlinewidth\": 0, \"ticks\": \"\"}, \"colorscale\": [[0.0, \"#0d0887\"], [0.1111111111111111, \"#46039f\"], [0.2222222222222222, \"#7201a8\"], [0.3333333333333333, \"#9c179e\"], [0.4444444444444444, \"#bd3786\"], [0.5555555555555556, \"#d8576b\"], [0.6666666666666666, \"#ed7953\"], [0.7777777777777778, \"#fb9f3a\"], [0.8888888888888888, \"#fdca26\"], [1.0, \"#f0f921\"]], \"type\": \"heatmap\"}], \"heatmapgl\": [{\"colorbar\": {\"outlinewidth\": 0, \"ticks\": \"\"}, \"colorscale\": [[0.0, \"#0d0887\"], [0.1111111111111111, \"#46039f\"], [0.2222222222222222, \"#7201a8\"], [0.3333333333333333, \"#9c179e\"], [0.4444444444444444, \"#bd3786\"], [0.5555555555555556, \"#d8576b\"], [0.6666666666666666, \"#ed7953\"], [0.7777777777777778, \"#fb9f3a\"], [0.8888888888888888, \"#fdca26\"], [1.0, \"#f0f921\"]], \"type\": \"heatmapgl\"}], \"histogram\": [{\"marker\": {\"colorbar\": {\"outlinewidth\": 0, \"ticks\": \"\"}}, \"type\": \"histogram\"}], \"histogram2d\": [{\"colorbar\": {\"outlinewidth\": 0, \"ticks\": \"\"}, \"colorscale\": [[0.0, \"#0d0887\"], [0.1111111111111111, \"#46039f\"], [0.2222222222222222, \"#7201a8\"], [0.3333333333333333, \"#9c179e\"], [0.4444444444444444, \"#bd3786\"], [0.5555555555555556, \"#d8576b\"], [0.6666666666666666, \"#ed7953\"], [0.7777777777777778, \"#fb9f3a\"], [0.8888888888888888, \"#fdca26\"], [1.0, \"#f0f921\"]], \"type\": \"histogram2d\"}], \"histogram2dcontour\": [{\"colorbar\": {\"outlinewidth\": 0, \"ticks\": \"\"}, \"colorscale\": [[0.0, \"#0d0887\"], [0.1111111111111111, \"#46039f\"], [0.2222222222222222, \"#7201a8\"], [0.3333333333333333, \"#9c179e\"], [0.4444444444444444, \"#bd3786\"], [0.5555555555555556, \"#d8576b\"], [0.6666666666666666, \"#ed7953\"], [0.7777777777777778, \"#fb9f3a\"], [0.8888888888888888, \"#fdca26\"], [1.0, \"#f0f921\"]], \"type\": \"histogram2dcontour\"}], \"mesh3d\": [{\"colorbar\": {\"outlinewidth\": 0, \"ticks\": \"\"}, \"type\": \"mesh3d\"}], \"parcoords\": [{\"line\": {\"colorbar\": {\"outlinewidth\": 0, \"ticks\": \"\"}}, \"type\": \"parcoords\"}], \"pie\": [{\"automargin\": true, \"type\": \"pie\"}], \"scatter\": [{\"marker\": {\"colorbar\": {\"outlinewidth\": 0, \"ticks\": \"\"}}, \"type\": \"scatter\"}], \"scatter3d\": [{\"line\": {\"colorbar\": {\"outlinewidth\": 0, \"ticks\": \"\"}}, \"marker\": {\"colorbar\": {\"outlinewidth\": 0, \"ticks\": \"\"}}, \"type\": \"scatter3d\"}], \"scattercarpet\": [{\"marker\": {\"colorbar\": {\"outlinewidth\": 0, \"ticks\": \"\"}}, \"type\": \"scattercarpet\"}], \"scattergeo\": [{\"marker\": {\"colorbar\": {\"outlinewidth\": 0, \"ticks\": \"\"}}, \"type\": \"scattergeo\"}], \"scattergl\": [{\"marker\": {\"colorbar\": {\"outlinewidth\": 0, \"ticks\": \"\"}}, \"type\": \"scattergl\"}], \"scattermapbox\": [{\"marker\": {\"colorbar\": {\"outlinewidth\": 0, \"ticks\": \"\"}}, \"type\": \"scattermapbox\"}], \"scatterpolar\": [{\"marker\": {\"colorbar\": {\"outlinewidth\": 0, \"ticks\": \"\"}}, \"type\": \"scatterpolar\"}], \"scatterpolargl\": [{\"marker\": {\"colorbar\": {\"outlinewidth\": 0, \"ticks\": \"\"}}, \"type\": \"scatterpolargl\"}], \"scatterternary\": [{\"marker\": {\"colorbar\": {\"outlinewidth\": 0, \"ticks\": \"\"}}, \"type\": \"scatterternary\"}], \"surface\": [{\"colorbar\": {\"outlinewidth\": 0, \"ticks\": \"\"}, \"colorscale\": [[0.0, \"#0d0887\"], [0.1111111111111111, \"#46039f\"], [0.2222222222222222, \"#7201a8\"], [0.3333333333333333, \"#9c179e\"], [0.4444444444444444, \"#bd3786\"], [0.5555555555555556, \"#d8576b\"], [0.6666666666666666, \"#ed7953\"], [0.7777777777777778, \"#fb9f3a\"], [0.8888888888888888, \"#fdca26\"], [1.0, \"#f0f921\"]], \"type\": \"surface\"}], \"table\": [{\"cells\": {\"fill\": {\"color\": \"#EBF0F8\"}, \"line\": {\"color\": \"white\"}}, \"header\": {\"fill\": {\"color\": \"#C8D4E3\"}, \"line\": {\"color\": \"white\"}}, \"type\": \"table\"}]}, \"layout\": {\"annotationdefaults\": {\"arrowcolor\": \"#2a3f5f\", \"arrowhead\": 0, \"arrowwidth\": 1}, \"coloraxis\": {\"colorbar\": {\"outlinewidth\": 0, \"ticks\": \"\"}}, \"colorscale\": {\"diverging\": [[0, \"#8e0152\"], [0.1, \"#c51b7d\"], [0.2, \"#de77ae\"], [0.3, \"#f1b6da\"], [0.4, \"#fde0ef\"], [0.5, \"#f7f7f7\"], [0.6, \"#e6f5d0\"], [0.7, \"#b8e186\"], [0.8, \"#7fbc41\"], [0.9, \"#4d9221\"], [1, \"#276419\"]], \"sequential\": [[0.0, \"#0d0887\"], [0.1111111111111111, \"#46039f\"], [0.2222222222222222, \"#7201a8\"], [0.3333333333333333, \"#9c179e\"], [0.4444444444444444, \"#bd3786\"], [0.5555555555555556, \"#d8576b\"], [0.6666666666666666, \"#ed7953\"], [0.7777777777777778, \"#fb9f3a\"], [0.8888888888888888, \"#fdca26\"], [1.0, \"#f0f921\"]], \"sequentialminus\": [[0.0, \"#0d0887\"], [0.1111111111111111, \"#46039f\"], [0.2222222222222222, \"#7201a8\"], [0.3333333333333333, \"#9c179e\"], [0.4444444444444444, \"#bd3786\"], [0.5555555555555556, \"#d8576b\"], [0.6666666666666666, \"#ed7953\"], [0.7777777777777778, \"#fb9f3a\"], [0.8888888888888888, \"#fdca26\"], [1.0, \"#f0f921\"]]}, \"colorway\": [\"#636efa\", \"#EF553B\", \"#00cc96\", \"#ab63fa\", \"#FFA15A\", \"#19d3f3\", \"#FF6692\", \"#B6E880\", \"#FF97FF\", \"#FECB52\"], \"font\": {\"color\": \"#2a3f5f\"}, \"geo\": {\"bgcolor\": \"white\", \"lakecolor\": \"white\", \"landcolor\": \"#E5ECF6\", \"showlakes\": true, \"showland\": true, \"subunitcolor\": \"white\"}, \"hoverlabel\": {\"align\": \"left\"}, \"hovermode\": \"closest\", \"mapbox\": {\"style\": \"light\"}, \"paper_bgcolor\": \"white\", \"plot_bgcolor\": \"#E5ECF6\", \"polar\": {\"angularaxis\": {\"gridcolor\": \"white\", \"linecolor\": \"white\", \"ticks\": \"\"}, \"bgcolor\": \"#E5ECF6\", \"radialaxis\": {\"gridcolor\": \"white\", \"linecolor\": \"white\", \"ticks\": \"\"}}, \"scene\": {\"xaxis\": {\"backgroundcolor\": \"#E5ECF6\", \"gridcolor\": \"white\", \"gridwidth\": 2, \"linecolor\": \"white\", \"showbackground\": true, \"ticks\": \"\", \"zerolinecolor\": \"white\"}, \"yaxis\": {\"backgroundcolor\": \"#E5ECF6\", \"gridcolor\": \"white\", \"gridwidth\": 2, \"linecolor\": \"white\", \"showbackground\": true, \"ticks\": \"\", \"zerolinecolor\": \"white\"}, \"zaxis\": {\"backgroundcolor\": \"#E5ECF6\", \"gridcolor\": \"white\", \"gridwidth\": 2, \"linecolor\": \"white\", \"showbackground\": true, \"ticks\": \"\", \"zerolinecolor\": \"white\"}}, \"shapedefaults\": {\"line\": {\"color\": \"#2a3f5f\"}}, \"ternary\": {\"aaxis\": {\"gridcolor\": \"white\", \"linecolor\": \"white\", \"ticks\": \"\"}, \"baxis\": {\"gridcolor\": \"white\", \"linecolor\": \"white\", \"ticks\": \"\"}, \"bgcolor\": \"#E5ECF6\", \"caxis\": {\"gridcolor\": \"white\", \"linecolor\": \"white\", \"ticks\": \"\"}}, \"title\": {\"x\": 0.05}, \"xaxis\": {\"automargin\": true, \"gridcolor\": \"white\", \"linecolor\": \"white\", \"ticks\": \"\", \"title\": {\"standoff\": 15}, \"zerolinecolor\": \"white\", \"zerolinewidth\": 2}, \"yaxis\": {\"automargin\": true, \"gridcolor\": \"white\", \"linecolor\": \"white\", \"ticks\": \"\", \"title\": {\"standoff\": 15}, \"zerolinecolor\": \"white\", \"zerolinewidth\": 2}}}},                        {\"responsive\": true}                    ).then(function(){\n",
       "                            \n",
       "var gd = document.getElementById('0933ab1a-743c-4adc-af42-8ce4128e34c4');\n",
       "var x = new MutationObserver(function (mutations, observer) {{\n",
       "        var display = window.getComputedStyle(gd).display;\n",
       "        if (!display || display === 'none') {{\n",
       "            console.log([gd, 'removed!']);\n",
       "            Plotly.purge(gd);\n",
       "            observer.disconnect();\n",
       "        }}\n",
       "}});\n",
       "\n",
       "// Listen for the removal of the full notebook cells\n",
       "var notebookContainer = gd.closest('#notebook-container');\n",
       "if (notebookContainer) {{\n",
       "    x.observe(notebookContainer, {childList: true});\n",
       "}}\n",
       "\n",
       "// Listen for the clearing of the current output cell\n",
       "var outputEl = gd.closest('.output');\n",
       "if (outputEl) {{\n",
       "    x.observe(outputEl, {childList: true});\n",
       "}}\n",
       "\n",
       "                        })                };                });            </script>        </div>"
      ]
     },
     "metadata": {},
     "output_type": "display_data"
    }
   ],
   "source": [
    "# This dataframe has 244 lines, but 4 distinct values for `day`\n",
    "df = px.data.tips()\n",
    "fig = px.pie(plant_data, values='Plant Type', names='Season')\n",
    "fig.show()"
   ]
  },
  {
   "cell_type": "code",
   "execution_count": 13,
   "metadata": {},
   "outputs": [
    {
     "data": {
      "application/vnd.plotly.v1+json": {
       "config": {
        "linkText": "Export to plot.ly",
        "plotlyServerURL": "https://plot.ly",
        "showLink": false
       },
       "data": [
        {
         "name": "Rounds Won",
         "type": "bar",
         "x": [
          "Aconite",
          "Ageratum",
          "Allium",
          "Anemone",
          "Angelica",
          "Angelonia",
          "Artemisia",
          "Aster",
          "Astilbe",
          "Aubrieta",
          "Azalea",
          "Balloon Flower",
          "Balsam",
          "Baneberry",
          "Basket of Gold",
          "Bee Balm",
          "Begonia",
          "Bellflower",
          "Bergenia",
          "Blackeyed Susan",
          "Bleeding Heart",
          "Bloodroot",
          "Boneset",
          "Browallia",
          "Bugleweed",
          "Bugloss",
          "Buttercup",
          "Butterfly Weed",
          "Caladium",
          "Calendula",
          "California Poppy",
          "Canterbury Bells",
          "Cardinal Flower",
          "Carnation",
          "Castor Bean",
          "Catmint",
          "Celosia",
          "Chives",
          "Chrysanthemum",
          "Clary Sage",
          "Cleome",
          "Coleus",
          "Columbine",
          "Comfrey",
          "Coneflower",
          "Coreopsis",
          "Corydalis",
          "Cosmos",
          "Crocus",
          "Crown Imperial",
          "Cushion Spurge",
          "Cyclamen",
          "Daffodil",
          "Dahlia",
          "Daisy",
          "Dame’s Rocket",
          "Delphinium",
          "Diascia",
          "Dusty Miller",
          "Dutchman's Breeches",
          "Entire Spring Snowflake",
          "Epimedium",
          "Evergreen Candytuft ",
          "Fennel",
          "Fountain Grass",
          "Foxglove",
          "Gaillardia",
          "Gas Plant",
          "Gaura",
          "Gazania",
          "Geranium",
          "Geum",
          "Globe Thistle",
          "Glory of the Snow",
          "Goatsbeard",
          "Golden Marguerite",
          "Gomphrena",
          "Heliotrope",
          "Hepatica",
          "Hollyhock",
          "Hosta",
          "Hyacinth",
          "Hyssop",
          "Impatiens",
          "Iris",
          "Jack-in-the-Pulpit",
          "Jacob’s Ladder",
          "Lady's Mantle",
          "Lantana",
          "Lavender",
          "Lavender Cotton",
          "Leadwort",
          "Lemon Balm",
          "Lily",
          "Lobelia",
          "Lupine",
          "Maiden Pink",
          "Malva",
          "Marigold",
          "Mazus",
          "Mirabilis",
          "Moonflower",
          "Morning Glory",
          "Nasturtium",
          "Nierembergia",
          "Orchid",
          "Osteospermum",
          "Pansy",
          "Pearly Everlasting",
          "Perennial Flax",
          "Periwinkle",
          "Petunia",
          "Pincushion Flower",
          "Polka Dot Plant",
          "Primrose",
          "Ranunculus",
          "Red Valerian",
          "Rock Soapwort",
          "Rose",
          "Rue",
          "Sanvitalia",
          "Scarlet Sage",
          "Sea Lavender",
          "Sea Thrift",
          "Shirley Poppy",
          "Shooting Star",
          "Silvermound",
          "Skunk Cabbage",
          "Snapdragon",
          "Snow in Summer",
          "Snowdrop",
          "Solomon's Seal",
          "Summer Savory",
          "Sunflower",
          "Sweet Alyssum",
          "Sweet Woodruff",
          "Tansy",
          "Thunbergia",
          "Tithonia",
          "Torenia",
          "Trillium",
          "Tulip",
          "Verbena",
          "Violet",
          "Virginia Bluebell",
          "Wild Senna",
          "Windflower",
          "Yarrow",
          "Yellow Archangel",
          "Yellow Loosestrife",
          "Zinnia",
          "Alfalfa Seed",
          "Hops",
          "Flaxseed",
          "Asian Pears",
          "Honeycrisp Apples",
          "Pawpaw",
          "RI Greening Apples",
          "Grapes",
          "Apples",
          "Golden Delicious Apples",
          "Sugarcane",
          "Maize",
          "Sugar beets",
          "Green Chile Peppers",
          "Cabbage ",
          "Lettuce",
          "Russet Potatoes",
          "Corn",
          "Sweet Corn",
          " Pumpkins",
          "Cranberries",
          "Winter Wheat",
          "Pecans ",
          "Cortland Apples",
          "Cranberries",
          "Winter Wheat",
          "Pecans ",
          "Cortland Apples",
          "Beans",
          "Mushrooms",
          " Avocados",
          "Strawberries",
          "Pineapple",
          "Blueberries",
          "Sorghum",
          " Avocados",
          "Strawberries",
          "Pineapple",
          "Blueberries",
          "Sorghum",
          "Sunflowers",
          "Blackberries",
          "Watermelon",
          "Peaches",
          "Cherries",
          "Barley",
          "Peanuts",
          "Tomatoes",
          "Soybeans",
          "Collard Greens",
          " Hay",
          "Sweet Potatoes",
          "Honeybell Oranges",
          " Barley",
          " Hazelnuts",
          " Flaxseed",
          " Apples",
          " Beans",
          " Tomatoes",
          " Corn",
          " Apples",
          " Strawberries (and many Others)",
          " Peaches",
          " Sweet potatoes",
          " Rice",
          " Corn",
          " Chile peppers",
          " Potatoes",
          " Lettuce",
          " Potatoes",
          " Soybeans",
          " Peas",
          " Apples",
          " Cranberries",
          " Tomatoes",
          " Rice",
          " Cabbage",
          " Lentils",
          " Peaches",
          " Grapes",
          " Watermelon",
          " Macadamia nuts",
          " Potatoes",
          " Wheat",
          " Dry beans",
          " Peanuts",
          " Rice",
          " Blueberries",
          " Cherries",
          " Tart cherries",
          " Peanuts",
          " Tomatoes",
          " Pumpkins",
          " Melons",
          " Soybeans",
          " Sweet potato",
          " Oranges",
          " Maple syrup",
          " Sugar beet",
          " Corn",
          " Spinach",
          " Tomatoes",
          " Corn"
         ],
         "y": [
          "Spring",
          "Summer",
          "Spring",
          "Spring",
          "Summer",
          "Summer",
          "Summer",
          "Spring",
          "Spring",
          "Spring",
          "Spring",
          "Summer",
          "Summer",
          "Spring",
          "Spring",
          "Summer",
          "Spring",
          "Summer",
          "Spring",
          "Summer",
          "Spring",
          "Spring",
          "Summer",
          "Summer",
          "Spring",
          "Summer",
          "Spring",
          "Summer",
          "Spring",
          "Spring",
          "Summer",
          "Spring",
          "Summer",
          "Spring",
          "Summer",
          "Summer",
          "Summer",
          "Spring",
          "Summer",
          "Spring",
          "Summer",
          "Summer",
          "Spring",
          "Spring",
          "Summer",
          "Summer",
          "Summer",
          "Summer",
          "Spring",
          "Spring",
          "Spring",
          "Spring",
          "Spring",
          "Summer",
          "Summer",
          "Spring",
          "Summer",
          "Summer",
          "Summer",
          "Spring",
          "Spring",
          "Spring",
          "Spring",
          "Summer",
          "Spring",
          "Spring",
          "Summer",
          "Spring",
          "Summer",
          "Summer",
          "Summer",
          "Spring",
          "Summer",
          "Spring",
          "Summer",
          "Summer",
          "Summer",
          "Summer",
          "Spring",
          "Summer",
          "Summer",
          "Summer",
          "Summer",
          "Summer",
          "Spring",
          "Spring",
          "Spring",
          "Summer",
          "Summer",
          "Summer",
          "Summer",
          "Summer",
          "Summer",
          "Spring",
          "Summer",
          "Summer",
          "Spring",
          "Summer",
          "Summer",
          "Spring",
          "Summer",
          "Summer",
          "Summer",
          "Summer",
          "Summer",
          "Spring",
          "Summer",
          "Spring",
          "Summer",
          "Summer",
          "Spring",
          "Summer",
          "Summer",
          "Summer",
          "Spring",
          "Spring",
          "Summer",
          "Spring",
          "Spring",
          "Summer",
          "Summer",
          "Summer",
          "Summer",
          "Spring",
          "Spring",
          "Spring",
          "Summer",
          "Spring",
          "Summer",
          "Spring",
          "Spring",
          "Spring",
          "Summer",
          "Summer",
          "Spring",
          "Spring",
          "Summer",
          "Summer",
          "Summer",
          "Summer",
          "Spring",
          "Spring",
          "Summer",
          "Spring",
          "Spring",
          "Summer",
          "Spring",
          "Summer",
          "Spring",
          "Summer",
          "Summer",
          "Fall",
          "Fall",
          "Fall",
          "Fall",
          "Fall",
          "Fall",
          "Fall",
          "Fall",
          "Fall",
          "Fall",
          "Fall",
          "Fall",
          "Fall",
          "Fall",
          "Fall",
          "Fall",
          "Fall",
          "Fall",
          "Fall",
          "Fall",
          "Fall",
          "Fall",
          "Fall",
          "Fall",
          "Winter",
          "Winter",
          "Winter",
          "Winter",
          "Spring",
          "Spring",
          "Spring",
          "Spring",
          "Spring",
          "Spring",
          "Spring",
          "Summer",
          "Summer",
          "Summer",
          "Summer",
          "Summer",
          "Summer",
          "Summer",
          "Summer",
          "Summer",
          "Summer",
          "Summer",
          "Summer",
          "Summer",
          "Summer",
          "Summer",
          "Summer",
          "Summer",
          "Winter",
          "Spring",
          "Summer",
          "Spring",
          "Fall",
          "Summer",
          "Spring",
          "Fall",
          "Spring",
          "Winter",
          "Summer",
          "Fall",
          "Fall",
          "Fall",
          "Spring",
          "Spring",
          "Fall",
          "Spring",
          "Fall",
          "Spring",
          "Summer",
          "Fall",
          "Summer",
          "Spring",
          "Spring",
          "Spring",
          "Spring",
          "Spring",
          "Spring",
          "Fall",
          "Spring",
          "Winter",
          "Spring",
          "Spring",
          "Spring",
          "Summer",
          "Spring",
          "Fall",
          "Summer",
          "Summer",
          "Summer",
          "Spring",
          "Fall",
          "Spring",
          "Spring",
          "Fall",
          "Spring",
          "Spring",
          "Spring",
          "Spring",
          "Fall"
         ]
        }
       ],
       "layout": {
        "plot_bgcolor": "rgb(230, 230,230)",
        "showlegend": true,
        "template": {
         "data": {
          "bar": [
           {
            "error_x": {
             "color": "#2a3f5f"
            },
            "error_y": {
             "color": "#2a3f5f"
            },
            "marker": {
             "line": {
              "color": "#E5ECF6",
              "width": 0.5
             }
            },
            "type": "bar"
           }
          ],
          "barpolar": [
           {
            "marker": {
             "line": {
              "color": "#E5ECF6",
              "width": 0.5
             }
            },
            "type": "barpolar"
           }
          ],
          "carpet": [
           {
            "aaxis": {
             "endlinecolor": "#2a3f5f",
             "gridcolor": "white",
             "linecolor": "white",
             "minorgridcolor": "white",
             "startlinecolor": "#2a3f5f"
            },
            "baxis": {
             "endlinecolor": "#2a3f5f",
             "gridcolor": "white",
             "linecolor": "white",
             "minorgridcolor": "white",
             "startlinecolor": "#2a3f5f"
            },
            "type": "carpet"
           }
          ],
          "choropleth": [
           {
            "colorbar": {
             "outlinewidth": 0,
             "ticks": ""
            },
            "type": "choropleth"
           }
          ],
          "contour": [
           {
            "colorbar": {
             "outlinewidth": 0,
             "ticks": ""
            },
            "colorscale": [
             [
              0,
              "#0d0887"
             ],
             [
              0.1111111111111111,
              "#46039f"
             ],
             [
              0.2222222222222222,
              "#7201a8"
             ],
             [
              0.3333333333333333,
              "#9c179e"
             ],
             [
              0.4444444444444444,
              "#bd3786"
             ],
             [
              0.5555555555555556,
              "#d8576b"
             ],
             [
              0.6666666666666666,
              "#ed7953"
             ],
             [
              0.7777777777777778,
              "#fb9f3a"
             ],
             [
              0.8888888888888888,
              "#fdca26"
             ],
             [
              1,
              "#f0f921"
             ]
            ],
            "type": "contour"
           }
          ],
          "contourcarpet": [
           {
            "colorbar": {
             "outlinewidth": 0,
             "ticks": ""
            },
            "type": "contourcarpet"
           }
          ],
          "heatmap": [
           {
            "colorbar": {
             "outlinewidth": 0,
             "ticks": ""
            },
            "colorscale": [
             [
              0,
              "#0d0887"
             ],
             [
              0.1111111111111111,
              "#46039f"
             ],
             [
              0.2222222222222222,
              "#7201a8"
             ],
             [
              0.3333333333333333,
              "#9c179e"
             ],
             [
              0.4444444444444444,
              "#bd3786"
             ],
             [
              0.5555555555555556,
              "#d8576b"
             ],
             [
              0.6666666666666666,
              "#ed7953"
             ],
             [
              0.7777777777777778,
              "#fb9f3a"
             ],
             [
              0.8888888888888888,
              "#fdca26"
             ],
             [
              1,
              "#f0f921"
             ]
            ],
            "type": "heatmap"
           }
          ],
          "heatmapgl": [
           {
            "colorbar": {
             "outlinewidth": 0,
             "ticks": ""
            },
            "colorscale": [
             [
              0,
              "#0d0887"
             ],
             [
              0.1111111111111111,
              "#46039f"
             ],
             [
              0.2222222222222222,
              "#7201a8"
             ],
             [
              0.3333333333333333,
              "#9c179e"
             ],
             [
              0.4444444444444444,
              "#bd3786"
             ],
             [
              0.5555555555555556,
              "#d8576b"
             ],
             [
              0.6666666666666666,
              "#ed7953"
             ],
             [
              0.7777777777777778,
              "#fb9f3a"
             ],
             [
              0.8888888888888888,
              "#fdca26"
             ],
             [
              1,
              "#f0f921"
             ]
            ],
            "type": "heatmapgl"
           }
          ],
          "histogram": [
           {
            "marker": {
             "colorbar": {
              "outlinewidth": 0,
              "ticks": ""
             }
            },
            "type": "histogram"
           }
          ],
          "histogram2d": [
           {
            "colorbar": {
             "outlinewidth": 0,
             "ticks": ""
            },
            "colorscale": [
             [
              0,
              "#0d0887"
             ],
             [
              0.1111111111111111,
              "#46039f"
             ],
             [
              0.2222222222222222,
              "#7201a8"
             ],
             [
              0.3333333333333333,
              "#9c179e"
             ],
             [
              0.4444444444444444,
              "#bd3786"
             ],
             [
              0.5555555555555556,
              "#d8576b"
             ],
             [
              0.6666666666666666,
              "#ed7953"
             ],
             [
              0.7777777777777778,
              "#fb9f3a"
             ],
             [
              0.8888888888888888,
              "#fdca26"
             ],
             [
              1,
              "#f0f921"
             ]
            ],
            "type": "histogram2d"
           }
          ],
          "histogram2dcontour": [
           {
            "colorbar": {
             "outlinewidth": 0,
             "ticks": ""
            },
            "colorscale": [
             [
              0,
              "#0d0887"
             ],
             [
              0.1111111111111111,
              "#46039f"
             ],
             [
              0.2222222222222222,
              "#7201a8"
             ],
             [
              0.3333333333333333,
              "#9c179e"
             ],
             [
              0.4444444444444444,
              "#bd3786"
             ],
             [
              0.5555555555555556,
              "#d8576b"
             ],
             [
              0.6666666666666666,
              "#ed7953"
             ],
             [
              0.7777777777777778,
              "#fb9f3a"
             ],
             [
              0.8888888888888888,
              "#fdca26"
             ],
             [
              1,
              "#f0f921"
             ]
            ],
            "type": "histogram2dcontour"
           }
          ],
          "mesh3d": [
           {
            "colorbar": {
             "outlinewidth": 0,
             "ticks": ""
            },
            "type": "mesh3d"
           }
          ],
          "parcoords": [
           {
            "line": {
             "colorbar": {
              "outlinewidth": 0,
              "ticks": ""
             }
            },
            "type": "parcoords"
           }
          ],
          "pie": [
           {
            "automargin": true,
            "type": "pie"
           }
          ],
          "scatter": [
           {
            "marker": {
             "colorbar": {
              "outlinewidth": 0,
              "ticks": ""
             }
            },
            "type": "scatter"
           }
          ],
          "scatter3d": [
           {
            "line": {
             "colorbar": {
              "outlinewidth": 0,
              "ticks": ""
             }
            },
            "marker": {
             "colorbar": {
              "outlinewidth": 0,
              "ticks": ""
             }
            },
            "type": "scatter3d"
           }
          ],
          "scattercarpet": [
           {
            "marker": {
             "colorbar": {
              "outlinewidth": 0,
              "ticks": ""
             }
            },
            "type": "scattercarpet"
           }
          ],
          "scattergeo": [
           {
            "marker": {
             "colorbar": {
              "outlinewidth": 0,
              "ticks": ""
             }
            },
            "type": "scattergeo"
           }
          ],
          "scattergl": [
           {
            "marker": {
             "colorbar": {
              "outlinewidth": 0,
              "ticks": ""
             }
            },
            "type": "scattergl"
           }
          ],
          "scattermapbox": [
           {
            "marker": {
             "colorbar": {
              "outlinewidth": 0,
              "ticks": ""
             }
            },
            "type": "scattermapbox"
           }
          ],
          "scatterpolar": [
           {
            "marker": {
             "colorbar": {
              "outlinewidth": 0,
              "ticks": ""
             }
            },
            "type": "scatterpolar"
           }
          ],
          "scatterpolargl": [
           {
            "marker": {
             "colorbar": {
              "outlinewidth": 0,
              "ticks": ""
             }
            },
            "type": "scatterpolargl"
           }
          ],
          "scatterternary": [
           {
            "marker": {
             "colorbar": {
              "outlinewidth": 0,
              "ticks": ""
             }
            },
            "type": "scatterternary"
           }
          ],
          "surface": [
           {
            "colorbar": {
             "outlinewidth": 0,
             "ticks": ""
            },
            "colorscale": [
             [
              0,
              "#0d0887"
             ],
             [
              0.1111111111111111,
              "#46039f"
             ],
             [
              0.2222222222222222,
              "#7201a8"
             ],
             [
              0.3333333333333333,
              "#9c179e"
             ],
             [
              0.4444444444444444,
              "#bd3786"
             ],
             [
              0.5555555555555556,
              "#d8576b"
             ],
             [
              0.6666666666666666,
              "#ed7953"
             ],
             [
              0.7777777777777778,
              "#fb9f3a"
             ],
             [
              0.8888888888888888,
              "#fdca26"
             ],
             [
              1,
              "#f0f921"
             ]
            ],
            "type": "surface"
           }
          ],
          "table": [
           {
            "cells": {
             "fill": {
              "color": "#EBF0F8"
             },
             "line": {
              "color": "white"
             }
            },
            "header": {
             "fill": {
              "color": "#C8D4E3"
             },
             "line": {
              "color": "white"
             }
            },
            "type": "table"
           }
          ]
         },
         "layout": {
          "annotationdefaults": {
           "arrowcolor": "#2a3f5f",
           "arrowhead": 0,
           "arrowwidth": 1
          },
          "coloraxis": {
           "colorbar": {
            "outlinewidth": 0,
            "ticks": ""
           }
          },
          "colorscale": {
           "diverging": [
            [
             0,
             "#8e0152"
            ],
            [
             0.1,
             "#c51b7d"
            ],
            [
             0.2,
             "#de77ae"
            ],
            [
             0.3,
             "#f1b6da"
            ],
            [
             0.4,
             "#fde0ef"
            ],
            [
             0.5,
             "#f7f7f7"
            ],
            [
             0.6,
             "#e6f5d0"
            ],
            [
             0.7,
             "#b8e186"
            ],
            [
             0.8,
             "#7fbc41"
            ],
            [
             0.9,
             "#4d9221"
            ],
            [
             1,
             "#276419"
            ]
           ],
           "sequential": [
            [
             0,
             "#0d0887"
            ],
            [
             0.1111111111111111,
             "#46039f"
            ],
            [
             0.2222222222222222,
             "#7201a8"
            ],
            [
             0.3333333333333333,
             "#9c179e"
            ],
            [
             0.4444444444444444,
             "#bd3786"
            ],
            [
             0.5555555555555556,
             "#d8576b"
            ],
            [
             0.6666666666666666,
             "#ed7953"
            ],
            [
             0.7777777777777778,
             "#fb9f3a"
            ],
            [
             0.8888888888888888,
             "#fdca26"
            ],
            [
             1,
             "#f0f921"
            ]
           ],
           "sequentialminus": [
            [
             0,
             "#0d0887"
            ],
            [
             0.1111111111111111,
             "#46039f"
            ],
            [
             0.2222222222222222,
             "#7201a8"
            ],
            [
             0.3333333333333333,
             "#9c179e"
            ],
            [
             0.4444444444444444,
             "#bd3786"
            ],
            [
             0.5555555555555556,
             "#d8576b"
            ],
            [
             0.6666666666666666,
             "#ed7953"
            ],
            [
             0.7777777777777778,
             "#fb9f3a"
            ],
            [
             0.8888888888888888,
             "#fdca26"
            ],
            [
             1,
             "#f0f921"
            ]
           ]
          },
          "colorway": [
           "#636efa",
           "#EF553B",
           "#00cc96",
           "#ab63fa",
           "#FFA15A",
           "#19d3f3",
           "#FF6692",
           "#B6E880",
           "#FF97FF",
           "#FECB52"
          ],
          "font": {
           "color": "#2a3f5f"
          },
          "geo": {
           "bgcolor": "white",
           "lakecolor": "white",
           "landcolor": "#E5ECF6",
           "showlakes": true,
           "showland": true,
           "subunitcolor": "white"
          },
          "hoverlabel": {
           "align": "left"
          },
          "hovermode": "closest",
          "mapbox": {
           "style": "light"
          },
          "paper_bgcolor": "white",
          "plot_bgcolor": "#E5ECF6",
          "polar": {
           "angularaxis": {
            "gridcolor": "white",
            "linecolor": "white",
            "ticks": ""
           },
           "bgcolor": "#E5ECF6",
           "radialaxis": {
            "gridcolor": "white",
            "linecolor": "white",
            "ticks": ""
           }
          },
          "scene": {
           "xaxis": {
            "backgroundcolor": "#E5ECF6",
            "gridcolor": "white",
            "gridwidth": 2,
            "linecolor": "white",
            "showbackground": true,
            "ticks": "",
            "zerolinecolor": "white"
           },
           "yaxis": {
            "backgroundcolor": "#E5ECF6",
            "gridcolor": "white",
            "gridwidth": 2,
            "linecolor": "white",
            "showbackground": true,
            "ticks": "",
            "zerolinecolor": "white"
           },
           "zaxis": {
            "backgroundcolor": "#E5ECF6",
            "gridcolor": "white",
            "gridwidth": 2,
            "linecolor": "white",
            "showbackground": true,
            "ticks": "",
            "zerolinecolor": "white"
           }
          },
          "shapedefaults": {
           "line": {
            "color": "#2a3f5f"
           }
          },
          "ternary": {
           "aaxis": {
            "gridcolor": "white",
            "linecolor": "white",
            "ticks": ""
           },
           "baxis": {
            "gridcolor": "white",
            "linecolor": "white",
            "ticks": ""
           },
           "bgcolor": "#E5ECF6",
           "caxis": {
            "gridcolor": "white",
            "linecolor": "white",
            "ticks": ""
           }
          },
          "title": {
           "x": 0.05
          },
          "xaxis": {
           "automargin": true,
           "gridcolor": "white",
           "linecolor": "white",
           "ticks": "",
           "title": {
            "standoff": 15
           },
           "zerolinecolor": "white",
           "zerolinewidth": 2
          },
          "yaxis": {
           "automargin": true,
           "gridcolor": "white",
           "linecolor": "white",
           "ticks": "",
           "title": {
            "standoff": 15
           },
           "zerolinecolor": "white",
           "zerolinewidth": 2
          }
         }
        },
        "title": {
         "text": "PUBG Wins vs Rounds Played"
        }
       }
      },
      "text/html": [
       "<div>                            <div id=\"ccd65a5b-939f-4d28-a5a7-7040713fb7cb\" class=\"plotly-graph-div\" style=\"height:525px; width:100%;\"></div>            <script type=\"text/javascript\">                require([\"plotly\"], function(Plotly) {                    window.PLOTLYENV=window.PLOTLYENV || {};                                    if (document.getElementById(\"ccd65a5b-939f-4d28-a5a7-7040713fb7cb\")) {                    Plotly.newPlot(                        \"ccd65a5b-939f-4d28-a5a7-7040713fb7cb\",                        [{\"name\": \"Rounds Won\", \"type\": \"bar\", \"x\": [\"Aconite\", \"Ageratum\", \"Allium\", \"Anemone\", \"Angelica\", \"Angelonia\", \"Artemisia\", \"Aster\", \"Astilbe\", \"Aubrieta\", \"Azalea\", \"Balloon Flower\", \"Balsam\", \"Baneberry\", \"Basket of Gold\", \"Bee Balm\", \"Begonia\", \"Bellflower\", \"Bergenia\", \"Blackeyed Susan\", \"Bleeding Heart\", \"Bloodroot\", \"Boneset\", \"Browallia\", \"Bugleweed\", \"Bugloss\", \"Buttercup\", \"Butterfly Weed\", \"Caladium\", \"Calendula\", \"California Poppy\", \"Canterbury Bells\", \"Cardinal Flower\", \"Carnation\", \"Castor Bean\", \"Catmint\", \"Celosia\", \"Chives\", \"Chrysanthemum\", \"Clary Sage\", \"Cleome\", \"Coleus\", \"Columbine\", \"Comfrey\", \"Coneflower\", \"Coreopsis\", \"Corydalis\", \"Cosmos\", \"Crocus\", \"Crown Imperial\", \"Cushion Spurge\", \"Cyclamen\", \"Daffodil\", \"Dahlia\", \"Daisy\", \"Dame\\u2019s Rocket\", \"Delphinium\", \"Diascia\", \"Dusty Miller\", \"Dutchman's Breeches\", \"Entire Spring Snowflake\", \"Epimedium\", \"Evergreen Candytuft \", \"Fennel\", \"Fountain Grass\", \"Foxglove\", \"Gaillardia\", \"Gas Plant\", \"Gaura\", \"Gazania\", \"Geranium\", \"Geum\", \"Globe Thistle\", \"Glory of the Snow\", \"Goatsbeard\", \"Golden Marguerite\", \"Gomphrena\", \"Heliotrope\", \"Hepatica\", \"Hollyhock\", \"Hosta\", \"Hyacinth\", \"Hyssop\", \"Impatiens\", \"Iris\", \"Jack-in-the-Pulpit\", \"Jacob\\u2019s Ladder\", \"Lady's Mantle\", \"Lantana\", \"Lavender\", \"Lavender Cotton\", \"Leadwort\", \"Lemon Balm\", \"Lily\", \"Lobelia\", \"Lupine\", \"Maiden Pink\", \"Malva\", \"Marigold\", \"Mazus\", \"Mirabilis\", \"Moonflower\", \"Morning Glory\", \"Nasturtium\", \"Nierembergia\", \"Orchid\", \"Osteospermum\", \"Pansy\", \"Pearly Everlasting\", \"Perennial Flax\", \"Periwinkle\", \"Petunia\", \"Pincushion Flower\", \"Polka Dot Plant\", \"Primrose\", \"Ranunculus\", \"Red Valerian\", \"Rock Soapwort\", \"Rose\", \"Rue\", \"Sanvitalia\", \"Scarlet Sage\", \"Sea Lavender\", \"Sea Thrift\", \"Shirley Poppy\", \"Shooting Star\", \"Silvermound\", \"Skunk Cabbage\", \"Snapdragon\", \"Snow in Summer\", \"Snowdrop\", \"Solomon's Seal\", \"Summer Savory\", \"Sunflower\", \"Sweet Alyssum\", \"Sweet Woodruff\", \"Tansy\", \"Thunbergia\", \"Tithonia\", \"Torenia\", \"Trillium\", \"Tulip\", \"Verbena\", \"Violet\", \"Virginia Bluebell\", \"Wild Senna\", \"Windflower\", \"Yarrow\", \"Yellow Archangel\", \"Yellow Loosestrife\", \"Zinnia\", \"Alfalfa Seed\", \"Hops\", \"Flaxseed\", \"Asian Pears\", \"Honeycrisp Apples\", \"Pawpaw\", \"RI Greening Apples\", \"Grapes\", \"Apples\", \"Golden Delicious Apples\", \"Sugarcane\", \"Maize\", \"Sugar beets\", \"Green Chile Peppers\", \"Cabbage \", \"Lettuce\", \"Russet Potatoes\", \"Corn\", \"Sweet Corn\", \" Pumpkins\", \"Cranberries\", \"Winter Wheat\", \"Pecans \", \"Cortland Apples\", \"Cranberries\", \"Winter Wheat\", \"Pecans \", \"Cortland Apples\", \"Beans\", \"Mushrooms\", \" Avocados\", \"Strawberries\", \"Pineapple\", \"Blueberries\", \"Sorghum\", \" Avocados\", \"Strawberries\", \"Pineapple\", \"Blueberries\", \"Sorghum\", \"Sunflowers\", \"Blackberries\", \"Watermelon\", \"Peaches\", \"Cherries\", \"Barley\", \"Peanuts\", \"Tomatoes\", \"Soybeans\", \"Collard Greens\", \" Hay\", \"Sweet Potatoes\", \"Honeybell Oranges\", \" Barley\", \" Hazelnuts\", \" Flaxseed\", \" Apples\", \" Beans\", \" Tomatoes\", \" Corn\", \" Apples\", \" Strawberries (and many Others)\", \" Peaches\", \" Sweet potatoes\", \" Rice\", \" Corn\", \" Chile peppers\", \" Potatoes\", \" Lettuce\", \" Potatoes\", \" Soybeans\", \" Peas\", \" Apples\", \" Cranberries\", \" Tomatoes\", \" Rice\", \" Cabbage\", \" Lentils\", \" Peaches\", \" Grapes\", \" Watermelon\", \" Macadamia nuts\", \" Potatoes\", \" Wheat\", \" Dry beans\", \" Peanuts\", \" Rice\", \" Blueberries\", \" Cherries\", \" Tart cherries\", \" Peanuts\", \" Tomatoes\", \" Pumpkins\", \" Melons\", \" Soybeans\", \" Sweet potato\", \" Oranges\", \" Maple syrup\", \" Sugar beet\", \" Corn\", \" Spinach\", \" Tomatoes\", \" Corn\"], \"y\": [\"Spring\", \"Summer\", \"Spring\", \"Spring\", \"Summer\", \"Summer\", \"Summer\", \"Spring\", \"Spring\", \"Spring\", \"Spring\", \"Summer\", \"Summer\", \"Spring\", \"Spring\", \"Summer\", \"Spring\", \"Summer\", \"Spring\", \"Summer\", \"Spring\", \"Spring\", \"Summer\", \"Summer\", \"Spring\", \"Summer\", \"Spring\", \"Summer\", \"Spring\", \"Spring\", \"Summer\", \"Spring\", \"Summer\", \"Spring\", \"Summer\", \"Summer\", \"Summer\", \"Spring\", \"Summer\", \"Spring\", \"Summer\", \"Summer\", \"Spring\", \"Spring\", \"Summer\", \"Summer\", \"Summer\", \"Summer\", \"Spring\", \"Spring\", \"Spring\", \"Spring\", \"Spring\", \"Summer\", \"Summer\", \"Spring\", \"Summer\", \"Summer\", \"Summer\", \"Spring\", \"Spring\", \"Spring\", \"Spring\", \"Summer\", \"Spring\", \"Spring\", \"Summer\", \"Spring\", \"Summer\", \"Summer\", \"Summer\", \"Spring\", \"Summer\", \"Spring\", \"Summer\", \"Summer\", \"Summer\", \"Summer\", \"Spring\", \"Summer\", \"Summer\", \"Summer\", \"Summer\", \"Summer\", \"Spring\", \"Spring\", \"Spring\", \"Summer\", \"Summer\", \"Summer\", \"Summer\", \"Summer\", \"Summer\", \"Spring\", \"Summer\", \"Summer\", \"Spring\", \"Summer\", \"Summer\", \"Spring\", \"Summer\", \"Summer\", \"Summer\", \"Summer\", \"Summer\", \"Spring\", \"Summer\", \"Spring\", \"Summer\", \"Summer\", \"Spring\", \"Summer\", \"Summer\", \"Summer\", \"Spring\", \"Spring\", \"Summer\", \"Spring\", \"Spring\", \"Summer\", \"Summer\", \"Summer\", \"Summer\", \"Spring\", \"Spring\", \"Spring\", \"Summer\", \"Spring\", \"Summer\", \"Spring\", \"Spring\", \"Spring\", \"Summer\", \"Summer\", \"Spring\", \"Spring\", \"Summer\", \"Summer\", \"Summer\", \"Summer\", \"Spring\", \"Spring\", \"Summer\", \"Spring\", \"Spring\", \"Summer\", \"Spring\", \"Summer\", \"Spring\", \"Summer\", \"Summer\", \"Fall\", \"Fall\", \"Fall\", \"Fall\", \"Fall\", \"Fall\", \"Fall\", \"Fall\", \"Fall\", \"Fall\", \"Fall\", \"Fall\", \"Fall\", \"Fall\", \"Fall\", \"Fall\", \"Fall\", \"Fall\", \"Fall\", \"Fall\", \"Fall\", \"Fall\", \"Fall\", \"Fall\", \"Winter\", \"Winter\", \"Winter\", \"Winter\", \"Spring\", \"Spring\", \"Spring\", \"Spring\", \"Spring\", \"Spring\", \"Spring\", \"Summer\", \"Summer\", \"Summer\", \"Summer\", \"Summer\", \"Summer\", \"Summer\", \"Summer\", \"Summer\", \"Summer\", \"Summer\", \"Summer\", \"Summer\", \"Summer\", \"Summer\", \"Summer\", \"Summer\", \"Winter\", \"Spring\", \"Summer\", \"Spring\", \"Fall\", \"Summer\", \"Spring\", \"Fall\", \"Spring\", \"Winter\", \"Summer\", \"Fall\", \"Fall\", \"Fall\", \"Spring\", \"Spring\", \"Fall\", \"Spring\", \"Fall\", \"Spring\", \"Summer\", \"Fall\", \"Summer\", \"Spring\", \"Spring\", \"Spring\", \"Spring\", \"Spring\", \"Spring\", \"Fall\", \"Spring\", \"Winter\", \"Spring\", \"Spring\", \"Spring\", \"Summer\", \"Spring\", \"Fall\", \"Summer\", \"Summer\", \"Summer\", \"Spring\", \"Fall\", \"Spring\", \"Spring\", \"Fall\", \"Spring\", \"Spring\", \"Spring\", \"Spring\", \"Fall\"]}],                        {\"plot_bgcolor\": \"rgb(230, 230,230)\", \"showlegend\": true, \"template\": {\"data\": {\"bar\": [{\"error_x\": {\"color\": \"#2a3f5f\"}, \"error_y\": {\"color\": \"#2a3f5f\"}, \"marker\": {\"line\": {\"color\": \"#E5ECF6\", \"width\": 0.5}}, \"type\": \"bar\"}], \"barpolar\": [{\"marker\": {\"line\": {\"color\": \"#E5ECF6\", \"width\": 0.5}}, \"type\": \"barpolar\"}], \"carpet\": [{\"aaxis\": {\"endlinecolor\": \"#2a3f5f\", \"gridcolor\": \"white\", \"linecolor\": \"white\", \"minorgridcolor\": \"white\", \"startlinecolor\": \"#2a3f5f\"}, \"baxis\": {\"endlinecolor\": \"#2a3f5f\", \"gridcolor\": \"white\", \"linecolor\": \"white\", \"minorgridcolor\": \"white\", \"startlinecolor\": \"#2a3f5f\"}, \"type\": \"carpet\"}], \"choropleth\": [{\"colorbar\": {\"outlinewidth\": 0, \"ticks\": \"\"}, \"type\": \"choropleth\"}], \"contour\": [{\"colorbar\": {\"outlinewidth\": 0, \"ticks\": \"\"}, \"colorscale\": [[0.0, \"#0d0887\"], [0.1111111111111111, \"#46039f\"], [0.2222222222222222, \"#7201a8\"], [0.3333333333333333, \"#9c179e\"], [0.4444444444444444, \"#bd3786\"], [0.5555555555555556, \"#d8576b\"], [0.6666666666666666, \"#ed7953\"], [0.7777777777777778, \"#fb9f3a\"], [0.8888888888888888, \"#fdca26\"], [1.0, \"#f0f921\"]], \"type\": \"contour\"}], \"contourcarpet\": [{\"colorbar\": {\"outlinewidth\": 0, \"ticks\": \"\"}, \"type\": \"contourcarpet\"}], \"heatmap\": [{\"colorbar\": {\"outlinewidth\": 0, \"ticks\": \"\"}, \"colorscale\": [[0.0, \"#0d0887\"], [0.1111111111111111, \"#46039f\"], [0.2222222222222222, \"#7201a8\"], [0.3333333333333333, \"#9c179e\"], [0.4444444444444444, \"#bd3786\"], [0.5555555555555556, \"#d8576b\"], [0.6666666666666666, \"#ed7953\"], [0.7777777777777778, \"#fb9f3a\"], [0.8888888888888888, \"#fdca26\"], [1.0, \"#f0f921\"]], \"type\": \"heatmap\"}], \"heatmapgl\": [{\"colorbar\": {\"outlinewidth\": 0, \"ticks\": \"\"}, \"colorscale\": [[0.0, \"#0d0887\"], [0.1111111111111111, \"#46039f\"], [0.2222222222222222, \"#7201a8\"], [0.3333333333333333, \"#9c179e\"], [0.4444444444444444, \"#bd3786\"], [0.5555555555555556, \"#d8576b\"], [0.6666666666666666, \"#ed7953\"], [0.7777777777777778, \"#fb9f3a\"], [0.8888888888888888, \"#fdca26\"], [1.0, \"#f0f921\"]], \"type\": \"heatmapgl\"}], \"histogram\": [{\"marker\": {\"colorbar\": {\"outlinewidth\": 0, \"ticks\": \"\"}}, \"type\": \"histogram\"}], \"histogram2d\": [{\"colorbar\": {\"outlinewidth\": 0, \"ticks\": \"\"}, \"colorscale\": [[0.0, \"#0d0887\"], [0.1111111111111111, \"#46039f\"], [0.2222222222222222, \"#7201a8\"], [0.3333333333333333, \"#9c179e\"], [0.4444444444444444, \"#bd3786\"], [0.5555555555555556, \"#d8576b\"], [0.6666666666666666, \"#ed7953\"], [0.7777777777777778, \"#fb9f3a\"], [0.8888888888888888, \"#fdca26\"], [1.0, \"#f0f921\"]], \"type\": \"histogram2d\"}], \"histogram2dcontour\": [{\"colorbar\": {\"outlinewidth\": 0, \"ticks\": \"\"}, \"colorscale\": [[0.0, \"#0d0887\"], [0.1111111111111111, \"#46039f\"], [0.2222222222222222, \"#7201a8\"], [0.3333333333333333, \"#9c179e\"], [0.4444444444444444, \"#bd3786\"], [0.5555555555555556, \"#d8576b\"], [0.6666666666666666, \"#ed7953\"], [0.7777777777777778, \"#fb9f3a\"], [0.8888888888888888, \"#fdca26\"], [1.0, \"#f0f921\"]], \"type\": \"histogram2dcontour\"}], \"mesh3d\": [{\"colorbar\": {\"outlinewidth\": 0, \"ticks\": \"\"}, \"type\": \"mesh3d\"}], \"parcoords\": [{\"line\": {\"colorbar\": {\"outlinewidth\": 0, \"ticks\": \"\"}}, \"type\": \"parcoords\"}], \"pie\": [{\"automargin\": true, \"type\": \"pie\"}], \"scatter\": [{\"marker\": {\"colorbar\": {\"outlinewidth\": 0, \"ticks\": \"\"}}, \"type\": \"scatter\"}], \"scatter3d\": [{\"line\": {\"colorbar\": {\"outlinewidth\": 0, \"ticks\": \"\"}}, \"marker\": {\"colorbar\": {\"outlinewidth\": 0, \"ticks\": \"\"}}, \"type\": \"scatter3d\"}], \"scattercarpet\": [{\"marker\": {\"colorbar\": {\"outlinewidth\": 0, \"ticks\": \"\"}}, \"type\": \"scattercarpet\"}], \"scattergeo\": [{\"marker\": {\"colorbar\": {\"outlinewidth\": 0, \"ticks\": \"\"}}, \"type\": \"scattergeo\"}], \"scattergl\": [{\"marker\": {\"colorbar\": {\"outlinewidth\": 0, \"ticks\": \"\"}}, \"type\": \"scattergl\"}], \"scattermapbox\": [{\"marker\": {\"colorbar\": {\"outlinewidth\": 0, \"ticks\": \"\"}}, \"type\": \"scattermapbox\"}], \"scatterpolar\": [{\"marker\": {\"colorbar\": {\"outlinewidth\": 0, \"ticks\": \"\"}}, \"type\": \"scatterpolar\"}], \"scatterpolargl\": [{\"marker\": {\"colorbar\": {\"outlinewidth\": 0, \"ticks\": \"\"}}, \"type\": \"scatterpolargl\"}], \"scatterternary\": [{\"marker\": {\"colorbar\": {\"outlinewidth\": 0, \"ticks\": \"\"}}, \"type\": \"scatterternary\"}], \"surface\": [{\"colorbar\": {\"outlinewidth\": 0, \"ticks\": \"\"}, \"colorscale\": [[0.0, \"#0d0887\"], [0.1111111111111111, \"#46039f\"], [0.2222222222222222, \"#7201a8\"], [0.3333333333333333, \"#9c179e\"], [0.4444444444444444, \"#bd3786\"], [0.5555555555555556, \"#d8576b\"], [0.6666666666666666, \"#ed7953\"], [0.7777777777777778, \"#fb9f3a\"], [0.8888888888888888, \"#fdca26\"], [1.0, \"#f0f921\"]], \"type\": \"surface\"}], \"table\": [{\"cells\": {\"fill\": {\"color\": \"#EBF0F8\"}, \"line\": {\"color\": \"white\"}}, \"header\": {\"fill\": {\"color\": \"#C8D4E3\"}, \"line\": {\"color\": \"white\"}}, \"type\": \"table\"}]}, \"layout\": {\"annotationdefaults\": {\"arrowcolor\": \"#2a3f5f\", \"arrowhead\": 0, \"arrowwidth\": 1}, \"coloraxis\": {\"colorbar\": {\"outlinewidth\": 0, \"ticks\": \"\"}}, \"colorscale\": {\"diverging\": [[0, \"#8e0152\"], [0.1, \"#c51b7d\"], [0.2, \"#de77ae\"], [0.3, \"#f1b6da\"], [0.4, \"#fde0ef\"], [0.5, \"#f7f7f7\"], [0.6, \"#e6f5d0\"], [0.7, \"#b8e186\"], [0.8, \"#7fbc41\"], [0.9, \"#4d9221\"], [1, \"#276419\"]], \"sequential\": [[0.0, \"#0d0887\"], [0.1111111111111111, \"#46039f\"], [0.2222222222222222, \"#7201a8\"], [0.3333333333333333, \"#9c179e\"], [0.4444444444444444, \"#bd3786\"], [0.5555555555555556, \"#d8576b\"], [0.6666666666666666, \"#ed7953\"], [0.7777777777777778, \"#fb9f3a\"], [0.8888888888888888, \"#fdca26\"], [1.0, \"#f0f921\"]], \"sequentialminus\": [[0.0, \"#0d0887\"], [0.1111111111111111, \"#46039f\"], [0.2222222222222222, \"#7201a8\"], [0.3333333333333333, \"#9c179e\"], [0.4444444444444444, \"#bd3786\"], [0.5555555555555556, \"#d8576b\"], [0.6666666666666666, \"#ed7953\"], [0.7777777777777778, \"#fb9f3a\"], [0.8888888888888888, \"#fdca26\"], [1.0, \"#f0f921\"]]}, \"colorway\": [\"#636efa\", \"#EF553B\", \"#00cc96\", \"#ab63fa\", \"#FFA15A\", \"#19d3f3\", \"#FF6692\", \"#B6E880\", \"#FF97FF\", \"#FECB52\"], \"font\": {\"color\": \"#2a3f5f\"}, \"geo\": {\"bgcolor\": \"white\", \"lakecolor\": \"white\", \"landcolor\": \"#E5ECF6\", \"showlakes\": true, \"showland\": true, \"subunitcolor\": \"white\"}, \"hoverlabel\": {\"align\": \"left\"}, \"hovermode\": \"closest\", \"mapbox\": {\"style\": \"light\"}, \"paper_bgcolor\": \"white\", \"plot_bgcolor\": \"#E5ECF6\", \"polar\": {\"angularaxis\": {\"gridcolor\": \"white\", \"linecolor\": \"white\", \"ticks\": \"\"}, \"bgcolor\": \"#E5ECF6\", \"radialaxis\": {\"gridcolor\": \"white\", \"linecolor\": \"white\", \"ticks\": \"\"}}, \"scene\": {\"xaxis\": {\"backgroundcolor\": \"#E5ECF6\", \"gridcolor\": \"white\", \"gridwidth\": 2, \"linecolor\": \"white\", \"showbackground\": true, \"ticks\": \"\", \"zerolinecolor\": \"white\"}, \"yaxis\": {\"backgroundcolor\": \"#E5ECF6\", \"gridcolor\": \"white\", \"gridwidth\": 2, \"linecolor\": \"white\", \"showbackground\": true, \"ticks\": \"\", \"zerolinecolor\": \"white\"}, \"zaxis\": {\"backgroundcolor\": \"#E5ECF6\", \"gridcolor\": \"white\", \"gridwidth\": 2, \"linecolor\": \"white\", \"showbackground\": true, \"ticks\": \"\", \"zerolinecolor\": \"white\"}}, \"shapedefaults\": {\"line\": {\"color\": \"#2a3f5f\"}}, \"ternary\": {\"aaxis\": {\"gridcolor\": \"white\", \"linecolor\": \"white\", \"ticks\": \"\"}, \"baxis\": {\"gridcolor\": \"white\", \"linecolor\": \"white\", \"ticks\": \"\"}, \"bgcolor\": \"#E5ECF6\", \"caxis\": {\"gridcolor\": \"white\", \"linecolor\": \"white\", \"ticks\": \"\"}}, \"title\": {\"x\": 0.05}, \"xaxis\": {\"automargin\": true, \"gridcolor\": \"white\", \"linecolor\": \"white\", \"ticks\": \"\", \"title\": {\"standoff\": 15}, \"zerolinecolor\": \"white\", \"zerolinewidth\": 2}, \"yaxis\": {\"automargin\": true, \"gridcolor\": \"white\", \"linecolor\": \"white\", \"ticks\": \"\", \"title\": {\"standoff\": 15}, \"zerolinecolor\": \"white\", \"zerolinewidth\": 2}}}, \"title\": {\"text\": \"PUBG Wins vs Rounds Played\"}},                        {\"responsive\": true}                    ).then(function(){\n",
       "                            \n",
       "var gd = document.getElementById('ccd65a5b-939f-4d28-a5a7-7040713fb7cb');\n",
       "var x = new MutationObserver(function (mutations, observer) {{\n",
       "        var display = window.getComputedStyle(gd).display;\n",
       "        if (!display || display === 'none') {{\n",
       "            console.log([gd, 'removed!']);\n",
       "            Plotly.purge(gd);\n",
       "            observer.disconnect();\n",
       "        }}\n",
       "}});\n",
       "\n",
       "// Listen for the removal of the full notebook cells\n",
       "var notebookContainer = gd.closest('#notebook-container');\n",
       "if (notebookContainer) {{\n",
       "    x.observe(notebookContainer, {childList: true});\n",
       "}}\n",
       "\n",
       "// Listen for the clearing of the current output cell\n",
       "var outputEl = gd.closest('.output');\n",
       "if (outputEl) {{\n",
       "    x.observe(outputEl, {childList: true});\n",
       "}}\n",
       "\n",
       "                        })                };                });            </script>        </div>"
      ]
     },
     "metadata": {},
     "output_type": "display_data"
    }
   ],
   "source": [
    "\n",
    "trace = go.Bar(x = data['Plant Name'], y= data['Season'],\n",
    "                  name ='Rounds Won')\n",
    "layout = go.Layout(title='PUBG Wins vs Rounds Played',\n",
    "                   plot_bgcolor='rgb(230, 230,230)', \n",
    "                   showlegend=True)\n",
    "fig = go.Figure(data=[trace], layout=layout)\n",
    "\n",
    "iplot(fig, filename='test')"
   ]
  },
  {
   "cell_type": "code",
   "execution_count": 8,
   "metadata": {},
   "outputs": [
    {
     "data": {
      "image/png": "[encoded data removed]",
      "text/plain": [
       "<Figure size 432x288 with 1 Axes>"
      ]
     },
     "metadata": {
      "needs_background": "light"
     },
     "output_type": "display_data"
    }
   ],
   "source": [
    "plot = data[\"Season\"].value_counts()\n",
    "plot.plot(kind = \"bar\")\n",
    "plt.xlabel('Season')\n",
    "plt.xticks(rotation=90)\n",
    "plt.ylabel('flower types')\n",
    "plt.show()"
   ]
  },
  {
   "cell_type": "code",
   "execution_count": 22,
   "metadata": {},
   "outputs": [
    {
     "data": {
      "image/png": "[encoded data removed]",
      "text/plain": [
       "<Figure size 432x288 with 1 Axes>"
      ]
     },
     "metadata": {},
     "output_type": "display_data"
    }
   ],
   "source": [
    "pie = data[\"Features\"].value_counts()\n",
    "pie.plot(kind = \"pie\", autopct = \"%1.1f%%\")\n",
    "plt.show()"
   ]
  },
  {
   "cell_type": "code",
   "execution_count": 19,
   "metadata": {},
   "outputs": [
    {
     "data": {
      "image/png": "[encoded data removed]",
      "text/plain": [
       "<Figure size 432x288 with 1 Axes>"
      ]
     },
     "metadata": {
      "needs_background": "light"
     },
     "output_type": "display_data"
    }
   ],
   "source": [
    "plot = data[\"Features\"].value_counts()\n",
    "plot.plot(kind = \"bar\")\n",
    "plt.xlabel('Season')\n",
    "plt.xticks(rotation=90)\n",
    "plt.ylabel('flower types')\n",
    "plt.show()"
   ]
  },
  {
   "cell_type": "code",
   "execution_count": null,
   "metadata": {},
   "outputs": [],
   "source": []
  }
 ],
 "metadata": {
  "kernelspec": {
   "display_name": "Python 3",
   "language": "python",
   "name": "python3"
  },
  "language_info": {
   "codemirror_mode": {
    "name": "ipython",
    "version": 3
   },
   "file_extension": ".py",
   "mimetype": "text/x-python",
   "name": "python",
   "nbconvert_exporter": "python",
   "pygments_lexer": "ipython3",
   "version": "3.7.6"
  }
 },
 "nbformat": 4,
 "nbformat_minor": 4
}
